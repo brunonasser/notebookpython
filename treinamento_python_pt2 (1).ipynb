{
 "cells": [
  {
   "cell_type": "markdown",
   "metadata": {},
   "source": [
    "# Treinamento Python - pt2\n",
    "\n",
    "<br>\n",
    "\n",
    "Falaremos dos seguintes pontos:\n",
    "\n",
    "* teamcapcodes \n",
    "    * estrutura geral\n",
    "    * análise de \"bivariadas\"\n",
    "* Sklearn\n",
    "    * estrutura geral do pacote\n",
    "    * transformers\n",
    "    * Classificadores\n",
    "    * Avaliação de modelos\n",
    "    * Funções auxiliares para fluxo de treino/avaliação de modelos\n",
    "* statsmodels [https://www.statsmodels.org/stable/index.html] (modelagem estatística)\n",
    "    \n",
    "Para replicação, é necessária a instalação dos seguintes pacotes via pip: numpy, pandas, matplotlib, getpass, sklearn, category_encoders. Além desses, o teamcapcodes será enviado via arquivo zipado para instalação."
   ]
  },
  {
   "cell_type": "code",
   "execution_count": 1,
   "metadata": {
    "ExecuteTime": {
     "end_time": "2020-04-30T14:49:39.409503Z",
     "start_time": "2020-04-30T14:49:38.064194Z"
    }
   },
   "outputs": [],
   "source": [
    "import re\n",
    "import numpy as np\n",
    "import pandas as pd\n",
    "import matplotlib.pyplot as plt\n",
    "import teamcapcodes as tcc\n",
    "\n",
    "from getpass import getpass\n",
    "from inspect import getsource"
   ]
  },
  {
   "cell_type": "markdown",
   "metadata": {},
   "source": [
    "# Base Santander"
   ]
  },
  {
   "cell_type": "code",
   "execution_count": 2,
   "metadata": {
    "ExecuteTime": {
     "end_time": "2020-04-30T14:49:42.651658Z",
     "start_time": "2020-04-30T14:49:39.411492Z"
    }
   },
   "outputs": [
    {
     "name": "stdout",
     "output_type": "stream",
     "text": [
      "········\n"
     ]
    }
   ],
   "source": [
    "con = tcc.getConn('eric.barbosa', getpass())"
   ]
  },
  {
   "cell_type": "code",
   "execution_count": 3,
   "metadata": {
    "ExecuteTime": {
     "end_time": "2020-04-30T14:49:52.656955Z",
     "start_time": "2020-04-30T14:49:42.652659Z"
    }
   },
   "outputs": [],
   "source": [
    "df = pd.read_sql('''\n",
    "    select \n",
    "        * \n",
    "    from est_report.o2o.dm_pedidos_o2o_financeiras\n",
    "    where\n",
    "        entidade_id in (109879, 109186, 109835)\n",
    "        and grupo_controle = 1\n",
    "        and status_id_atual in (9,10,22)\n",
    "        and year(pedido_data) = 2020 \n",
    "        and month(pedido_data) = 3\n",
    "''', con)"
   ]
  },
  {
   "cell_type": "code",
   "execution_count": 4,
   "metadata": {
    "ExecuteTime": {
     "end_time": "2020-04-30T14:49:52.691952Z",
     "start_time": "2020-04-30T14:49:52.658955Z"
    }
   },
   "outputs": [
    {
     "name": "stdout",
     "output_type": "stream",
     "text": [
      "(16803, 91)\n"
     ]
    },
    {
     "data": {
      "text/html": [
       "<div>\n",
       "<style scoped>\n",
       "    .dataframe tbody tr th:only-of-type {\n",
       "        vertical-align: middle;\n",
       "    }\n",
       "\n",
       "    .dataframe tbody tr th {\n",
       "        vertical-align: top;\n",
       "    }\n",
       "\n",
       "    .dataframe thead th {\n",
       "        text-align: right;\n",
       "    }\n",
       "</style>\n",
       "<table border=\"1\" class=\"dataframe\">\n",
       "  <thead>\n",
       "    <tr style=\"text-align: right;\">\n",
       "      <th></th>\n",
       "      <th>pedido_id</th>\n",
       "      <th>pedido_codigo_entidade</th>\n",
       "      <th>entidade_id</th>\n",
       "      <th>entidade_nome</th>\n",
       "      <th>pessoa_nome</th>\n",
       "      <th>pedido_origem</th>\n",
       "      <th>pedido_origem2</th>\n",
       "      <th>pedido_obs</th>\n",
       "      <th>contabilizado_cs</th>\n",
       "      <th>pedido_registro</th>\n",
       "      <th>...</th>\n",
       "      <th>escolaridade</th>\n",
       "      <th>nome_da_mae</th>\n",
       "      <th>token_email</th>\n",
       "      <th>token_sms</th>\n",
       "      <th>variavel_resposta</th>\n",
       "      <th>cbk</th>\n",
       "      <th>patrimonio</th>\n",
       "      <th>versao_dm</th>\n",
       "      <th>data_marcacao_cbk</th>\n",
       "      <th>data_marcacao_var</th>\n",
       "    </tr>\n",
       "  </thead>\n",
       "  <tbody>\n",
       "    <tr>\n",
       "      <th>0</th>\n",
       "      <td>732606376.0</td>\n",
       "      <td>62055003222156689</td>\n",
       "      <td>109186.0</td>\n",
       "      <td>SantanderContas</td>\n",
       "      <td>ANGELA REGINA PEREIRA FERREIRA</td>\n",
       "      <td>None</td>\n",
       "      <td>None</td>\n",
       "      <td>None</td>\n",
       "      <td>1</td>\n",
       "      <td>2018-01-09 08:59:21.193</td>\n",
       "      <td>...</td>\n",
       "      <td>ENSINO MEDIO/TECNICO INCOMPLETO</td>\n",
       "      <td>Maria Patrocina Alves da Silva</td>\n",
       "      <td>None</td>\n",
       "      <td>None</td>\n",
       "      <td>0</td>\n",
       "      <td>0</td>\n",
       "      <td>0</td>\n",
       "      <td>2020-03-08 07:12:45.517</td>\n",
       "      <td>None</td>\n",
       "      <td>NaT</td>\n",
       "    </tr>\n",
       "    <tr>\n",
       "      <th>1</th>\n",
       "      <td>847735763.0</td>\n",
       "      <td>222341535341129890</td>\n",
       "      <td>109186.0</td>\n",
       "      <td>SantanderContas</td>\n",
       "      <td>FABIANO PEREIRA</td>\n",
       "      <td>None</td>\n",
       "      <td>None</td>\n",
       "      <td>None</td>\n",
       "      <td>1</td>\n",
       "      <td>2018-08-29 20:29:23.990</td>\n",
       "      <td>...</td>\n",
       "      <td>ENSINO MEDIO/TECNICO COMPLETO</td>\n",
       "      <td>Neuza Gonçalves</td>\n",
       "      <td>None</td>\n",
       "      <td>None</td>\n",
       "      <td>0</td>\n",
       "      <td>0</td>\n",
       "      <td>60000</td>\n",
       "      <td>2020-03-04 09:33:22.623</td>\n",
       "      <td>None</td>\n",
       "      <td>NaT</td>\n",
       "    </tr>\n",
       "  </tbody>\n",
       "</table>\n",
       "<p>2 rows × 91 columns</p>\n",
       "</div>"
      ],
      "text/plain": [
       "     pedido_id pedido_codigo_entidade  entidade_id    entidade_nome  \\\n",
       "0  732606376.0      62055003222156689     109186.0  SantanderContas   \n",
       "1  847735763.0     222341535341129890     109186.0  SantanderContas   \n",
       "\n",
       "                      pessoa_nome pedido_origem pedido_origem2 pedido_obs  \\\n",
       "0  ANGELA REGINA PEREIRA FERREIRA          None           None       None   \n",
       "1                 FABIANO PEREIRA          None           None       None   \n",
       "\n",
       "   contabilizado_cs         pedido_registro  ...  \\\n",
       "0                 1 2018-01-09 08:59:21.193  ...   \n",
       "1                 1 2018-08-29 20:29:23.990  ...   \n",
       "\n",
       "                      escolaridade                     nome_da_mae  \\\n",
       "0  ENSINO MEDIO/TECNICO INCOMPLETO  Maria Patrocina Alves da Silva   \n",
       "1    ENSINO MEDIO/TECNICO COMPLETO                 Neuza Gonçalves   \n",
       "\n",
       "   token_email token_sms variavel_resposta  cbk patrimonio  \\\n",
       "0         None      None                 0    0          0   \n",
       "1         None      None                 0    0      60000   \n",
       "\n",
       "                versao_dm data_marcacao_cbk data_marcacao_var  \n",
       "0 2020-03-08 07:12:45.517              None               NaT  \n",
       "1 2020-03-04 09:33:22.623              None               NaT  \n",
       "\n",
       "[2 rows x 91 columns]"
      ]
     },
     "execution_count": 4,
     "metadata": {},
     "output_type": "execute_result"
    }
   ],
   "source": [
    "df.columns = df.columns.str.lower()\n",
    "print(df.shape)\n",
    "df.head(2)"
   ]
  },
  {
   "cell_type": "code",
   "execution_count": 5,
   "metadata": {
    "ExecuteTime": {
     "end_time": "2020-04-30T14:49:52.792617Z",
     "start_time": "2020-04-30T14:49:52.693955Z"
    },
    "scrolled": true
   },
   "outputs": [
    {
     "name": "stdout",
     "output_type": "stream",
     "text": [
      "<class 'pandas.core.frame.DataFrame'>\n",
      "RangeIndex: 16803 entries, 0 to 16802\n",
      "Data columns (total 91 columns):\n",
      "pedido_id                         16803 non-null float64\n",
      "pedido_codigo_entidade            16803 non-null object\n",
      "entidade_id                       16803 non-null float64\n",
      "entidade_nome                     16803 non-null object\n",
      "pessoa_nome                       16799 non-null object\n",
      "pedido_origem                     12757 non-null object\n",
      "pedido_origem2                    2908 non-null object\n",
      "pedido_obs                        2907 non-null object\n",
      "contabilizado_cs                  16803 non-null int64\n",
      "pedido_registro                   16803 non-null datetime64[ns]\n",
      "pedido_data                       16803 non-null datetime64[ns]\n",
      "cpf_cnpj                          16803 non-null object\n",
      "situacao_cadastral_id             15720 non-null float64\n",
      "pessoa_nascimento                 16803 non-null datetime64[ns]\n",
      "pessoa_sexo                       16600 non-null object\n",
      "cpf_cnpj_conhecido                16803 non-null bool\n",
      "pedido_email                      16791 non-null object\n",
      "pedido_ip                         0 non-null object\n",
      "device_id                         13342 non-null object\n",
      "tipo_device                       12228 non-null object\n",
      "sistema_device                    12228 non-null object\n",
      "datafinalização                   16803 non-null datetime64[ns]\n",
      "status_id_atual                   16803 non-null float64\n",
      "substatus_atual                   16763 non-null object\n",
      "status_id_finalizacao             16803 non-null int64\n",
      "substatus_finalizacao             13798 non-null object\n",
      "fila_de_derivacao                 16803 non-null float64\n",
      "fila_finalizacao                  16803 non-null int64\n",
      "fila_atual                        16803 non-null float64\n",
      "reanalise                         16803 non-null int64\n",
      "acao_analise_grupo                16803 non-null int64\n",
      "ostensiva_bloqueio                16803 non-null int64\n",
      "ostensiva_aprovacao               16803 non-null int64\n",
      "end_hash_cobranca                 16801 non-null object\n",
      "end_hash_entrega                  16801 non-null object\n",
      "end_cep_cobranca                  16801 non-null object\n",
      "end_cep_entrega                   16801 non-null object\n",
      "end_cidade_cobranca               16801 non-null object\n",
      "end_cidade_entrega                16801 non-null object\n",
      "end_uf_cobranca                   16801 non-null object\n",
      "end_uf_entrega                    16801 non-null object\n",
      "regiao_cobranca                   16801 non-null object\n",
      "regiao_entrega                    16801 non-null object\n",
      "tel_ddd_cobranca                  16799 non-null object\n",
      "tel_ddd_entrega                   13848 non-null object\n",
      "tel_numero_cobranca               16799 non-null object\n",
      "tel_numero_entrega                13848 non-null object\n",
      "lojaid                            2907 non-null object\n",
      "cidadeloja                        2907 non-null object\n",
      "vendedor                          0 non-null object\n",
      "grupo_controle                    16803 non-null int64\n",
      "uf_ddd_divergente_uf_end          16803 non-null int64\n",
      "uf_cpf_divergente_uf_end          16803 non-null int64\n",
      "tipo_decisao                      16803 non-null int64\n",
      "idade                             16803 non-null float64\n",
      "pessoa_fj                         2908 non-null float64\n",
      "tempo_analise                     16803 non-null float64\n",
      "usuario_id                        16803 non-null int64\n",
      "usuario_login                     16803 non-null object\n",
      "produto                           12757 non-null object\n",
      "plano_produto                     13893 non-null object\n",
      "canal                             16803 non-null object\n",
      "profissao                         13875 non-null object\n",
      "tipo_ocupacao                     13877 non-null object\n",
      "renda                             13911 non-null object\n",
      "limitecredito                     0 non-null object\n",
      "campanha                          7517 non-null object\n",
      "bandeira                          0 non-null object\n",
      "correntista                       12757 non-null object\n",
      "acao_sms                          16803 non-null int64\n",
      "pedido_score                      16803 non-null float64\n",
      "modelo_id                         16803 non-null float64\n",
      "analise_id                        16803 non-null float64\n",
      "mp_telcobrancaendcobranca         16803 non-null int64\n",
      "mp_telcobrancaendentrega          16803 non-null int64\n",
      "mp_telcobrancaendqualquer         16803 non-null int64\n",
      "mp_telqualquerendentrega          16803 non-null int64\n",
      "mp_telqualquerendqualquer         16803 non-null int64\n",
      "alerta                            16803 non-null int64\n",
      "conhecido_cpf_cnpj_financeiras    16803 non-null int64\n",
      "quantidade_de_reanalises          16803 non-null int64\n",
      "escolaridade                      13892 non-null object\n",
      "nome_da_mae                       16600 non-null object\n",
      "token_email                       0 non-null object\n",
      "token_sms                         0 non-null object\n",
      "variavel_resposta                 16803 non-null int64\n",
      "cbk                               16803 non-null int64\n",
      "patrimonio                        13893 non-null object\n",
      "versao_dm                         16803 non-null datetime64[ns]\n",
      "data_marcacao_cbk                 0 non-null object\n",
      "data_marcacao_var                 56 non-null datetime64[ns]\n",
      "dtypes: bool(1), datetime64[ns](6), float64(12), int64(23), object(49)\n",
      "memory usage: 11.6+ MB\n"
     ]
    }
   ],
   "source": [
    "df.info()"
   ]
  },
  {
   "cell_type": "code",
   "execution_count": 6,
   "metadata": {
    "ExecuteTime": {
     "end_time": "2020-04-30T14:49:53.114586Z",
     "start_time": "2020-04-30T14:49:52.793617Z"
    }
   },
   "outputs": [
    {
     "name": "stdout",
     "output_type": "stream",
     "text": [
      "Distribuição da flag de fraude por entidade:\n"
     ]
    },
    {
     "data": {
      "text/html": [
       "<div>\n",
       "<style scoped>\n",
       "    .dataframe tbody tr th:only-of-type {\n",
       "        vertical-align: middle;\n",
       "    }\n",
       "\n",
       "    .dataframe tbody tr th {\n",
       "        vertical-align: top;\n",
       "    }\n",
       "\n",
       "    .dataframe thead th {\n",
       "        text-align: right;\n",
       "    }\n",
       "</style>\n",
       "<table border=\"1\" class=\"dataframe\">\n",
       "  <thead>\n",
       "    <tr style=\"text-align: right;\">\n",
       "      <th></th>\n",
       "      <th></th>\n",
       "      <th>y</th>\n",
       "    </tr>\n",
       "    <tr>\n",
       "      <th>entidade_nome</th>\n",
       "      <th>y</th>\n",
       "      <th></th>\n",
       "    </tr>\n",
       "  </thead>\n",
       "  <tbody>\n",
       "    <tr>\n",
       "      <th rowspan=\"2\" valign=\"top\">SantanderCartoesWay</th>\n",
       "      <th>0</th>\n",
       "      <td>90.49</td>\n",
       "    </tr>\n",
       "    <tr>\n",
       "      <th>1</th>\n",
       "      <td>9.51</td>\n",
       "    </tr>\n",
       "    <tr>\n",
       "      <th rowspan=\"2\" valign=\"top\">SantanderContas</th>\n",
       "      <th>0</th>\n",
       "      <td>96.09</td>\n",
       "    </tr>\n",
       "    <tr>\n",
       "      <th>1</th>\n",
       "      <td>3.91</td>\n",
       "    </tr>\n",
       "    <tr>\n",
       "      <th rowspan=\"2\" valign=\"top\">SantanderFinanciamentos</th>\n",
       "      <th>0</th>\n",
       "      <td>95.12</td>\n",
       "    </tr>\n",
       "    <tr>\n",
       "      <th>1</th>\n",
       "      <td>4.88</td>\n",
       "    </tr>\n",
       "  </tbody>\n",
       "</table>\n",
       "</div>"
      ],
      "text/plain": [
       "                               y\n",
       "entidade_nome           y       \n",
       "SantanderCartoesWay     0  90.49\n",
       "                        1   9.51\n",
       "SantanderContas         0  96.09\n",
       "                        1   3.91\n",
       "SantanderFinanciamentos 0  95.12\n",
       "                        1   4.88"
      ]
     },
     "execution_count": 6,
     "metadata": {},
     "output_type": "execute_result"
    }
   ],
   "source": [
    "# criando variável resposta APV vs FRD ou SUS\n",
    "\n",
    "df['anomes'] = df['pedido_data'].dt.strftime('%d/%m')\n",
    "df['y'] = df['status_id_atual'].map(lambda x: 0 if x == 9 else 1)\n",
    "\n",
    "print('Distribuição da flag de fraude por entidade:')\n",
    "(100 * df.groupby(['entidade_nome']).y.value_counts(normalize=True).to_frame()).round(2)"
   ]
  },
  {
   "cell_type": "markdown",
   "metadata": {},
   "source": [
    "# teamcapcodes as tcc\n",
    "\n",
    "Temos 3 módulos:\n",
    "\n",
    "* tcc - contém a classe para análise de \"bivariada\" statisticalVariable\n",
    "* tcc.utils - funções auxiliares\n",
    "* tcc.posmod - funções para avaliação de modelos"
   ]
  },
  {
   "cell_type": "markdown",
   "metadata": {},
   "source": [
    "## Análise bivariada\n",
    "\n",
    "Com base na variável resposta 'y', queremos ver o risco relativo de fraude para diferentes situações de uma variável. \n",
    "\n",
    "Vamos analisar primeiro a variável já disponibilizada na tabela: `mp_telqualquerendqualquer`, e depois uma análise da `escolaridade`"
   ]
  },
  {
   "cell_type": "markdown",
   "metadata": {},
   "source": [
    "### MP"
   ]
  },
  {
   "cell_type": "code",
   "execution_count": 7,
   "metadata": {
    "ExecuteTime": {
     "end_time": "2020-04-30T14:49:53.126611Z",
     "start_time": "2020-04-30T14:49:53.116590Z"
    }
   },
   "outputs": [
    {
     "data": {
      "text/plain": [
       "0       11706\n",
       "1         334\n",
       "2         640\n",
       "3         513\n",
       "4           1\n",
       "12        420\n",
       "13        393\n",
       "14          2\n",
       "23       1053\n",
       "24          3\n",
       "34          4\n",
       "123      1496\n",
       "124        13\n",
       "134        11\n",
       "234        67\n",
       "1234      147\n",
       "Name: mp_telqualquerendqualquer, dtype: int64"
      ]
     },
     "execution_count": 7,
     "metadata": {},
     "output_type": "execute_result"
    }
   ],
   "source": [
    "df['mp_telqualquerendqualquer'].value_counts(dropna=False).sort_index()"
   ]
  },
  {
   "cell_type": "code",
   "execution_count": 8,
   "metadata": {
    "ExecuteTime": {
     "end_time": "2020-04-30T14:49:53.146654Z",
     "start_time": "2020-04-30T14:49:53.128616Z"
    }
   },
   "outputs": [],
   "source": [
    "df['mp_telend'] = df['mp_telqualquerendqualquer'].map(lambda x: 1 if x > 0 else 0)"
   ]
  },
  {
   "cell_type": "code",
   "execution_count": 110,
   "metadata": {
    "ExecuteTime": {
     "end_time": "2020-04-30T19:45:10.678208Z",
     "start_time": "2020-04-30T19:45:10.666198Z"
    }
   },
   "outputs": [],
   "source": [
    "sv = tcc.statisticalVariable(\n",
    "    data=df,\n",
    "    categories='mp_telend', # variavel a ser analisada\n",
    "    status='y',\n",
    "    time=None, # coluna de tempo/safra para análise longitudinal\n",
    "    groups=[], # coluna(s) de agrupamento da análise\n",
    "    statusCustom=None, # se 'status' já é 0/1, pode ignorar esse parametro\n",
    ")"
   ]
  },
  {
   "cell_type": "code",
   "execution_count": 111,
   "metadata": {
    "ExecuteTime": {
     "end_time": "2020-04-30T19:45:40.630153Z",
     "start_time": "2020-04-30T19:45:40.563010Z"
    }
   },
   "outputs": [
    {
     "data": {
      "text/html": [
       "<style  type=\"text/css\" >\n",
       "    #T_2bf79a0c_8b1b_11ea_938e_f403434e87bfrow0_col4 {\n",
       "            width:  10em;\n",
       "             height:  80%;\n",
       "            background:  linear-gradient(90deg,#7c1952 50.0%, transparent 50.0%);\n",
       "        }    #T_2bf79a0c_8b1b_11ea_938e_f403434e87bfrow0_col6 {\n",
       "            width:  10em;\n",
       "             height:  80%;\n",
       "            background:  linear-gradient(90deg,yellow 50.0%, transparent 50.0%);\n",
       "        }    #T_2bf79a0c_8b1b_11ea_938e_f403434e87bfrow0_col7 {\n",
       "            width:  10em;\n",
       "             height:  80%;\n",
       "            background:  linear-gradient(90deg,#DF0101 50.0%, transparent 50.0%);\n",
       "        }    #T_2bf79a0c_8b1b_11ea_938e_f403434e87bfrow0_col8 {\n",
       "            width:  10em;\n",
       "             height:  80%;\n",
       "            background:  linear-gradient(90deg, transparent 41.1%, #Faa519 41.1%, #Faa519 50.0%, transparent 50.0%);\n",
       "        }    #T_2bf79a0c_8b1b_11ea_938e_f403434e87bfrow1_col4 {\n",
       "            width:  10em;\n",
       "             height:  80%;\n",
       "            background:  linear-gradient(90deg,#7c1952 21.8%, transparent 21.8%);\n",
       "        }    #T_2bf79a0c_8b1b_11ea_938e_f403434e87bfrow1_col6 {\n",
       "            width:  10em;\n",
       "             height:  80%;\n",
       "            background:  linear-gradient(90deg,yellow 4.3%, transparent 4.3%);\n",
       "        }    #T_2bf79a0c_8b1b_11ea_938e_f403434e87bfrow1_col7 {\n",
       "            width:  10em;\n",
       "             height:  80%;\n",
       "            background:  linear-gradient(90deg,#DF0101 9.8%, transparent 9.8%);\n",
       "        }    #T_2bf79a0c_8b1b_11ea_938e_f403434e87bfrow1_col8 {\n",
       "            width:  10em;\n",
       "             height:  80%;\n",
       "            background:  linear-gradient(90deg,#Faa519 41.1%, transparent 41.1%);\n",
       "        }</style><table id=\"T_2bf79a0c_8b1b_11ea_938e_f403434e87bf\" ><caption>Bivariada para categorias de \"mp_telend\"</caption><thead>    <tr>        <th class=\"blank level0\" ></th>        <th class=\"col_heading level0 col0\" >Variavel</th>        <th class=\"col_heading level0 col1\" >Group</th>        <th class=\"col_heading level0 col2\" >Category</th>        <th class=\"col_heading level0 col3\" >Total</th>        <th class=\"col_heading level0 col4\" >proporcao</th>        <th class=\"col_heading level0 col5\" >Y</th>        <th class=\"col_heading level0 col6\" >proporcaoMaus</th>        <th class=\"col_heading level0 col7\" >txY</th>        <th class=\"col_heading level0 col8\" >WoE</th>        <th class=\"col_heading level0 col9\" >IV</th>    </tr></thead><tbody>\n",
       "                <tr>\n",
       "                        <th id=\"T_2bf79a0c_8b1b_11ea_938e_f403434e87bflevel0_row0\" class=\"row_heading level0 row0\" >0</th>\n",
       "                        <td id=\"T_2bf79a0c_8b1b_11ea_938e_f403434e87bfrow0_col0\" class=\"data row0 col0\" >mp_telend</td>\n",
       "                        <td id=\"T_2bf79a0c_8b1b_11ea_938e_f403434e87bfrow0_col1\" class=\"data row0 col1\" >Geral</td>\n",
       "                        <td id=\"T_2bf79a0c_8b1b_11ea_938e_f403434e87bfrow0_col2\" class=\"data row0 col2\" >0</td>\n",
       "                        <td id=\"T_2bf79a0c_8b1b_11ea_938e_f403434e87bfrow0_col3\" class=\"data row0 col3\" >11706</td>\n",
       "                        <td id=\"T_2bf79a0c_8b1b_11ea_938e_f403434e87bfrow0_col4\" class=\"data row0 col4\" >69.67%</td>\n",
       "                        <td id=\"T_2bf79a0c_8b1b_11ea_938e_f403434e87bfrow0_col5\" class=\"data row0 col5\" >1140</td>\n",
       "                        <td id=\"T_2bf79a0c_8b1b_11ea_938e_f403434e87bfrow0_col6\" class=\"data row0 col6\" >92.16%</td>\n",
       "                        <td id=\"T_2bf79a0c_8b1b_11ea_938e_f403434e87bfrow0_col7\" class=\"data row0 col7\" >9.74%</td>\n",
       "                        <td id=\"T_2bf79a0c_8b1b_11ea_938e_f403434e87bfrow0_col8\" class=\"data row0 col8\" >0.31</td>\n",
       "                        <td id=\"T_2bf79a0c_8b1b_11ea_938e_f403434e87bfrow0_col9\" class=\"data row0 col9\" >0.07</td>\n",
       "            </tr>\n",
       "            <tr>\n",
       "                        <th id=\"T_2bf79a0c_8b1b_11ea_938e_f403434e87bflevel0_row1\" class=\"row_heading level0 row1\" >1</th>\n",
       "                        <td id=\"T_2bf79a0c_8b1b_11ea_938e_f403434e87bfrow1_col0\" class=\"data row1 col0\" >mp_telend</td>\n",
       "                        <td id=\"T_2bf79a0c_8b1b_11ea_938e_f403434e87bfrow1_col1\" class=\"data row1 col1\" >Geral</td>\n",
       "                        <td id=\"T_2bf79a0c_8b1b_11ea_938e_f403434e87bfrow1_col2\" class=\"data row1 col2\" >1</td>\n",
       "                        <td id=\"T_2bf79a0c_8b1b_11ea_938e_f403434e87bfrow1_col3\" class=\"data row1 col3\" >5097</td>\n",
       "                        <td id=\"T_2bf79a0c_8b1b_11ea_938e_f403434e87bfrow1_col4\" class=\"data row1 col4\" >30.33%</td>\n",
       "                        <td id=\"T_2bf79a0c_8b1b_11ea_938e_f403434e87bfrow1_col5\" class=\"data row1 col5\" >97</td>\n",
       "                        <td id=\"T_2bf79a0c_8b1b_11ea_938e_f403434e87bfrow1_col6\" class=\"data row1 col6\" >7.84%</td>\n",
       "                        <td id=\"T_2bf79a0c_8b1b_11ea_938e_f403434e87bfrow1_col7\" class=\"data row1 col7\" >1.90%</td>\n",
       "                        <td id=\"T_2bf79a0c_8b1b_11ea_938e_f403434e87bfrow1_col8\" class=\"data row1 col8\" >-1.41</td>\n",
       "                        <td id=\"T_2bf79a0c_8b1b_11ea_938e_f403434e87bfrow1_col9\" class=\"data row1 col9\" >0.34</td>\n",
       "            </tr>\n",
       "    </tbody></table>"
      ],
      "text/plain": [
       "<pandas.io.formats.style.Styler at 0x231e1032e10>"
      ]
     },
     "metadata": {},
     "output_type": "display_data"
    }
   ],
   "source": [
    "sv.bivariadaTable()"
   ]
  },
  {
   "cell_type": "markdown",
   "metadata": {},
   "source": [
    "Agora, inicializando com estratos:"
   ]
  },
  {
   "cell_type": "code",
   "execution_count": 113,
   "metadata": {
    "ExecuteTime": {
     "end_time": "2020-04-30T19:48:25.267240Z",
     "start_time": "2020-04-30T19:48:25.249708Z"
    }
   },
   "outputs": [],
   "source": [
    "sv = tcc.statisticalVariable(\n",
    "    data=df,\n",
    "    categories='mp_telend', # variavel a ser analisada\n",
    "    status='y',\n",
    "    time=None, # coluna de tempo/safra para análise longitudinal\n",
    "    groups=['entidade_nome'], # coluna(s) de agrupamento da análise\n",
    "    statusCustom=None, # se 'status' já é 0/1, pode ignorar esse parametro\n",
    ")"
   ]
  },
  {
   "cell_type": "code",
   "execution_count": 114,
   "metadata": {
    "ExecuteTime": {
     "end_time": "2020-04-30T19:48:26.887244Z",
     "start_time": "2020-04-30T19:48:26.513157Z"
    }
   },
   "outputs": [
    {
     "data": {
      "text/html": [
       "<style  type=\"text/css\" >\n",
       "    #T_8f103224_8b1b_11ea_a626_f403434e87bfrow0_col4 {\n",
       "            width:  10em;\n",
       "             height:  80%;\n",
       "            background:  linear-gradient(90deg,#7c1952 49.1%, transparent 49.1%);\n",
       "        }    #T_8f103224_8b1b_11ea_a626_f403434e87bfrow0_col6 {\n",
       "            width:  10em;\n",
       "             height:  80%;\n",
       "            background:  linear-gradient(90deg,yellow 50.0%, transparent 50.0%);\n",
       "        }    #T_8f103224_8b1b_11ea_a626_f403434e87bfrow0_col7 {\n",
       "            width:  10em;\n",
       "             height:  80%;\n",
       "            background:  linear-gradient(90deg,#DF0101 50.0%, transparent 50.0%);\n",
       "        }    #T_8f103224_8b1b_11ea_a626_f403434e87bfrow0_col8 {\n",
       "            width:  10em;\n",
       "             height:  80%;\n",
       "            background:  linear-gradient(90deg, transparent 40.8%, #Faa519 40.8%, #Faa519 48.0%, transparent 48.0%);\n",
       "        }    #T_8f103224_8b1b_11ea_a626_f403434e87bfrow1_col4 {\n",
       "            width:  10em;\n",
       "             height:  80%;\n",
       "            background:  linear-gradient(90deg,#7c1952 18.6%, transparent 18.6%);\n",
       "        }    #T_8f103224_8b1b_11ea_a626_f403434e87bfrow1_col6 {\n",
       "            width:  10em;\n",
       "             height:  80%;\n",
       "            background:  linear-gradient(90deg,yellow 2.9%, transparent 2.9%);\n",
       "        }    #T_8f103224_8b1b_11ea_a626_f403434e87bfrow1_col7 {\n",
       "            width:  10em;\n",
       "             height:  80%;\n",
       "            background:  linear-gradient(90deg,#DF0101 7.7%, transparent 7.7%);\n",
       "        }    #T_8f103224_8b1b_11ea_a626_f403434e87bfrow1_col8 {\n",
       "            width:  10em;\n",
       "             height:  80%;\n",
       "            background:  linear-gradient(90deg,#Faa519 40.8%, transparent 40.8%);\n",
       "        }    #T_8f103224_8b1b_11ea_a626_f403434e87bfrow2_col4 {\n",
       "            width:  10em;\n",
       "             height:  80%;\n",
       "            background:  linear-gradient(90deg,#7c1952 50.0%, transparent 50.0%);\n",
       "        }    #T_8f103224_8b1b_11ea_a626_f403434e87bfrow2_col6 {\n",
       "            width:  10em;\n",
       "             height:  80%;\n",
       "            background:  linear-gradient(90deg,yellow 48.6%, transparent 48.6%);\n",
       "        }    #T_8f103224_8b1b_11ea_a626_f403434e87bfrow2_col7 {\n",
       "            width:  10em;\n",
       "             height:  80%;\n",
       "            background:  linear-gradient(90deg,#DF0101 19.6%, transparent 19.6%);\n",
       "        }    #T_8f103224_8b1b_11ea_a626_f403434e87bfrow2_col8 {\n",
       "            width:  10em;\n",
       "             height:  80%;\n",
       "            background:  linear-gradient(90deg, transparent 40.8%, #Faa519 40.8%, #Faa519 46.4%, transparent 46.4%);\n",
       "        }    #T_8f103224_8b1b_11ea_a626_f403434e87bfrow3_col4 {\n",
       "            width:  10em;\n",
       "             height:  80%;\n",
       "            background:  linear-gradient(90deg,#7c1952 17.7%, transparent 17.7%);\n",
       "        }    #T_8f103224_8b1b_11ea_a626_f403434e87bfrow3_col6 {\n",
       "            width:  10em;\n",
       "             height:  80%;\n",
       "            background:  linear-gradient(90deg,yellow 4.4%, transparent 4.4%);\n",
       "        }    #T_8f103224_8b1b_11ea_a626_f403434e87bfrow3_col7 {\n",
       "            width:  10em;\n",
       "             height:  80%;\n",
       "            background:  linear-gradient(90deg,#DF0101 5.0%, transparent 5.0%);\n",
       "        }    #T_8f103224_8b1b_11ea_a626_f403434e87bfrow3_col8 {\n",
       "            width:  10em;\n",
       "             height:  80%;\n",
       "            background:  linear-gradient(90deg, transparent 12.1%, #Faa519 12.1%, #Faa519 40.8%, transparent 40.8%);\n",
       "        }    #T_8f103224_8b1b_11ea_a626_f403434e87bfrow4_col4 {\n",
       "            width:  10em;\n",
       "             height:  80%;\n",
       "            background:  linear-gradient(90deg,#7c1952 36.8%, transparent 36.8%);\n",
       "        }    #T_8f103224_8b1b_11ea_a626_f403434e87bfrow4_col6 {\n",
       "            width:  10em;\n",
       "             height:  80%;\n",
       "            background:  linear-gradient(90deg,yellow 41.0%, transparent 41.0%);\n",
       "        }    #T_8f103224_8b1b_11ea_a626_f403434e87bfrow4_col7 {\n",
       "            width:  10em;\n",
       "             height:  80%;\n",
       "            background:  linear-gradient(90deg,#DF0101 28.1%, transparent 28.1%);\n",
       "        }    #T_8f103224_8b1b_11ea_a626_f403434e87bfrow4_col8 {\n",
       "            width:  10em;\n",
       "             height:  80%;\n",
       "            background:  linear-gradient(90deg, transparent 40.8%, #Faa519 40.8%, #Faa519 50.0%, transparent 50.0%);\n",
       "        }    #T_8f103224_8b1b_11ea_a626_f403434e87bfrow5_col4 {\n",
       "            width:  10em;\n",
       "             height:  80%;\n",
       "            background:  linear-gradient(90deg,#7c1952 31.0%, transparent 31.0%);\n",
       "        }    #T_8f103224_8b1b_11ea_a626_f403434e87bfrow5_col6 {\n",
       "            width:  10em;\n",
       "             height:  80%;\n",
       "            background:  linear-gradient(90deg,yellow 11.9%, transparent 11.9%);\n",
       "        }    #T_8f103224_8b1b_11ea_a626_f403434e87bfrow5_col7 {\n",
       "            width:  10em;\n",
       "             height:  80%;\n",
       "            background:  linear-gradient(90deg,#DF0101 9.7%, transparent 9.7%);\n",
       "        }    #T_8f103224_8b1b_11ea_a626_f403434e87bfrow5_col8 {\n",
       "            width:  10em;\n",
       "             height:  80%;\n",
       "            background:  linear-gradient(90deg, transparent 23.0%, #Faa519 23.0%, #Faa519 40.8%, transparent 40.8%);\n",
       "        }</style><table id=\"T_8f103224_8b1b_11ea_a626_f403434e87bf\" ><caption>Bivariada para categorias de \"mp_telend\"</caption><thead>    <tr>        <th class=\"blank level0\" ></th>        <th class=\"col_heading level0 col0\" >Variavel</th>        <th class=\"col_heading level0 col1\" >Group</th>        <th class=\"col_heading level0 col2\" >Category</th>        <th class=\"col_heading level0 col3\" >Total</th>        <th class=\"col_heading level0 col4\" >proporcao</th>        <th class=\"col_heading level0 col5\" >Y</th>        <th class=\"col_heading level0 col6\" >proporcaoMaus</th>        <th class=\"col_heading level0 col7\" >txY</th>        <th class=\"col_heading level0 col8\" >WoE</th>        <th class=\"col_heading level0 col9\" >IV</th>    </tr></thead><tbody>\n",
       "                <tr>\n",
       "                        <th id=\"T_8f103224_8b1b_11ea_a626_f403434e87bflevel0_row0\" class=\"row_heading level0 row0\" >0</th>\n",
       "                        <td id=\"T_8f103224_8b1b_11ea_a626_f403434e87bfrow0_col0\" class=\"data row0 col0\" >mp_telend</td>\n",
       "                        <td id=\"T_8f103224_8b1b_11ea_a626_f403434e87bfrow0_col1\" class=\"data row0 col1\" >SantanderCartoesWay</td>\n",
       "                        <td id=\"T_8f103224_8b1b_11ea_a626_f403434e87bfrow0_col2\" class=\"data row0 col2\" >0</td>\n",
       "                        <td id=\"T_8f103224_8b1b_11ea_a626_f403434e87bfrow0_col3\" class=\"data row0 col3\" >7140</td>\n",
       "                        <td id=\"T_8f103224_8b1b_11ea_a626_f403434e87bfrow0_col4\" class=\"data row0 col4\" >72.49%</td>\n",
       "                        <td id=\"T_8f103224_8b1b_11ea_a626_f403434e87bfrow0_col5\" class=\"data row0 col5\" >885</td>\n",
       "                        <td id=\"T_8f103224_8b1b_11ea_a626_f403434e87bfrow0_col6\" class=\"data row0 col6\" >94.45%</td>\n",
       "                        <td id=\"T_8f103224_8b1b_11ea_a626_f403434e87bfrow0_col7\" class=\"data row0 col7\" >12.39%</td>\n",
       "                        <td id=\"T_8f103224_8b1b_11ea_a626_f403434e87bfrow0_col8\" class=\"data row0 col8\" >0.30</td>\n",
       "                        <td id=\"T_8f103224_8b1b_11ea_a626_f403434e87bfrow0_col9\" class=\"data row0 col9\" >0.07</td>\n",
       "            </tr>\n",
       "            <tr>\n",
       "                        <th id=\"T_8f103224_8b1b_11ea_a626_f403434e87bflevel0_row1\" class=\"row_heading level0 row1\" >1</th>\n",
       "                        <td id=\"T_8f103224_8b1b_11ea_a626_f403434e87bfrow1_col0\" class=\"data row1 col0\" >mp_telend</td>\n",
       "                        <td id=\"T_8f103224_8b1b_11ea_a626_f403434e87bfrow1_col1\" class=\"data row1 col1\" >SantanderCartoesWay</td>\n",
       "                        <td id=\"T_8f103224_8b1b_11ea_a626_f403434e87bfrow1_col2\" class=\"data row1 col2\" >1</td>\n",
       "                        <td id=\"T_8f103224_8b1b_11ea_a626_f403434e87bfrow1_col3\" class=\"data row1 col3\" >2709</td>\n",
       "                        <td id=\"T_8f103224_8b1b_11ea_a626_f403434e87bfrow1_col4\" class=\"data row1 col4\" >27.51%</td>\n",
       "                        <td id=\"T_8f103224_8b1b_11ea_a626_f403434e87bfrow1_col5\" class=\"data row1 col5\" >52</td>\n",
       "                        <td id=\"T_8f103224_8b1b_11ea_a626_f403434e87bfrow1_col6\" class=\"data row1 col6\" >5.55%</td>\n",
       "                        <td id=\"T_8f103224_8b1b_11ea_a626_f403434e87bfrow1_col7\" class=\"data row1 col7\" >1.92%</td>\n",
       "                        <td id=\"T_8f103224_8b1b_11ea_a626_f403434e87bfrow1_col8\" class=\"data row1 col8\" >-1.68</td>\n",
       "                        <td id=\"T_8f103224_8b1b_11ea_a626_f403434e87bfrow1_col9\" class=\"data row1 col9\" >0.41</td>\n",
       "            </tr>\n",
       "            <tr>\n",
       "                        <th id=\"T_8f103224_8b1b_11ea_a626_f403434e87bflevel0_row2\" class=\"row_heading level0 row2\" >2</th>\n",
       "                        <td id=\"T_8f103224_8b1b_11ea_a626_f403434e87bfrow2_col0\" class=\"data row2 col0\" >mp_telend</td>\n",
       "                        <td id=\"T_8f103224_8b1b_11ea_a626_f403434e87bfrow2_col1\" class=\"data row2 col1\" >SantanderContas</td>\n",
       "                        <td id=\"T_8f103224_8b1b_11ea_a626_f403434e87bfrow2_col2\" class=\"data row2 col2\" >0</td>\n",
       "                        <td id=\"T_8f103224_8b1b_11ea_a626_f403434e87bfrow2_col3\" class=\"data row2 col3\" >2987</td>\n",
       "                        <td id=\"T_8f103224_8b1b_11ea_a626_f403434e87bfrow2_col4\" class=\"data row2 col4\" >73.83%</td>\n",
       "                        <td id=\"T_8f103224_8b1b_11ea_a626_f403434e87bfrow2_col5\" class=\"data row2 col5\" >145</td>\n",
       "                        <td id=\"T_8f103224_8b1b_11ea_a626_f403434e87bfrow2_col6\" class=\"data row2 col6\" >91.77%</td>\n",
       "                        <td id=\"T_8f103224_8b1b_11ea_a626_f403434e87bfrow2_col7\" class=\"data row2 col7\" >4.85%</td>\n",
       "                        <td id=\"T_8f103224_8b1b_11ea_a626_f403434e87bfrow2_col8\" class=\"data row2 col8\" >0.23</td>\n",
       "                        <td id=\"T_8f103224_8b1b_11ea_a626_f403434e87bfrow2_col9\" class=\"data row2 col9\" >0.04</td>\n",
       "            </tr>\n",
       "            <tr>\n",
       "                        <th id=\"T_8f103224_8b1b_11ea_a626_f403434e87bflevel0_row3\" class=\"row_heading level0 row3\" >3</th>\n",
       "                        <td id=\"T_8f103224_8b1b_11ea_a626_f403434e87bfrow3_col0\" class=\"data row3 col0\" >mp_telend</td>\n",
       "                        <td id=\"T_8f103224_8b1b_11ea_a626_f403434e87bfrow3_col1\" class=\"data row3 col1\" >SantanderContas</td>\n",
       "                        <td id=\"T_8f103224_8b1b_11ea_a626_f403434e87bfrow3_col2\" class=\"data row3 col2\" >1</td>\n",
       "                        <td id=\"T_8f103224_8b1b_11ea_a626_f403434e87bfrow3_col3\" class=\"data row3 col3\" >1059</td>\n",
       "                        <td id=\"T_8f103224_8b1b_11ea_a626_f403434e87bfrow3_col4\" class=\"data row3 col4\" >26.17%</td>\n",
       "                        <td id=\"T_8f103224_8b1b_11ea_a626_f403434e87bfrow3_col5\" class=\"data row3 col5\" >13</td>\n",
       "                        <td id=\"T_8f103224_8b1b_11ea_a626_f403434e87bfrow3_col6\" class=\"data row3 col6\" >8.23%</td>\n",
       "                        <td id=\"T_8f103224_8b1b_11ea_a626_f403434e87bfrow3_col7\" class=\"data row3 col7\" >1.23%</td>\n",
       "                        <td id=\"T_8f103224_8b1b_11ea_a626_f403434e87bfrow3_col8\" class=\"data row3 col8\" >-1.18</td>\n",
       "                        <td id=\"T_8f103224_8b1b_11ea_a626_f403434e87bfrow3_col9\" class=\"data row3 col9\" >0.22</td>\n",
       "            </tr>\n",
       "            <tr>\n",
       "                        <th id=\"T_8f103224_8b1b_11ea_a626_f403434e87bflevel0_row4\" class=\"row_heading level0 row4\" >4</th>\n",
       "                        <td id=\"T_8f103224_8b1b_11ea_a626_f403434e87bfrow4_col0\" class=\"data row4 col0\" >mp_telend</td>\n",
       "                        <td id=\"T_8f103224_8b1b_11ea_a626_f403434e87bfrow4_col1\" class=\"data row4 col1\" >SantanderFinanciamentos</td>\n",
       "                        <td id=\"T_8f103224_8b1b_11ea_a626_f403434e87bfrow4_col2\" class=\"data row4 col2\" >0</td>\n",
       "                        <td id=\"T_8f103224_8b1b_11ea_a626_f403434e87bfrow4_col3\" class=\"data row4 col3\" >1579</td>\n",
       "                        <td id=\"T_8f103224_8b1b_11ea_a626_f403434e87bfrow4_col4\" class=\"data row4 col4\" >54.30%</td>\n",
       "                        <td id=\"T_8f103224_8b1b_11ea_a626_f403434e87bfrow4_col5\" class=\"data row4 col5\" >110</td>\n",
       "                        <td id=\"T_8f103224_8b1b_11ea_a626_f403434e87bfrow4_col6\" class=\"data row4 col6\" >77.46%</td>\n",
       "                        <td id=\"T_8f103224_8b1b_11ea_a626_f403434e87bfrow4_col7\" class=\"data row4 col7\" >6.97%</td>\n",
       "                        <td id=\"T_8f103224_8b1b_11ea_a626_f403434e87bfrow4_col8\" class=\"data row4 col8\" >0.38</td>\n",
       "                        <td id=\"T_8f103224_8b1b_11ea_a626_f403434e87bfrow4_col9\" class=\"data row4 col9\" >0.09</td>\n",
       "            </tr>\n",
       "            <tr>\n",
       "                        <th id=\"T_8f103224_8b1b_11ea_a626_f403434e87bflevel0_row5\" class=\"row_heading level0 row5\" >5</th>\n",
       "                        <td id=\"T_8f103224_8b1b_11ea_a626_f403434e87bfrow5_col0\" class=\"data row5 col0\" >mp_telend</td>\n",
       "                        <td id=\"T_8f103224_8b1b_11ea_a626_f403434e87bfrow5_col1\" class=\"data row5 col1\" >SantanderFinanciamentos</td>\n",
       "                        <td id=\"T_8f103224_8b1b_11ea_a626_f403434e87bfrow5_col2\" class=\"data row5 col2\" >1</td>\n",
       "                        <td id=\"T_8f103224_8b1b_11ea_a626_f403434e87bfrow5_col3\" class=\"data row5 col3\" >1329</td>\n",
       "                        <td id=\"T_8f103224_8b1b_11ea_a626_f403434e87bfrow5_col4\" class=\"data row5 col4\" >45.70%</td>\n",
       "                        <td id=\"T_8f103224_8b1b_11ea_a626_f403434e87bfrow5_col5\" class=\"data row5 col5\" >32</td>\n",
       "                        <td id=\"T_8f103224_8b1b_11ea_a626_f403434e87bfrow5_col6\" class=\"data row5 col6\" >22.54%</td>\n",
       "                        <td id=\"T_8f103224_8b1b_11ea_a626_f403434e87bfrow5_col7\" class=\"data row5 col7\" >2.41%</td>\n",
       "                        <td id=\"T_8f103224_8b1b_11ea_a626_f403434e87bfrow5_col8\" class=\"data row5 col8\" >-0.73</td>\n",
       "                        <td id=\"T_8f103224_8b1b_11ea_a626_f403434e87bfrow5_col9\" class=\"data row5 col9\" >0.18</td>\n",
       "            </tr>\n",
       "    </tbody></table>"
      ],
      "text/plain": [
       "<pandas.io.formats.style.Styler at 0x231e1563518>"
      ]
     },
     "metadata": {},
     "output_type": "display_data"
    }
   ],
   "source": [
    "sv.bivariadaTable()"
   ]
  },
  {
   "cell_type": "markdown",
   "metadata": {},
   "source": [
    "Pode filtrar a tabela bivariada para níveis em particular com o parâmetro `groupsInteresse`. Além disso, para reter o resultado como um pd.DataFrame, utilizar argumento `getDF=True`"
   ]
  },
  {
   "cell_type": "code",
   "execution_count": 115,
   "metadata": {
    "ExecuteTime": {
     "end_time": "2020-04-30T19:49:38.079482Z",
     "start_time": "2020-04-30T19:49:37.904749Z"
    }
   },
   "outputs": [
    {
     "data": {
      "text/html": [
       "<div>\n",
       "<style scoped>\n",
       "    .dataframe tbody tr th:only-of-type {\n",
       "        vertical-align: middle;\n",
       "    }\n",
       "\n",
       "    .dataframe tbody tr th {\n",
       "        vertical-align: top;\n",
       "    }\n",
       "\n",
       "    .dataframe thead th {\n",
       "        text-align: right;\n",
       "    }\n",
       "</style>\n",
       "<table border=\"1\" class=\"dataframe\">\n",
       "  <thead>\n",
       "    <tr style=\"text-align: right;\">\n",
       "      <th></th>\n",
       "      <th>Variavel</th>\n",
       "      <th>Group</th>\n",
       "      <th>Category</th>\n",
       "      <th>Total</th>\n",
       "      <th>proporcao</th>\n",
       "      <th>Y</th>\n",
       "      <th>proporcaoMaus</th>\n",
       "      <th>txY</th>\n",
       "      <th>WoE</th>\n",
       "      <th>IV</th>\n",
       "    </tr>\n",
       "  </thead>\n",
       "  <tbody>\n",
       "    <tr>\n",
       "      <th>0</th>\n",
       "      <td>mp_telend</td>\n",
       "      <td>SantanderContas</td>\n",
       "      <td>0</td>\n",
       "      <td>2987</td>\n",
       "      <td>73.826001</td>\n",
       "      <td>145</td>\n",
       "      <td>91.772152</td>\n",
       "      <td>4.854369</td>\n",
       "      <td>0.227526</td>\n",
       "      <td>0.042491</td>\n",
       "    </tr>\n",
       "    <tr>\n",
       "      <th>1</th>\n",
       "      <td>mp_telend</td>\n",
       "      <td>SantanderContas</td>\n",
       "      <td>1</td>\n",
       "      <td>1059</td>\n",
       "      <td>26.173999</td>\n",
       "      <td>13</td>\n",
       "      <td>8.227848</td>\n",
       "      <td>1.227573</td>\n",
       "      <td>-1.184724</td>\n",
       "      <td>0.221252</td>\n",
       "    </tr>\n",
       "    <tr>\n",
       "      <th>2</th>\n",
       "      <td>mp_telend</td>\n",
       "      <td>SantanderFinanciamentos</td>\n",
       "      <td>0</td>\n",
       "      <td>1579</td>\n",
       "      <td>54.298487</td>\n",
       "      <td>110</td>\n",
       "      <td>77.464789</td>\n",
       "      <td>6.966434</td>\n",
       "      <td>0.377474</td>\n",
       "      <td>0.091936</td>\n",
       "    </tr>\n",
       "    <tr>\n",
       "      <th>3</th>\n",
       "      <td>mp_telend</td>\n",
       "      <td>SantanderFinanciamentos</td>\n",
       "      <td>1</td>\n",
       "      <td>1329</td>\n",
       "      <td>45.701513</td>\n",
       "      <td>32</td>\n",
       "      <td>22.535211</td>\n",
       "      <td>2.407825</td>\n",
       "      <td>-0.732743</td>\n",
       "      <td>0.178464</td>\n",
       "    </tr>\n",
       "  </tbody>\n",
       "</table>\n",
       "</div>"
      ],
      "text/plain": [
       "    Variavel                    Group  Category  Total  proporcao    Y  \\\n",
       "0  mp_telend          SantanderContas         0   2987  73.826001  145   \n",
       "1  mp_telend          SantanderContas         1   1059  26.173999   13   \n",
       "2  mp_telend  SantanderFinanciamentos         0   1579  54.298487  110   \n",
       "3  mp_telend  SantanderFinanciamentos         1   1329  45.701513   32   \n",
       "\n",
       "   proporcaoMaus       txY       WoE        IV  \n",
       "0      91.772152  4.854369  0.227526  0.042491  \n",
       "1       8.227848  1.227573 -1.184724  0.221252  \n",
       "2      77.464789  6.966434  0.377474  0.091936  \n",
       "3      22.535211  2.407825 -0.732743  0.178464  "
      ]
     },
     "execution_count": 115,
     "metadata": {},
     "output_type": "execute_result"
    }
   ],
   "source": [
    "sv.bivariadaTable(groupsInteresse={'entidade_nome': ['SantanderFinanciamentos',\n",
    "                                                     'SantanderContas']}, \n",
    "                  getDF=True)"
   ]
  },
  {
   "cell_type": "markdown",
   "metadata": {},
   "source": [
    "### Escolaridade\n",
    "\n",
    "Essa informaão possui muitas categorias. Provavelmente teremos que agrupar para poder analisar."
   ]
  },
  {
   "cell_type": "code",
   "execution_count": 14,
   "metadata": {
    "ExecuteTime": {
     "end_time": "2020-04-30T14:49:54.399382Z",
     "start_time": "2020-04-30T14:49:54.388373Z"
    }
   },
   "outputs": [
    {
     "data": {
      "text/plain": [
       "ENSINO MEDIO COMPLETO                 4999\n",
       "NaN                                   2911\n",
       "FUNDAMENTAL COMPLETO                  2158\n",
       "SUPERIOR EM CURSO OU COMPLETO         1406\n",
       "ENSINO MEDIO/TECNICO COMPLETO         1241\n",
       "ENSINO FUNDAMENTAL COMPLETO            851\n",
       "MEDIO/TECNICO COMPLETO                 598\n",
       "ENSINO FUNDAMENTAL INCOMPLETO          582\n",
       "ENSINO MEDIO/TECNICO INCOMPLETO        461\n",
       "SUPERIOR INCOMPLETO                    457\n",
       "SUPERIOR COMPLETO                      431\n",
       "POS-GRADUACAO EM CURSO OU COMPLETA     284\n",
       "SEM ESCOLARIDADE                       235\n",
       "POS-GRADUACAO COMPLETA                  93\n",
       "MESTRADO EM CURSO OU COMPLETO           33\n",
       "POS-GRADUACAO INCOMPLETA                29\n",
       "MESTRADO COMPLETO                       11\n",
       "DOUTORADO EM CURSO OU COMPLETO           9\n",
       "MESTRADO INCOMPLETO                      7\n",
       "DOUTORADO COMPLETO                       4\n",
       "DOUTORADO INCOMPLETO                     3\n",
       "Name: escolaridade, dtype: int64"
      ]
     },
     "execution_count": 14,
     "metadata": {},
     "output_type": "execute_result"
    }
   ],
   "source": [
    "df['escolaridade'].value_counts(dropna=False)"
   ]
  },
  {
   "cell_type": "code",
   "execution_count": 116,
   "metadata": {
    "ExecuteTime": {
     "end_time": "2020-04-30T19:55:57.741882Z",
     "start_time": "2020-04-30T19:55:57.723868Z"
    }
   },
   "outputs": [],
   "source": [
    "df['escolaridade'].fillna('na', inplace=True)\n",
    "sv = tcc.statisticalVariable(df, 'escolaridade', 'y')"
   ]
  },
  {
   "cell_type": "code",
   "execution_count": 118,
   "metadata": {
    "ExecuteTime": {
     "end_time": "2020-04-30T19:56:32.174290Z",
     "start_time": "2020-04-30T19:56:32.171287Z"
    }
   },
   "outputs": [],
   "source": [
    "# sv.bivariadaTable()"
   ]
  },
  {
   "cell_type": "markdown",
   "metadata": {},
   "source": [
    "Sendo assim, vamos criar alguns agrupamentos... "
   ]
  },
  {
   "cell_type": "code",
   "execution_count": 17,
   "metadata": {
    "ExecuteTime": {
     "end_time": "2020-04-30T14:49:54.428441Z",
     "start_time": "2020-04-30T14:49:54.425438Z"
    }
   },
   "outputs": [],
   "source": [
    "from teamcapcodes.utils import collapseCat"
   ]
  },
  {
   "cell_type": "code",
   "execution_count": 119,
   "metadata": {
    "ExecuteTime": {
     "end_time": "2020-04-30T19:57:06.269247Z",
     "start_time": "2020-04-30T19:57:06.248714Z"
    }
   },
   "outputs": [],
   "source": [
    "agg_baixafreq = collapseCat(df['escolaridade'], threshold=0.1, into='ELSE')"
   ]
  },
  {
   "cell_type": "code",
   "execution_count": 120,
   "metadata": {
    "ExecuteTime": {
     "end_time": "2020-04-30T19:57:52.306551Z",
     "start_time": "2020-04-30T19:57:52.233392Z"
    }
   },
   "outputs": [],
   "source": [
    "agg_nivel = collapseCat(df['escolaridade'], \n",
    "                        mapping={'pos': re.compile('(DOUTORADO)|(MESTRADO)|(POS-GRADUACAO)'),\n",
    "                                 'faculdade': re.compile('(SUPERIOR)'),\n",
    "                                 'fundamental': re.compile('(FUNDAMENTAL)'),\n",
    "                                 'medio/tecnico': re.compile('(MEDIO)'),\n",
    "                                 'sem info': ['na', 'SEM ESCOLARIDADE']})"
   ]
  },
  {
   "cell_type": "code",
   "execution_count": 123,
   "metadata": {
    "ExecuteTime": {
     "end_time": "2020-04-30T19:59:39.208577Z",
     "start_time": "2020-04-30T19:59:39.133965Z"
    }
   },
   "outputs": [
    {
     "data": {
      "text/html": [
       "<style  type=\"text/css\" >\n",
       "    #T_1fcc707a_8b1d_11ea_be02_f403434e87bfrow0_col4 {\n",
       "            width:  10em;\n",
       "             height:  80%;\n",
       "            background:  linear-gradient(90deg,#7c1952 50.0%, transparent 50.0%);\n",
       "        }    #T_1fcc707a_8b1d_11ea_be02_f403434e87bfrow0_col6 {\n",
       "            width:  10em;\n",
       "             height:  80%;\n",
       "            background:  linear-gradient(90deg,yellow 50.0%, transparent 50.0%);\n",
       "        }    #T_1fcc707a_8b1d_11ea_be02_f403434e87bfrow0_col7 {\n",
       "            width:  10em;\n",
       "             height:  80%;\n",
       "            background:  linear-gradient(90deg,#DF0101 23.5%, transparent 23.5%);\n",
       "        }    #T_1fcc707a_8b1d_11ea_be02_f403434e87bfrow0_col8 {\n",
       "            width:  10em;\n",
       "             height:  80%;\n",
       "            background:  linear-gradient(90deg, transparent 12.6%, #Faa519 12.6%, #Faa519 19.2%, transparent 19.2%);\n",
       "        }    #T_1fcc707a_8b1d_11ea_be02_f403434e87bfrow1_col4 {\n",
       "            width:  10em;\n",
       "             height:  80%;\n",
       "            background:  linear-gradient(90deg,#7c1952 37.1%, transparent 37.1%);\n",
       "        }    #T_1fcc707a_8b1d_11ea_be02_f403434e87bfrow1_col6 {\n",
       "            width:  10em;\n",
       "             height:  80%;\n",
       "            background:  linear-gradient(90deg,yellow 42.5%, transparent 42.5%);\n",
       "        }    #T_1fcc707a_8b1d_11ea_be02_f403434e87bfrow1_col7 {\n",
       "            width:  10em;\n",
       "             height:  80%;\n",
       "            background:  linear-gradient(90deg,#DF0101 26.9%, transparent 26.9%);\n",
       "        }    #T_1fcc707a_8b1d_11ea_be02_f403434e87bfrow1_col8 {\n",
       "            width:  10em;\n",
       "             height:  80%;\n",
       "            background:  linear-gradient(90deg, transparent 19.1%, #Faa519 19.1%, #Faa519 19.2%, transparent 19.2%);\n",
       "        }    #T_1fcc707a_8b1d_11ea_be02_f403434e87bfrow2_col4 {\n",
       "            width:  10em;\n",
       "             height:  80%;\n",
       "            background:  linear-gradient(90deg,#7c1952 16.0%, transparent 16.0%);\n",
       "        }    #T_1fcc707a_8b1d_11ea_be02_f403434e87bfrow2_col6 {\n",
       "            width:  10em;\n",
       "             height:  80%;\n",
       "            background:  linear-gradient(90deg,yellow 34.1%, transparent 34.1%);\n",
       "        }    #T_1fcc707a_8b1d_11ea_be02_f403434e87bfrow2_col7 {\n",
       "            width:  10em;\n",
       "             height:  80%;\n",
       "            background:  linear-gradient(90deg,#DF0101 50.0%, transparent 50.0%);\n",
       "        }    #T_1fcc707a_8b1d_11ea_be02_f403434e87bfrow2_col8 {\n",
       "            width:  10em;\n",
       "             height:  80%;\n",
       "            background:  linear-gradient(90deg, transparent 19.2%, #Faa519 19.2%, #Faa519 50.0%, transparent 50.0%);\n",
       "        }    #T_1fcc707a_8b1d_11ea_be02_f403434e87bfrow3_col4 {\n",
       "            width:  10em;\n",
       "             height:  80%;\n",
       "            background:  linear-gradient(90deg,#7c1952 21.6%, transparent 21.6%);\n",
       "        }    #T_1fcc707a_8b1d_11ea_be02_f403434e87bfrow3_col6 {\n",
       "            width:  10em;\n",
       "             height:  80%;\n",
       "            background:  linear-gradient(90deg,yellow 16.6%, transparent 16.6%);\n",
       "        }    #T_1fcc707a_8b1d_11ea_be02_f403434e87bfrow3_col7 {\n",
       "            width:  10em;\n",
       "             height:  80%;\n",
       "            background:  linear-gradient(90deg,#DF0101 18.0%, transparent 18.0%);\n",
       "        }    #T_1fcc707a_8b1d_11ea_be02_f403434e87bfrow3_col8 {\n",
       "            width:  10em;\n",
       "             height:  80%;\n",
       "            background:  linear-gradient(90deg,#Faa519 19.2%, transparent 19.2%);\n",
       "        }</style><table id=\"T_1fcc707a_8b1d_11ea_be02_f403434e87bf\" ><caption>Bivariada para categorias de \"variavel_teste\"</caption><thead>    <tr>        <th class=\"blank level0\" ></th>        <th class=\"col_heading level0 col0\" >Variavel</th>        <th class=\"col_heading level0 col1\" >Group</th>        <th class=\"col_heading level0 col2\" >Category</th>        <th class=\"col_heading level0 col3\" >Total</th>        <th class=\"col_heading level0 col4\" >proporcao</th>        <th class=\"col_heading level0 col5\" >Y</th>        <th class=\"col_heading level0 col6\" >proporcaoMaus</th>        <th class=\"col_heading level0 col7\" >txY</th>        <th class=\"col_heading level0 col8\" >WoE</th>        <th class=\"col_heading level0 col9\" >IV</th>    </tr></thead><tbody>\n",
       "                <tr>\n",
       "                        <th id=\"T_1fcc707a_8b1d_11ea_be02_f403434e87bflevel0_row0\" class=\"row_heading level0 row0\" >0</th>\n",
       "                        <td id=\"T_1fcc707a_8b1d_11ea_be02_f403434e87bfrow0_col0\" class=\"data row0 col0\" >variavel_teste</td>\n",
       "                        <td id=\"T_1fcc707a_8b1d_11ea_be02_f403434e87bfrow0_col1\" class=\"data row0 col1\" >Geral</td>\n",
       "                        <td id=\"T_1fcc707a_8b1d_11ea_be02_f403434e87bfrow0_col2\" class=\"data row0 col2\" >ELSE</td>\n",
       "                        <td id=\"T_1fcc707a_8b1d_11ea_be02_f403434e87bfrow0_col3\" class=\"data row0 col3\" >6735</td>\n",
       "                        <td id=\"T_1fcc707a_8b1d_11ea_be02_f403434e87bfrow0_col4\" class=\"data row0 col4\" >40.08%</td>\n",
       "                        <td id=\"T_1fcc707a_8b1d_11ea_be02_f403434e87bfrow0_col5\" class=\"data row0 col5\" >432</td>\n",
       "                        <td id=\"T_1fcc707a_8b1d_11ea_be02_f403434e87bfrow0_col6\" class=\"data row0 col6\" >34.92%</td>\n",
       "                        <td id=\"T_1fcc707a_8b1d_11ea_be02_f403434e87bfrow0_col7\" class=\"data row0 col7\" >6.41%</td>\n",
       "                        <td id=\"T_1fcc707a_8b1d_11ea_be02_f403434e87bfrow0_col8\" class=\"data row0 col8\" >-0.15</td>\n",
       "                        <td id=\"T_1fcc707a_8b1d_11ea_be02_f403434e87bfrow0_col9\" class=\"data row0 col9\" >0.01</td>\n",
       "            </tr>\n",
       "            <tr>\n",
       "                        <th id=\"T_1fcc707a_8b1d_11ea_be02_f403434e87bflevel0_row1\" class=\"row_heading level0 row1\" >1</th>\n",
       "                        <td id=\"T_1fcc707a_8b1d_11ea_be02_f403434e87bfrow1_col0\" class=\"data row1 col0\" >variavel_teste</td>\n",
       "                        <td id=\"T_1fcc707a_8b1d_11ea_be02_f403434e87bfrow1_col1\" class=\"data row1 col1\" >Geral</td>\n",
       "                        <td id=\"T_1fcc707a_8b1d_11ea_be02_f403434e87bfrow1_col2\" class=\"data row1 col2\" >ENSINO MEDIO COMPLETO</td>\n",
       "                        <td id=\"T_1fcc707a_8b1d_11ea_be02_f403434e87bfrow1_col3\" class=\"data row1 col3\" >4999</td>\n",
       "                        <td id=\"T_1fcc707a_8b1d_11ea_be02_f403434e87bfrow1_col4\" class=\"data row1 col4\" >29.75%</td>\n",
       "                        <td id=\"T_1fcc707a_8b1d_11ea_be02_f403434e87bfrow1_col5\" class=\"data row1 col5\" >367</td>\n",
       "                        <td id=\"T_1fcc707a_8b1d_11ea_be02_f403434e87bfrow1_col6\" class=\"data row1 col6\" >29.67%</td>\n",
       "                        <td id=\"T_1fcc707a_8b1d_11ea_be02_f403434e87bfrow1_col7\" class=\"data row1 col7\" >7.34%</td>\n",
       "                        <td id=\"T_1fcc707a_8b1d_11ea_be02_f403434e87bfrow1_col8\" class=\"data row1 col8\" >-0.00</td>\n",
       "                        <td id=\"T_1fcc707a_8b1d_11ea_be02_f403434e87bfrow1_col9\" class=\"data row1 col9\" >0.00</td>\n",
       "            </tr>\n",
       "            <tr>\n",
       "                        <th id=\"T_1fcc707a_8b1d_11ea_be02_f403434e87bflevel0_row2\" class=\"row_heading level0 row2\" >2</th>\n",
       "                        <td id=\"T_1fcc707a_8b1d_11ea_be02_f403434e87bfrow2_col0\" class=\"data row2 col0\" >variavel_teste</td>\n",
       "                        <td id=\"T_1fcc707a_8b1d_11ea_be02_f403434e87bfrow2_col1\" class=\"data row2 col1\" >Geral</td>\n",
       "                        <td id=\"T_1fcc707a_8b1d_11ea_be02_f403434e87bfrow2_col2\" class=\"data row2 col2\" >FUNDAMENTAL COMPLETO</td>\n",
       "                        <td id=\"T_1fcc707a_8b1d_11ea_be02_f403434e87bfrow2_col3\" class=\"data row2 col3\" >2158</td>\n",
       "                        <td id=\"T_1fcc707a_8b1d_11ea_be02_f403434e87bfrow2_col4\" class=\"data row2 col4\" >12.84%</td>\n",
       "                        <td id=\"T_1fcc707a_8b1d_11ea_be02_f403434e87bfrow2_col5\" class=\"data row2 col5\" >295</td>\n",
       "                        <td id=\"T_1fcc707a_8b1d_11ea_be02_f403434e87bfrow2_col6\" class=\"data row2 col6\" >23.85%</td>\n",
       "                        <td id=\"T_1fcc707a_8b1d_11ea_be02_f403434e87bfrow2_col7\" class=\"data row2 col7\" >13.67%</td>\n",
       "                        <td id=\"T_1fcc707a_8b1d_11ea_be02_f403434e87bfrow2_col8\" class=\"data row2 col8\" >0.69</td>\n",
       "                        <td id=\"T_1fcc707a_8b1d_11ea_be02_f403434e87bfrow2_col9\" class=\"data row2 col9\" >0.08</td>\n",
       "            </tr>\n",
       "            <tr>\n",
       "                        <th id=\"T_1fcc707a_8b1d_11ea_be02_f403434e87bflevel0_row3\" class=\"row_heading level0 row3\" >3</th>\n",
       "                        <td id=\"T_1fcc707a_8b1d_11ea_be02_f403434e87bfrow3_col0\" class=\"data row3 col0\" >variavel_teste</td>\n",
       "                        <td id=\"T_1fcc707a_8b1d_11ea_be02_f403434e87bfrow3_col1\" class=\"data row3 col1\" >Geral</td>\n",
       "                        <td id=\"T_1fcc707a_8b1d_11ea_be02_f403434e87bfrow3_col2\" class=\"data row3 col2\" >na</td>\n",
       "                        <td id=\"T_1fcc707a_8b1d_11ea_be02_f403434e87bfrow3_col3\" class=\"data row3 col3\" >2911</td>\n",
       "                        <td id=\"T_1fcc707a_8b1d_11ea_be02_f403434e87bfrow3_col4\" class=\"data row3 col4\" >17.32%</td>\n",
       "                        <td id=\"T_1fcc707a_8b1d_11ea_be02_f403434e87bfrow3_col5\" class=\"data row3 col5\" >143</td>\n",
       "                        <td id=\"T_1fcc707a_8b1d_11ea_be02_f403434e87bfrow3_col6\" class=\"data row3 col6\" >11.56%</td>\n",
       "                        <td id=\"T_1fcc707a_8b1d_11ea_be02_f403434e87bfrow3_col7\" class=\"data row3 col7\" >4.91%</td>\n",
       "                        <td id=\"T_1fcc707a_8b1d_11ea_be02_f403434e87bfrow3_col8\" class=\"data row3 col8\" >-0.43</td>\n",
       "                        <td id=\"T_1fcc707a_8b1d_11ea_be02_f403434e87bfrow3_col9\" class=\"data row3 col9\" >0.03</td>\n",
       "            </tr>\n",
       "    </tbody></table>"
      ],
      "text/plain": [
       "<pandas.io.formats.style.Styler at 0x231e14ffef0>"
      ]
     },
     "metadata": {},
     "output_type": "display_data"
    }
   ],
   "source": [
    "tcc.statisticalVariable(df, agg_baixafreq, 'y').bivariadaTable()"
   ]
  },
  {
   "cell_type": "code",
   "execution_count": 122,
   "metadata": {
    "ExecuteTime": {
     "end_time": "2020-04-30T19:58:21.920533Z",
     "start_time": "2020-04-30T19:58:21.491001Z"
    }
   },
   "outputs": [
    {
     "data": {
      "text/html": [
       "<style  type=\"text/css\" >\n",
       "    #T_f1ba9bda_8b1c_11ea_b195_f403434e87bfrow0_col4 {\n",
       "            width:  10em;\n",
       "             height:  80%;\n",
       "            background:  linear-gradient(90deg,#7c1952 7.8%, transparent 7.8%);\n",
       "        }    #T_f1ba9bda_8b1c_11ea_b195_f403434e87bfrow0_col6 {\n",
       "            width:  10em;\n",
       "             height:  80%;\n",
       "            background:  linear-gradient(90deg,yellow 5.7%, transparent 5.7%);\n",
       "        }    #T_f1ba9bda_8b1c_11ea_b195_f403434e87bfrow0_col7 {\n",
       "            width:  10em;\n",
       "             height:  80%;\n",
       "            background:  linear-gradient(90deg,#DF0101 11.0%, transparent 11.0%);\n",
       "        }    #T_f1ba9bda_8b1c_11ea_b195_f403434e87bfrow0_col8 {\n",
       "            width:  10em;\n",
       "             height:  80%;\n",
       "            background:  linear-gradient(90deg, transparent 4.7%, #Faa519 4.7%, #Faa519 11.9%, transparent 11.9%);\n",
       "        }    #T_f1ba9bda_8b1c_11ea_b195_f403434e87bfrow1_col4 {\n",
       "            width:  10em;\n",
       "             height:  80%;\n",
       "            background:  linear-gradient(90deg,#7c1952 11.0%, transparent 11.0%);\n",
       "        }    #T_f1ba9bda_8b1c_11ea_b195_f403434e87bfrow1_col6 {\n",
       "            width:  10em;\n",
       "             height:  80%;\n",
       "            background:  linear-gradient(90deg,yellow 15.7%, transparent 15.7%);\n",
       "        }    #T_f1ba9bda_8b1c_11ea_b195_f403434e87bfrow1_col7 {\n",
       "            width:  10em;\n",
       "             height:  80%;\n",
       "            background:  linear-gradient(90deg,#DF0101 21.7%, transparent 21.7%);\n",
       "        }    #T_f1ba9bda_8b1c_11ea_b195_f403434e87bfrow1_col8 {\n",
       "            width:  10em;\n",
       "             height:  80%;\n",
       "            background:  linear-gradient(90deg, transparent 11.9%, #Faa519 11.9%, #Faa519 20.5%, transparent 20.5%);\n",
       "        }    #T_f1ba9bda_8b1c_11ea_b195_f403434e87bfrow2_col4 {\n",
       "            width:  10em;\n",
       "             height:  80%;\n",
       "            background:  linear-gradient(90deg,#7c1952 28.4%, transparent 28.4%);\n",
       "        }    #T_f1ba9bda_8b1c_11ea_b195_f403434e87bfrow2_col6 {\n",
       "            width:  10em;\n",
       "             height:  80%;\n",
       "            background:  linear-gradient(90deg,yellow 23.1%, transparent 23.1%);\n",
       "        }    #T_f1ba9bda_8b1c_11ea_b195_f403434e87bfrow2_col7 {\n",
       "            width:  10em;\n",
       "             height:  80%;\n",
       "            background:  linear-gradient(90deg,#DF0101 12.2%, transparent 12.2%);\n",
       "        }    #T_f1ba9bda_8b1c_11ea_b195_f403434e87bfrow2_col8 {\n",
       "            width:  10em;\n",
       "             height:  80%;\n",
       "            background:  linear-gradient(90deg, transparent 7.1%, #Faa519 7.1%, #Faa519 11.9%, transparent 11.9%);\n",
       "        }    #T_f1ba9bda_8b1c_11ea_b195_f403434e87bfrow3_col4 {\n",
       "            width:  10em;\n",
       "             height:  80%;\n",
       "            background:  linear-gradient(90deg,#7c1952 1.8%, transparent 1.8%);\n",
       "        }    #T_f1ba9bda_8b1c_11ea_b195_f403434e87bfrow3_col6 {\n",
       "            width:  10em;\n",
       "             height:  80%;\n",
       "            background:  linear-gradient(90deg,yellow 2.1%, transparent 2.1%);\n",
       "        }    #T_f1ba9bda_8b1c_11ea_b195_f403434e87bfrow3_col7 {\n",
       "            width:  10em;\n",
       "             height:  80%;\n",
       "            background:  linear-gradient(90deg,#DF0101 17.6%, transparent 17.6%);\n",
       "        }    #T_f1ba9bda_8b1c_11ea_b195_f403434e87bfrow3_col8 {\n",
       "            width:  10em;\n",
       "             height:  80%;\n",
       "            background:  linear-gradient(90deg, transparent 11.9%, #Faa519 11.9%, #Faa519 15.5%, transparent 15.5%);\n",
       "        }    #T_f1ba9bda_8b1c_11ea_b195_f403434e87bfrow4_col4 {\n",
       "            width:  10em;\n",
       "             height:  80%;\n",
       "            background:  linear-gradient(90deg,#7c1952 1.0%, transparent 1.0%);\n",
       "        }    #T_f1ba9bda_8b1c_11ea_b195_f403434e87bfrow4_col6 {\n",
       "            width:  10em;\n",
       "             height:  80%;\n",
       "            background:  linear-gradient(90deg,yellow 3.4%, transparent 3.4%);\n",
       "        }    #T_f1ba9bda_8b1c_11ea_b195_f403434e87bfrow4_col7 {\n",
       "            width:  10em;\n",
       "             height:  80%;\n",
       "            background:  linear-gradient(90deg,#DF0101 50.0%, transparent 50.0%);\n",
       "        }    #T_f1ba9bda_8b1c_11ea_b195_f403434e87bfrow4_col8 {\n",
       "            width:  10em;\n",
       "             height:  80%;\n",
       "            background:  linear-gradient(90deg, transparent 11.9%, #Faa519 11.9%, #Faa519 42.9%, transparent 42.9%);\n",
       "        }    #T_f1ba9bda_8b1c_11ea_b195_f403434e87bfrow5_col4 {\n",
       "            width:  10em;\n",
       "             height:  80%;\n",
       "            background:  linear-gradient(90deg,#7c1952 9.3%, transparent 9.3%);\n",
       "        }    #T_f1ba9bda_8b1c_11ea_b195_f403434e87bfrow5_col6 {\n",
       "            width:  10em;\n",
       "             height:  80%;\n",
       "            background:  linear-gradient(90deg,yellow 5.4%, transparent 5.4%);\n",
       "        }    #T_f1ba9bda_8b1c_11ea_b195_f403434e87bfrow5_col7 {\n",
       "            width:  10em;\n",
       "             height:  80%;\n",
       "            background:  linear-gradient(90deg,#DF0101 3.6%, transparent 3.6%);\n",
       "        }    #T_f1ba9bda_8b1c_11ea_b195_f403434e87bfrow5_col8 {\n",
       "            width:  10em;\n",
       "             height:  80%;\n",
       "            background:  linear-gradient(90deg,#Faa519 11.9%, transparent 11.9%);\n",
       "        }    #T_f1ba9bda_8b1c_11ea_b195_f403434e87bfrow6_col4 {\n",
       "            width:  10em;\n",
       "             height:  80%;\n",
       "            background:  linear-gradient(90deg,#7c1952 17.7%, transparent 17.7%);\n",
       "        }    #T_f1ba9bda_8b1c_11ea_b195_f403434e87bfrow6_col6 {\n",
       "            width:  10em;\n",
       "             height:  80%;\n",
       "            background:  linear-gradient(90deg,yellow 20.3%, transparent 20.3%);\n",
       "        }    #T_f1ba9bda_8b1c_11ea_b195_f403434e87bfrow6_col7 {\n",
       "            width:  10em;\n",
       "             height:  80%;\n",
       "            background:  linear-gradient(90deg,#DF0101 7.1%, transparent 7.1%);\n",
       "        }    #T_f1ba9bda_8b1c_11ea_b195_f403434e87bfrow6_col8 {\n",
       "            width:  10em;\n",
       "             height:  80%;\n",
       "            background:  linear-gradient(90deg, transparent 11.9%, #Faa519 11.9%, #Faa519 14.8%, transparent 14.8%);\n",
       "        }    #T_f1ba9bda_8b1c_11ea_b195_f403434e87bfrow7_col4 {\n",
       "            width:  10em;\n",
       "             height:  80%;\n",
       "            background:  linear-gradient(90deg,#7c1952 21.0%, transparent 21.0%);\n",
       "        }    #T_f1ba9bda_8b1c_11ea_b195_f403434e87bfrow7_col6 {\n",
       "            width:  10em;\n",
       "             height:  80%;\n",
       "            background:  linear-gradient(90deg,yellow 21.2%, transparent 21.2%);\n",
       "        }    #T_f1ba9bda_8b1c_11ea_b195_f403434e87bfrow7_col7 {\n",
       "            width:  10em;\n",
       "             height:  80%;\n",
       "            background:  linear-gradient(90deg,#DF0101 6.2%, transparent 6.2%);\n",
       "        }    #T_f1ba9bda_8b1c_11ea_b195_f403434e87bfrow7_col8 {\n",
       "            width:  10em;\n",
       "             height:  80%;\n",
       "            background:  linear-gradient(90deg, transparent 11.9%, #Faa519 11.9%, #Faa519 12.1%, transparent 12.1%);\n",
       "        }    #T_f1ba9bda_8b1c_11ea_b195_f403434e87bfrow8_col4 {\n",
       "            width:  10em;\n",
       "             height:  80%;\n",
       "            background:  linear-gradient(90deg,#7c1952 1.5%, transparent 1.5%);\n",
       "        }    #T_f1ba9bda_8b1c_11ea_b195_f403434e87bfrow8_col6 {\n",
       "            width:  10em;\n",
       "             height:  80%;\n",
       "            background:  linear-gradient(90deg,yellow 0.9%, transparent 0.9%);\n",
       "        }    #T_f1ba9bda_8b1c_11ea_b195_f403434e87bfrow8_col7 {\n",
       "            width:  10em;\n",
       "             height:  80%;\n",
       "            background:  linear-gradient(90deg,#DF0101 3.9%, transparent 3.9%);\n",
       "        }    #T_f1ba9bda_8b1c_11ea_b195_f403434e87bfrow8_col8 {\n",
       "            width:  10em;\n",
       "             height:  80%;\n",
       "            background:  linear-gradient(90deg, transparent 1.9%, #Faa519 1.9%, #Faa519 11.9%, transparent 11.9%);\n",
       "        }    #T_f1ba9bda_8b1c_11ea_b195_f403434e87bfrow9_col4 {\n",
       "            width:  10em;\n",
       "             height:  80%;\n",
       "            background:  linear-gradient(90deg,#7c1952 0.4%, transparent 0.4%);\n",
       "        }    #T_f1ba9bda_8b1c_11ea_b195_f403434e87bfrow9_col6 {\n",
       "            width:  10em;\n",
       "             height:  80%;\n",
       "            background:  linear-gradient(90deg,yellow 2.2%, transparent 2.2%);\n",
       "        }    #T_f1ba9bda_8b1c_11ea_b195_f403434e87bfrow9_col7 {\n",
       "            width:  10em;\n",
       "             height:  80%;\n",
       "            background:  linear-gradient(90deg,#DF0101 31.7%, transparent 31.7%);\n",
       "        }    #T_f1ba9bda_8b1c_11ea_b195_f403434e87bfrow9_col8 {\n",
       "            width:  10em;\n",
       "             height:  80%;\n",
       "            background:  linear-gradient(90deg, transparent 11.9%, #Faa519 11.9%, #Faa519 50.0%, transparent 50.0%);\n",
       "        }    #T_f1ba9bda_8b1c_11ea_b195_f403434e87bfrow10_col4 {\n",
       "            width:  10em;\n",
       "             height:  80%;\n",
       "            background:  linear-gradient(90deg,#7c1952 50.0%, transparent 50.0%);\n",
       "        }    #T_f1ba9bda_8b1c_11ea_b195_f403434e87bfrow10_col6 {\n",
       "            width:  10em;\n",
       "             height:  80%;\n",
       "            background:  linear-gradient(90deg,yellow 50.0%, transparent 50.0%);\n",
       "        }    #T_f1ba9bda_8b1c_11ea_b195_f403434e87bfrow10_col7 {\n",
       "            width:  10em;\n",
       "             height:  80%;\n",
       "            background:  linear-gradient(90deg,#DF0101 7.7%, transparent 7.7%);\n",
       "        }    #T_f1ba9bda_8b1c_11ea_b195_f403434e87bfrow10_col8 {\n",
       "            width:  10em;\n",
       "             height:  80%;\n",
       "        }</style><table id=\"T_f1ba9bda_8b1c_11ea_b195_f403434e87bf\" ><caption>Bivariada para categorias de \"variavel_teste\"</caption><thead>    <tr>        <th class=\"blank level0\" ></th>        <th class=\"col_heading level0 col0\" >Variavel</th>        <th class=\"col_heading level0 col1\" >Group</th>        <th class=\"col_heading level0 col2\" >Category</th>        <th class=\"col_heading level0 col3\" >Total</th>        <th class=\"col_heading level0 col4\" >proporcao</th>        <th class=\"col_heading level0 col5\" >Y</th>        <th class=\"col_heading level0 col6\" >proporcaoMaus</th>        <th class=\"col_heading level0 col7\" >txY</th>        <th class=\"col_heading level0 col8\" >WoE</th>        <th class=\"col_heading level0 col9\" >IV</th>    </tr></thead><tbody>\n",
       "                <tr>\n",
       "                        <th id=\"T_f1ba9bda_8b1c_11ea_b195_f403434e87bflevel0_row0\" class=\"row_heading level0 row0\" >0</th>\n",
       "                        <td id=\"T_f1ba9bda_8b1c_11ea_b195_f403434e87bfrow0_col0\" class=\"data row0 col0\" >variavel_teste</td>\n",
       "                        <td id=\"T_f1ba9bda_8b1c_11ea_b195_f403434e87bfrow0_col1\" class=\"data row0 col1\" >SantanderCartoesWay</td>\n",
       "                        <td id=\"T_f1ba9bda_8b1c_11ea_b195_f403434e87bfrow0_col2\" class=\"data row0 col2\" >faculdade</td>\n",
       "                        <td id=\"T_f1ba9bda_8b1c_11ea_b195_f403434e87bfrow0_col3\" class=\"data row0 col3\" >1540</td>\n",
       "                        <td id=\"T_f1ba9bda_8b1c_11ea_b195_f403434e87bfrow0_col4\" class=\"data row0 col4\" >15.64%</td>\n",
       "                        <td id=\"T_f1ba9bda_8b1c_11ea_b195_f403434e87bfrow0_col5\" class=\"data row0 col5\" >107</td>\n",
       "                        <td id=\"T_f1ba9bda_8b1c_11ea_b195_f403434e87bfrow0_col6\" class=\"data row0 col6\" >11.42%</td>\n",
       "                        <td id=\"T_f1ba9bda_8b1c_11ea_b195_f403434e87bfrow0_col7\" class=\"data row0 col7\" >6.95%</td>\n",
       "                        <td id=\"T_f1ba9bda_8b1c_11ea_b195_f403434e87bfrow0_col8\" class=\"data row0 col8\" >-0.34</td>\n",
       "                        <td id=\"T_f1ba9bda_8b1c_11ea_b195_f403434e87bfrow0_col9\" class=\"data row0 col9\" >0.02</td>\n",
       "            </tr>\n",
       "            <tr>\n",
       "                        <th id=\"T_f1ba9bda_8b1c_11ea_b195_f403434e87bflevel0_row1\" class=\"row_heading level0 row1\" >1</th>\n",
       "                        <td id=\"T_f1ba9bda_8b1c_11ea_b195_f403434e87bfrow1_col0\" class=\"data row1 col0\" >variavel_teste</td>\n",
       "                        <td id=\"T_f1ba9bda_8b1c_11ea_b195_f403434e87bfrow1_col1\" class=\"data row1 col1\" >SantanderCartoesWay</td>\n",
       "                        <td id=\"T_f1ba9bda_8b1c_11ea_b195_f403434e87bfrow1_col2\" class=\"data row1 col2\" >fundamental</td>\n",
       "                        <td id=\"T_f1ba9bda_8b1c_11ea_b195_f403434e87bfrow1_col3\" class=\"data row1 col3\" >2158</td>\n",
       "                        <td id=\"T_f1ba9bda_8b1c_11ea_b195_f403434e87bfrow1_col4\" class=\"data row1 col4\" >21.91%</td>\n",
       "                        <td id=\"T_f1ba9bda_8b1c_11ea_b195_f403434e87bfrow1_col5\" class=\"data row1 col5\" >295</td>\n",
       "                        <td id=\"T_f1ba9bda_8b1c_11ea_b195_f403434e87bfrow1_col6\" class=\"data row1 col6\" >31.48%</td>\n",
       "                        <td id=\"T_f1ba9bda_8b1c_11ea_b195_f403434e87bfrow1_col7\" class=\"data row1 col7\" >13.67%</td>\n",
       "                        <td id=\"T_f1ba9bda_8b1c_11ea_b195_f403434e87bfrow1_col8\" class=\"data row1 col8\" >0.41</td>\n",
       "                        <td id=\"T_f1ba9bda_8b1c_11ea_b195_f403434e87bfrow1_col9\" class=\"data row1 col9\" >0.04</td>\n",
       "            </tr>\n",
       "            <tr>\n",
       "                        <th id=\"T_f1ba9bda_8b1c_11ea_b195_f403434e87bflevel0_row2\" class=\"row_heading level0 row2\" >2</th>\n",
       "                        <td id=\"T_f1ba9bda_8b1c_11ea_b195_f403434e87bfrow2_col0\" class=\"data row2 col0\" >variavel_teste</td>\n",
       "                        <td id=\"T_f1ba9bda_8b1c_11ea_b195_f403434e87bfrow2_col1\" class=\"data row2 col1\" >SantanderCartoesWay</td>\n",
       "                        <td id=\"T_f1ba9bda_8b1c_11ea_b195_f403434e87bfrow2_col2\" class=\"data row2 col2\" >medio/tecnico</td>\n",
       "                        <td id=\"T_f1ba9bda_8b1c_11ea_b195_f403434e87bfrow2_col3\" class=\"data row2 col3\" >5597</td>\n",
       "                        <td id=\"T_f1ba9bda_8b1c_11ea_b195_f403434e87bfrow2_col4\" class=\"data row2 col4\" >56.83%</td>\n",
       "                        <td id=\"T_f1ba9bda_8b1c_11ea_b195_f403434e87bfrow2_col5\" class=\"data row2 col5\" >432</td>\n",
       "                        <td id=\"T_f1ba9bda_8b1c_11ea_b195_f403434e87bfrow2_col6\" class=\"data row2 col6\" >46.10%</td>\n",
       "                        <td id=\"T_f1ba9bda_8b1c_11ea_b195_f403434e87bfrow2_col7\" class=\"data row2 col7\" >7.72%</td>\n",
       "                        <td id=\"T_f1ba9bda_8b1c_11ea_b195_f403434e87bfrow2_col8\" class=\"data row2 col8\" >-0.23</td>\n",
       "                        <td id=\"T_f1ba9bda_8b1c_11ea_b195_f403434e87bfrow2_col9\" class=\"data row2 col9\" >0.03</td>\n",
       "            </tr>\n",
       "            <tr>\n",
       "                        <th id=\"T_f1ba9bda_8b1c_11ea_b195_f403434e87bflevel0_row3\" class=\"row_heading level0 row3\" >3</th>\n",
       "                        <td id=\"T_f1ba9bda_8b1c_11ea_b195_f403434e87bfrow3_col0\" class=\"data row3 col0\" >variavel_teste</td>\n",
       "                        <td id=\"T_f1ba9bda_8b1c_11ea_b195_f403434e87bfrow3_col1\" class=\"data row3 col1\" >SantanderCartoesWay</td>\n",
       "                        <td id=\"T_f1ba9bda_8b1c_11ea_b195_f403434e87bfrow3_col2\" class=\"data row3 col2\" >pos</td>\n",
       "                        <td id=\"T_f1ba9bda_8b1c_11ea_b195_f403434e87bfrow3_col3\" class=\"data row3 col3\" >351</td>\n",
       "                        <td id=\"T_f1ba9bda_8b1c_11ea_b195_f403434e87bfrow3_col4\" class=\"data row3 col4\" >3.56%</td>\n",
       "                        <td id=\"T_f1ba9bda_8b1c_11ea_b195_f403434e87bfrow3_col5\" class=\"data row3 col5\" >39</td>\n",
       "                        <td id=\"T_f1ba9bda_8b1c_11ea_b195_f403434e87bfrow3_col6\" class=\"data row3 col6\" >4.16%</td>\n",
       "                        <td id=\"T_f1ba9bda_8b1c_11ea_b195_f403434e87bfrow3_col7\" class=\"data row3 col7\" >11.11%</td>\n",
       "                        <td id=\"T_f1ba9bda_8b1c_11ea_b195_f403434e87bfrow3_col8\" class=\"data row3 col8\" >0.17</td>\n",
       "                        <td id=\"T_f1ba9bda_8b1c_11ea_b195_f403434e87bfrow3_col9\" class=\"data row3 col9\" >0.00</td>\n",
       "            </tr>\n",
       "            <tr>\n",
       "                        <th id=\"T_f1ba9bda_8b1c_11ea_b195_f403434e87bflevel0_row4\" class=\"row_heading level0 row4\" >4</th>\n",
       "                        <td id=\"T_f1ba9bda_8b1c_11ea_b195_f403434e87bfrow4_col0\" class=\"data row4 col0\" >variavel_teste</td>\n",
       "                        <td id=\"T_f1ba9bda_8b1c_11ea_b195_f403434e87bfrow4_col1\" class=\"data row4 col1\" >SantanderCartoesWay</td>\n",
       "                        <td id=\"T_f1ba9bda_8b1c_11ea_b195_f403434e87bfrow4_col2\" class=\"data row4 col2\" >sem info</td>\n",
       "                        <td id=\"T_f1ba9bda_8b1c_11ea_b195_f403434e87bfrow4_col3\" class=\"data row4 col3\" >203</td>\n",
       "                        <td id=\"T_f1ba9bda_8b1c_11ea_b195_f403434e87bfrow4_col4\" class=\"data row4 col4\" >2.06%</td>\n",
       "                        <td id=\"T_f1ba9bda_8b1c_11ea_b195_f403434e87bfrow4_col5\" class=\"data row4 col5\" >64</td>\n",
       "                        <td id=\"T_f1ba9bda_8b1c_11ea_b195_f403434e87bfrow4_col6\" class=\"data row4 col6\" >6.83%</td>\n",
       "                        <td id=\"T_f1ba9bda_8b1c_11ea_b195_f403434e87bfrow4_col7\" class=\"data row4 col7\" >31.53%</td>\n",
       "                        <td id=\"T_f1ba9bda_8b1c_11ea_b195_f403434e87bfrow4_col8\" class=\"data row4 col8\" >1.48</td>\n",
       "                        <td id=\"T_f1ba9bda_8b1c_11ea_b195_f403434e87bfrow4_col9\" class=\"data row4 col9\" >0.08</td>\n",
       "            </tr>\n",
       "            <tr>\n",
       "                        <th id=\"T_f1ba9bda_8b1c_11ea_b195_f403434e87bflevel0_row5\" class=\"row_heading level0 row5\" >5</th>\n",
       "                        <td id=\"T_f1ba9bda_8b1c_11ea_b195_f403434e87bfrow5_col0\" class=\"data row5 col0\" >variavel_teste</td>\n",
       "                        <td id=\"T_f1ba9bda_8b1c_11ea_b195_f403434e87bfrow5_col1\" class=\"data row5 col1\" >SantanderContas</td>\n",
       "                        <td id=\"T_f1ba9bda_8b1c_11ea_b195_f403434e87bfrow5_col2\" class=\"data row5 col2\" >faculdade</td>\n",
       "                        <td id=\"T_f1ba9bda_8b1c_11ea_b195_f403434e87bfrow5_col3\" class=\"data row5 col3\" >754</td>\n",
       "                        <td id=\"T_f1ba9bda_8b1c_11ea_b195_f403434e87bfrow5_col4\" class=\"data row5 col4\" >18.64%</td>\n",
       "                        <td id=\"T_f1ba9bda_8b1c_11ea_b195_f403434e87bfrow5_col5\" class=\"data row5 col5\" >17</td>\n",
       "                        <td id=\"T_f1ba9bda_8b1c_11ea_b195_f403434e87bfrow5_col6\" class=\"data row5 col6\" >10.76%</td>\n",
       "                        <td id=\"T_f1ba9bda_8b1c_11ea_b195_f403434e87bfrow5_col7\" class=\"data row5 col7\" >2.25%</td>\n",
       "                        <td id=\"T_f1ba9bda_8b1c_11ea_b195_f403434e87bfrow5_col8\" class=\"data row5 col8\" >-0.57</td>\n",
       "                        <td id=\"T_f1ba9bda_8b1c_11ea_b195_f403434e87bfrow5_col9\" class=\"data row5 col9\" >0.05</td>\n",
       "            </tr>\n",
       "            <tr>\n",
       "                        <th id=\"T_f1ba9bda_8b1c_11ea_b195_f403434e87bflevel0_row6\" class=\"row_heading level0 row6\" >6</th>\n",
       "                        <td id=\"T_f1ba9bda_8b1c_11ea_b195_f403434e87bfrow6_col0\" class=\"data row6 col0\" >variavel_teste</td>\n",
       "                        <td id=\"T_f1ba9bda_8b1c_11ea_b195_f403434e87bfrow6_col1\" class=\"data row6 col1\" >SantanderContas</td>\n",
       "                        <td id=\"T_f1ba9bda_8b1c_11ea_b195_f403434e87bfrow6_col2\" class=\"data row6 col2\" >fundamental</td>\n",
       "                        <td id=\"T_f1ba9bda_8b1c_11ea_b195_f403434e87bfrow6_col3\" class=\"data row6 col3\" >1433</td>\n",
       "                        <td id=\"T_f1ba9bda_8b1c_11ea_b195_f403434e87bfrow6_col4\" class=\"data row6 col4\" >35.42%</td>\n",
       "                        <td id=\"T_f1ba9bda_8b1c_11ea_b195_f403434e87bfrow6_col5\" class=\"data row6 col5\" >64</td>\n",
       "                        <td id=\"T_f1ba9bda_8b1c_11ea_b195_f403434e87bfrow6_col6\" class=\"data row6 col6\" >40.51%</td>\n",
       "                        <td id=\"T_f1ba9bda_8b1c_11ea_b195_f403434e87bfrow6_col7\" class=\"data row6 col7\" >4.47%</td>\n",
       "                        <td id=\"T_f1ba9bda_8b1c_11ea_b195_f403434e87bfrow6_col8\" class=\"data row6 col8\" >0.14</td>\n",
       "                        <td id=\"T_f1ba9bda_8b1c_11ea_b195_f403434e87bfrow6_col9\" class=\"data row6 col9\" >0.01</td>\n",
       "            </tr>\n",
       "            <tr>\n",
       "                        <th id=\"T_f1ba9bda_8b1c_11ea_b195_f403434e87bflevel0_row7\" class=\"row_heading level0 row7\" >7</th>\n",
       "                        <td id=\"T_f1ba9bda_8b1c_11ea_b195_f403434e87bfrow7_col0\" class=\"data row7 col0\" >variavel_teste</td>\n",
       "                        <td id=\"T_f1ba9bda_8b1c_11ea_b195_f403434e87bfrow7_col1\" class=\"data row7 col1\" >SantanderContas</td>\n",
       "                        <td id=\"T_f1ba9bda_8b1c_11ea_b195_f403434e87bfrow7_col2\" class=\"data row7 col2\" >medio/tecnico</td>\n",
       "                        <td id=\"T_f1ba9bda_8b1c_11ea_b195_f403434e87bfrow7_col3\" class=\"data row7 col3\" >1702</td>\n",
       "                        <td id=\"T_f1ba9bda_8b1c_11ea_b195_f403434e87bfrow7_col4\" class=\"data row7 col4\" >42.07%</td>\n",
       "                        <td id=\"T_f1ba9bda_8b1c_11ea_b195_f403434e87bfrow7_col5\" class=\"data row7 col5\" >67</td>\n",
       "                        <td id=\"T_f1ba9bda_8b1c_11ea_b195_f403434e87bfrow7_col6\" class=\"data row7 col6\" >42.41%</td>\n",
       "                        <td id=\"T_f1ba9bda_8b1c_11ea_b195_f403434e87bfrow7_col7\" class=\"data row7 col7\" >3.94%</td>\n",
       "                        <td id=\"T_f1ba9bda_8b1c_11ea_b195_f403434e87bfrow7_col8\" class=\"data row7 col8\" >0.01</td>\n",
       "                        <td id=\"T_f1ba9bda_8b1c_11ea_b195_f403434e87bfrow7_col9\" class=\"data row7 col9\" >0.00</td>\n",
       "            </tr>\n",
       "            <tr>\n",
       "                        <th id=\"T_f1ba9bda_8b1c_11ea_b195_f403434e87bflevel0_row8\" class=\"row_heading level0 row8\" >8</th>\n",
       "                        <td id=\"T_f1ba9bda_8b1c_11ea_b195_f403434e87bfrow8_col0\" class=\"data row8 col0\" >variavel_teste</td>\n",
       "                        <td id=\"T_f1ba9bda_8b1c_11ea_b195_f403434e87bfrow8_col1\" class=\"data row8 col1\" >SantanderContas</td>\n",
       "                        <td id=\"T_f1ba9bda_8b1c_11ea_b195_f403434e87bfrow8_col2\" class=\"data row8 col2\" >pos</td>\n",
       "                        <td id=\"T_f1ba9bda_8b1c_11ea_b195_f403434e87bfrow8_col3\" class=\"data row8 col3\" >122</td>\n",
       "                        <td id=\"T_f1ba9bda_8b1c_11ea_b195_f403434e87bfrow8_col4\" class=\"data row8 col4\" >3.02%</td>\n",
       "                        <td id=\"T_f1ba9bda_8b1c_11ea_b195_f403434e87bfrow8_col5\" class=\"data row8 col5\" >3</td>\n",
       "                        <td id=\"T_f1ba9bda_8b1c_11ea_b195_f403434e87bfrow8_col6\" class=\"data row8 col6\" >1.90%</td>\n",
       "                        <td id=\"T_f1ba9bda_8b1c_11ea_b195_f403434e87bfrow8_col7\" class=\"data row8 col7\" >2.46%</td>\n",
       "                        <td id=\"T_f1ba9bda_8b1c_11ea_b195_f403434e87bfrow8_col8\" class=\"data row8 col8\" >-0.48</td>\n",
       "                        <td id=\"T_f1ba9bda_8b1c_11ea_b195_f403434e87bfrow8_col9\" class=\"data row8 col9\" >0.01</td>\n",
       "            </tr>\n",
       "            <tr>\n",
       "                        <th id=\"T_f1ba9bda_8b1c_11ea_b195_f403434e87bflevel0_row9\" class=\"row_heading level0 row9\" >9</th>\n",
       "                        <td id=\"T_f1ba9bda_8b1c_11ea_b195_f403434e87bfrow9_col0\" class=\"data row9 col0\" >variavel_teste</td>\n",
       "                        <td id=\"T_f1ba9bda_8b1c_11ea_b195_f403434e87bfrow9_col1\" class=\"data row9 col1\" >SantanderContas</td>\n",
       "                        <td id=\"T_f1ba9bda_8b1c_11ea_b195_f403434e87bfrow9_col2\" class=\"data row9 col2\" >sem info</td>\n",
       "                        <td id=\"T_f1ba9bda_8b1c_11ea_b195_f403434e87bfrow9_col3\" class=\"data row9 col3\" >35</td>\n",
       "                        <td id=\"T_f1ba9bda_8b1c_11ea_b195_f403434e87bfrow9_col4\" class=\"data row9 col4\" >0.87%</td>\n",
       "                        <td id=\"T_f1ba9bda_8b1c_11ea_b195_f403434e87bfrow9_col5\" class=\"data row9 col5\" >7</td>\n",
       "                        <td id=\"T_f1ba9bda_8b1c_11ea_b195_f403434e87bfrow9_col6\" class=\"data row9 col6\" >4.43%</td>\n",
       "                        <td id=\"T_f1ba9bda_8b1c_11ea_b195_f403434e87bfrow9_col7\" class=\"data row9 col7\" >20.00%</td>\n",
       "                        <td id=\"T_f1ba9bda_8b1c_11ea_b195_f403434e87bfrow9_col8\" class=\"data row9 col8\" >1.82</td>\n",
       "                        <td id=\"T_f1ba9bda_8b1c_11ea_b195_f403434e87bfrow9_col9\" class=\"data row9 col9\" >0.07</td>\n",
       "            </tr>\n",
       "            <tr>\n",
       "                        <th id=\"T_f1ba9bda_8b1c_11ea_b195_f403434e87bflevel0_row10\" class=\"row_heading level0 row10\" >10</th>\n",
       "                        <td id=\"T_f1ba9bda_8b1c_11ea_b195_f403434e87bfrow10_col0\" class=\"data row10 col0\" >variavel_teste</td>\n",
       "                        <td id=\"T_f1ba9bda_8b1c_11ea_b195_f403434e87bfrow10_col1\" class=\"data row10 col1\" >SantanderFinanciamentos</td>\n",
       "                        <td id=\"T_f1ba9bda_8b1c_11ea_b195_f403434e87bfrow10_col2\" class=\"data row10 col2\" >sem info</td>\n",
       "                        <td id=\"T_f1ba9bda_8b1c_11ea_b195_f403434e87bfrow10_col3\" class=\"data row10 col3\" >2908</td>\n",
       "                        <td id=\"T_f1ba9bda_8b1c_11ea_b195_f403434e87bfrow10_col4\" class=\"data row10 col4\" >100.00%</td>\n",
       "                        <td id=\"T_f1ba9bda_8b1c_11ea_b195_f403434e87bfrow10_col5\" class=\"data row10 col5\" >142</td>\n",
       "                        <td id=\"T_f1ba9bda_8b1c_11ea_b195_f403434e87bfrow10_col6\" class=\"data row10 col6\" >100.00%</td>\n",
       "                        <td id=\"T_f1ba9bda_8b1c_11ea_b195_f403434e87bfrow10_col7\" class=\"data row10 col7\" >4.88%</td>\n",
       "                        <td id=\"T_f1ba9bda_8b1c_11ea_b195_f403434e87bfrow10_col8\" class=\"data row10 col8\" >0.00</td>\n",
       "                        <td id=\"T_f1ba9bda_8b1c_11ea_b195_f403434e87bfrow10_col9\" class=\"data row10 col9\" >0.00</td>\n",
       "            </tr>\n",
       "    </tbody></table>"
      ],
      "text/plain": [
       "<pandas.io.formats.style.Styler at 0x231e1563d30>"
      ]
     },
     "metadata": {},
     "output_type": "display_data"
    }
   ],
   "source": [
    "tcc.statisticalVariable(df, agg_nivel, 'y', groups=['entidade_nome']) \\\n",
    "    .bivariadaTable()"
   ]
  },
  {
   "cell_type": "markdown",
   "metadata": {},
   "source": [
    "# sklearn \n",
    "\n",
    "Tópicos:\n",
    "\n",
    "* estrutura geral do pacote\n",
    "* transformers\n",
    "* Classificadores\n",
    "* Avaliação de modelos\n",
    "* Funções auxiliares para fluxo de treino/avaliação de modelos\n",
    "\n",
    "<br>\n",
    "\n",
    "Principais módulos:\n",
    "\n",
    "* [https://scikit-learn.org/stable/modules/classes.html#module-sklearn.linear_model]\n",
    "* [https://scikit-learn.org/stable/modules/classes.html#module-sklearn.metrics]\n",
    "* [https://scikit-learn.org/stable/modules/classes.html#module-sklearn.model_selection]\n",
    "* [https://scikit-learn.org/stable/modules/classes.html#module-sklearn.preprocessing]"
   ]
  },
  {
   "cell_type": "markdown",
   "metadata": {},
   "source": [
    "Apresentação do pacote"
   ]
  },
  {
   "cell_type": "markdown",
   "metadata": {},
   "source": [
    "## transformers \n",
    "\n",
    "O módulo sklearn.preprocessing contém classes e funções para a transformação e adequação de dados para a etapa de modelagem em inúmeros sentidos: transformações contínuas, normalizações, encoders, etc. Suas classes seguem o fluxo `.fit() -> .transform()`. Aqui, vou falar de 3:\n",
    "\n",
    "* OneHotEncoder - cria matriz com variáveis dummy para cada nível da feature\n",
    "* StandardScaler - padronização para obter dados com média 0 e variância 1\n",
    "* WOEEncoder - transformação Weight of Evidence para par (feature, target01)\n",
    "* PolynomialFeatures - permite interagir variáveis e gerar outras com suas potências\n",
    "\n",
    "A vantagem de usar estas classes é que são otimizadas internamente e aplicam as transformações a cada elemento de uma matriz de input."
   ]
  },
  {
   "cell_type": "code",
   "execution_count": 22,
   "metadata": {
    "ExecuteTime": {
     "end_time": "2020-04-30T14:49:55.114768Z",
     "start_time": "2020-04-30T14:49:55.000096Z"
    }
   },
   "outputs": [],
   "source": [
    "from sklearn.preprocessing import (OneHotEncoder, \n",
    "                                   StandardScaler, scale,\n",
    "                                   PolynomialFeatures)\n",
    "from category_encoders import WOEEncoder"
   ]
  },
  {
   "cell_type": "code",
   "execution_count": 23,
   "metadata": {
    "ExecuteTime": {
     "end_time": "2020-04-30T14:49:55.121288Z",
     "start_time": "2020-04-30T14:49:55.116766Z"
    }
   },
   "outputs": [],
   "source": [
    "std = StandardScaler(with_mean=True, with_std=True)\n",
    "one = OneHotEncoder(categories='auto', drop=None, sparse=False)\n",
    "woe = WOEEncoder(regularization=0)"
   ]
  },
  {
   "cell_type": "markdown",
   "metadata": {},
   "source": [
    "### StandardScaler\n",
    "\n",
    "Para cada coluna da matriz de input X, tira sua média e divide pelo seu desvio padrão. Pode ser usada tanto com a classe `StandardScaler` como com a função `scale`"
   ]
  },
  {
   "cell_type": "code",
   "execution_count": 24,
   "metadata": {
    "ExecuteTime": {
     "end_time": "2020-04-30T14:49:55.141305Z",
     "start_time": "2020-04-30T14:49:55.122288Z"
    }
   },
   "outputs": [
    {
     "data": {
      "text/plain": [
       "array([[ 0.42067147, -0.10577063,  2.87601743, -0.01163857],\n",
       "       [-0.34672251,  0.91899074,  5.29787374, -0.01157903],\n",
       "       [-0.5769407 ,  0.88396056,  6.91244461, -0.01163432],\n",
       "       ...,\n",
       "       [-0.26998311, -0.63322805, -0.35312432, -0.01157903],\n",
       "       [ 0.65088966,  0.73677667, -0.35312432, -0.01162156],\n",
       "       [-0.8071589 ,  0.43837872, -0.35312432, -0.01149396]])"
      ]
     },
     "execution_count": 24,
     "metadata": {},
     "output_type": "execute_result"
    }
   ],
   "source": [
    "std.fit_transform(df[['idade','tempo_analise','quantidade_de_reanalises','renda']].astype(float))"
   ]
  },
  {
   "cell_type": "markdown",
   "metadata": {},
   "source": [
    "### OneHotEncoder, pd.get_dummies"
   ]
  },
  {
   "cell_type": "code",
   "execution_count": 25,
   "metadata": {
    "ExecuteTime": {
     "end_time": "2020-04-30T14:49:55.152336Z",
     "start_time": "2020-04-30T14:49:55.142305Z"
    }
   },
   "outputs": [
    {
     "data": {
      "text/plain": [
       "SantanderCartoesWay        9849\n",
       "SantanderContas            4046\n",
       "SantanderFinanciamentos    2908\n",
       "Name: entidade_nome, dtype: int64"
      ]
     },
     "execution_count": 25,
     "metadata": {},
     "output_type": "execute_result"
    }
   ],
   "source": [
    "df['entidade_nome'].value_counts()"
   ]
  },
  {
   "cell_type": "code",
   "execution_count": 26,
   "metadata": {
    "ExecuteTime": {
     "end_time": "2020-04-30T14:49:55.169346Z",
     "start_time": "2020-04-30T14:49:55.154315Z"
    }
   },
   "outputs": [
    {
     "name": "stdout",
     "output_type": "stream",
     "text": [
      "(16803, 3)\n"
     ]
    },
    {
     "data": {
      "text/plain": [
       "array([[0., 1., 0.],\n",
       "       [0., 1., 0.],\n",
       "       [0., 1., 0.],\n",
       "       ...,\n",
       "       [1., 0., 0.],\n",
       "       [1., 0., 0.],\n",
       "       [1., 0., 0.]])"
      ]
     },
     "execution_count": 26,
     "metadata": {},
     "output_type": "execute_result"
    }
   ],
   "source": [
    "entidade_nome_onehot = one.fit_transform(df[['entidade_nome']])\n",
    "print(entidade_nome_onehot.shape)\n",
    "entidade_nome_onehot"
   ]
  },
  {
   "cell_type": "code",
   "execution_count": 27,
   "metadata": {
    "ExecuteTime": {
     "end_time": "2020-04-30T14:49:55.175332Z",
     "start_time": "2020-04-30T14:49:55.171328Z"
    }
   },
   "outputs": [
    {
     "data": {
      "text/plain": [
       "array([9849., 4046., 2908.])"
      ]
     },
     "execution_count": 27,
     "metadata": {},
     "output_type": "execute_result"
    }
   ],
   "source": [
    "entidade_nome_onehot.sum(axis=0)"
   ]
  },
  {
   "cell_type": "markdown",
   "metadata": {},
   "source": [
    "Apesar de ser mais difícil de trabalhar, a classe OneHotEncoder é uma alternativa mais escalável à função pd.get_dummies (possui representação esparsa). Além disso, possui uma melhor interação com as outras funções do sklearn. Mesmo assim, segue comparação com pd.get_dummies:"
   ]
  },
  {
   "cell_type": "code",
   "execution_count": 28,
   "metadata": {
    "ExecuteTime": {
     "end_time": "2020-04-30T14:49:55.193347Z",
     "start_time": "2020-04-30T14:49:55.177334Z"
    }
   },
   "outputs": [
    {
     "data": {
      "text/html": [
       "<div>\n",
       "<style scoped>\n",
       "    .dataframe tbody tr th:only-of-type {\n",
       "        vertical-align: middle;\n",
       "    }\n",
       "\n",
       "    .dataframe tbody tr th {\n",
       "        vertical-align: top;\n",
       "    }\n",
       "\n",
       "    .dataframe thead th {\n",
       "        text-align: right;\n",
       "    }\n",
       "</style>\n",
       "<table border=\"1\" class=\"dataframe\">\n",
       "  <thead>\n",
       "    <tr style=\"text-align: right;\">\n",
       "      <th></th>\n",
       "      <th>SantanderCartoesWay</th>\n",
       "      <th>SantanderContas</th>\n",
       "      <th>SantanderFinanciamentos</th>\n",
       "    </tr>\n",
       "  </thead>\n",
       "  <tbody>\n",
       "    <tr>\n",
       "      <th>7149</th>\n",
       "      <td>1</td>\n",
       "      <td>0</td>\n",
       "      <td>0</td>\n",
       "    </tr>\n",
       "    <tr>\n",
       "      <th>13702</th>\n",
       "      <td>1</td>\n",
       "      <td>0</td>\n",
       "      <td>0</td>\n",
       "    </tr>\n",
       "    <tr>\n",
       "      <th>15757</th>\n",
       "      <td>1</td>\n",
       "      <td>0</td>\n",
       "      <td>0</td>\n",
       "    </tr>\n",
       "    <tr>\n",
       "      <th>3855</th>\n",
       "      <td>0</td>\n",
       "      <td>1</td>\n",
       "      <td>0</td>\n",
       "    </tr>\n",
       "    <tr>\n",
       "      <th>11880</th>\n",
       "      <td>1</td>\n",
       "      <td>0</td>\n",
       "      <td>0</td>\n",
       "    </tr>\n",
       "  </tbody>\n",
       "</table>\n",
       "</div>"
      ],
      "text/plain": [
       "       SantanderCartoesWay  SantanderContas  SantanderFinanciamentos\n",
       "7149                     1                0                        0\n",
       "13702                    1                0                        0\n",
       "15757                    1                0                        0\n",
       "3855                     0                1                        0\n",
       "11880                    1                0                        0"
      ]
     },
     "execution_count": 28,
     "metadata": {},
     "output_type": "execute_result"
    }
   ],
   "source": [
    "entidade_nome_dummies = pd.get_dummies(df['entidade_nome'])\n",
    "entidade_nome_dummies.sample(5)"
   ]
  },
  {
   "cell_type": "markdown",
   "metadata": {},
   "source": [
    "Checando igualdade:"
   ]
  },
  {
   "cell_type": "code",
   "execution_count": 29,
   "metadata": {
    "ExecuteTime": {
     "end_time": "2020-04-30T14:49:55.199352Z",
     "start_time": "2020-04-30T14:49:55.194355Z"
    }
   },
   "outputs": [
    {
     "data": {
      "text/plain": [
       "True"
      ]
     },
     "execution_count": 29,
     "metadata": {},
     "output_type": "execute_result"
    }
   ],
   "source": [
    "(entidade_nome_onehot == entidade_nome_dummies.values).all()"
   ]
  },
  {
   "cell_type": "markdown",
   "metadata": {},
   "source": [
    "### PolynomialFeatures"
   ]
  },
  {
   "cell_type": "markdown",
   "metadata": {},
   "source": [
    "Primeira utilidade: interação entre variáveis"
   ]
  },
  {
   "cell_type": "code",
   "execution_count": 30,
   "metadata": {
    "ExecuteTime": {
     "end_time": "2020-04-30T14:49:55.203865Z",
     "start_time": "2020-04-30T14:49:55.200353Z"
    }
   },
   "outputs": [],
   "source": [
    "inter = PolynomialFeatures(degree=2, interaction_only=True, include_bias=False)"
   ]
  },
  {
   "cell_type": "code",
   "execution_count": 31,
   "metadata": {
    "ExecuteTime": {
     "end_time": "2020-04-30T14:49:55.217390Z",
     "start_time": "2020-04-30T14:49:55.205866Z"
    }
   },
   "outputs": [
    {
     "data": {
      "text/plain": [
       "0    1100.0\n",
       "1    2500.0\n",
       "2    1200.0\n",
       "3    1650.0\n",
       "4    1700.0\n",
       "Name: renda, dtype: float64"
      ]
     },
     "execution_count": 31,
     "metadata": {},
     "output_type": "execute_result"
    }
   ],
   "source": [
    "df.renda.astype(float).head()"
   ]
  },
  {
   "cell_type": "code",
   "execution_count": 32,
   "metadata": {
    "ExecuteTime": {
     "end_time": "2020-04-30T14:49:55.270055Z",
     "start_time": "2020-04-30T14:49:55.219010Z"
    }
   },
   "outputs": [],
   "source": [
    "df['idade'] = df['idade'].fillna(18)\n",
    "df['renda'] = df['renda'].astype(float).fillna(0)\n",
    "\n",
    "idade_renda = inter.fit_transform(df[['idade','renda']])"
   ]
  },
  {
   "cell_type": "code",
   "execution_count": 33,
   "metadata": {
    "ExecuteTime": {
     "end_time": "2020-04-30T14:49:55.276089Z",
     "start_time": "2020-04-30T14:49:55.272054Z"
    }
   },
   "outputs": [
    {
     "data": {
      "text/plain": [
       "array([[4.100e+01, 1.100e+03, 4.510e+04],\n",
       "       [3.100e+01, 2.500e+03, 7.750e+04],\n",
       "       [2.800e+01, 1.200e+03, 3.360e+04],\n",
       "       ...,\n",
       "       [3.200e+01, 2.500e+03, 8.000e+04],\n",
       "       [4.400e+01, 1.500e+03, 6.600e+04],\n",
       "       [2.500e+01, 4.500e+03, 1.125e+05]])"
      ]
     },
     "execution_count": 33,
     "metadata": {},
     "output_type": "execute_result"
    }
   ],
   "source": [
    "idade_renda"
   ]
  },
  {
   "cell_type": "code",
   "execution_count": 34,
   "metadata": {
    "ExecuteTime": {
     "end_time": "2020-04-30T14:49:55.289069Z",
     "start_time": "2020-04-30T14:49:55.277059Z"
    }
   },
   "outputs": [
    {
     "data": {
      "text/html": [
       "<div>\n",
       "<style scoped>\n",
       "    .dataframe tbody tr th:only-of-type {\n",
       "        vertical-align: middle;\n",
       "    }\n",
       "\n",
       "    .dataframe tbody tr th {\n",
       "        vertical-align: top;\n",
       "    }\n",
       "\n",
       "    .dataframe thead th {\n",
       "        text-align: right;\n",
       "    }\n",
       "</style>\n",
       "<table border=\"1\" class=\"dataframe\">\n",
       "  <thead>\n",
       "    <tr style=\"text-align: right;\">\n",
       "      <th></th>\n",
       "      <th>idade</th>\n",
       "      <th>renda</th>\n",
       "      <th>idade:renda</th>\n",
       "    </tr>\n",
       "  </thead>\n",
       "  <tbody>\n",
       "    <tr>\n",
       "      <th>0</th>\n",
       "      <td>41.0</td>\n",
       "      <td>1100.0</td>\n",
       "      <td>45100.0</td>\n",
       "    </tr>\n",
       "    <tr>\n",
       "      <th>1</th>\n",
       "      <td>31.0</td>\n",
       "      <td>2500.0</td>\n",
       "      <td>77500.0</td>\n",
       "    </tr>\n",
       "    <tr>\n",
       "      <th>2</th>\n",
       "      <td>28.0</td>\n",
       "      <td>1200.0</td>\n",
       "      <td>33600.0</td>\n",
       "    </tr>\n",
       "    <tr>\n",
       "      <th>3</th>\n",
       "      <td>26.0</td>\n",
       "      <td>1650.0</td>\n",
       "      <td>42900.0</td>\n",
       "    </tr>\n",
       "    <tr>\n",
       "      <th>4</th>\n",
       "      <td>39.0</td>\n",
       "      <td>1700.0</td>\n",
       "      <td>66300.0</td>\n",
       "    </tr>\n",
       "  </tbody>\n",
       "</table>\n",
       "</div>"
      ],
      "text/plain": [
       "   idade   renda  idade:renda\n",
       "0   41.0  1100.0      45100.0\n",
       "1   31.0  2500.0      77500.0\n",
       "2   28.0  1200.0      33600.0\n",
       "3   26.0  1650.0      42900.0\n",
       "4   39.0  1700.0      66300.0"
      ]
     },
     "execution_count": 34,
     "metadata": {},
     "output_type": "execute_result"
    }
   ],
   "source": [
    "pd.DataFrame(idade_renda, columns=['idade','renda','idade:renda']).head()"
   ]
  },
  {
   "cell_type": "markdown",
   "metadata": {},
   "source": [
    "Segunda opção: x^2, x^3, etc"
   ]
  },
  {
   "cell_type": "code",
   "execution_count": 35,
   "metadata": {
    "ExecuteTime": {
     "end_time": "2020-04-30T14:49:55.294080Z",
     "start_time": "2020-04-30T14:49:55.291070Z"
    }
   },
   "outputs": [],
   "source": [
    "sqrd = PolynomialFeatures(degree=2, include_bias=True)"
   ]
  },
  {
   "cell_type": "code",
   "execution_count": 36,
   "metadata": {
    "ExecuteTime": {
     "end_time": "2020-04-30T14:49:55.311101Z",
     "start_time": "2020-04-30T14:49:55.295074Z"
    }
   },
   "outputs": [
    {
     "data": {
      "text/html": [
       "<div>\n",
       "<style scoped>\n",
       "    .dataframe tbody tr th:only-of-type {\n",
       "        vertical-align: middle;\n",
       "    }\n",
       "\n",
       "    .dataframe tbody tr th {\n",
       "        vertical-align: top;\n",
       "    }\n",
       "\n",
       "    .dataframe thead th {\n",
       "        text-align: right;\n",
       "    }\n",
       "</style>\n",
       "<table border=\"1\" class=\"dataframe\">\n",
       "  <thead>\n",
       "    <tr style=\"text-align: right;\">\n",
       "      <th></th>\n",
       "      <th>intercepto</th>\n",
       "      <th>idade</th>\n",
       "      <th>idade**2</th>\n",
       "    </tr>\n",
       "  </thead>\n",
       "  <tbody>\n",
       "    <tr>\n",
       "      <th>0</th>\n",
       "      <td>1.0</td>\n",
       "      <td>41.0</td>\n",
       "      <td>1681.0</td>\n",
       "    </tr>\n",
       "    <tr>\n",
       "      <th>1</th>\n",
       "      <td>1.0</td>\n",
       "      <td>31.0</td>\n",
       "      <td>961.0</td>\n",
       "    </tr>\n",
       "    <tr>\n",
       "      <th>2</th>\n",
       "      <td>1.0</td>\n",
       "      <td>28.0</td>\n",
       "      <td>784.0</td>\n",
       "    </tr>\n",
       "    <tr>\n",
       "      <th>3</th>\n",
       "      <td>1.0</td>\n",
       "      <td>26.0</td>\n",
       "      <td>676.0</td>\n",
       "    </tr>\n",
       "    <tr>\n",
       "      <th>4</th>\n",
       "      <td>1.0</td>\n",
       "      <td>39.0</td>\n",
       "      <td>1521.0</td>\n",
       "    </tr>\n",
       "  </tbody>\n",
       "</table>\n",
       "</div>"
      ],
      "text/plain": [
       "   intercepto  idade  idade**2\n",
       "0         1.0   41.0    1681.0\n",
       "1         1.0   31.0     961.0\n",
       "2         1.0   28.0     784.0\n",
       "3         1.0   26.0     676.0\n",
       "4         1.0   39.0    1521.0"
      ]
     },
     "execution_count": 36,
     "metadata": {},
     "output_type": "execute_result"
    }
   ],
   "source": [
    "pd.DataFrame(sqrd.fit_transform(df[['idade']]), columns=['intercepto','idade','idade**2']).head()"
   ]
  },
  {
   "cell_type": "markdown",
   "metadata": {},
   "source": [
    "### WOEEncoder\n",
    "\n",
    "Classe muito útil para gerar target encoder WOE em múltiplas variáveis de forma vetorizada. Não vem nativamente do sklearn, mas de um pacote auxiliar chamado category_encoders. Apesar disso, possui chamada de métodos equivalente (`.fit() -> .transform()`)"
   ]
  },
  {
   "cell_type": "code",
   "execution_count": 124,
   "metadata": {
    "ExecuteTime": {
     "end_time": "2020-04-30T20:06:55.802495Z",
     "start_time": "2020-04-30T20:06:55.798468Z"
    }
   },
   "outputs": [],
   "source": [
    "woe = WOEEncoder(regularization=0)"
   ]
  },
  {
   "cell_type": "code",
   "execution_count": 125,
   "metadata": {
    "ExecuteTime": {
     "end_time": "2020-04-30T20:07:02.972240Z",
     "start_time": "2020-04-30T20:07:02.965211Z"
    }
   },
   "outputs": [
    {
     "name": "stdout",
     "output_type": "stream",
     "text": [
      "Help on WOEEncoder in module category_encoders.woe object:\n",
      "\n",
      "class WOEEncoder(sklearn.base.BaseEstimator, sklearn.base.TransformerMixin)\n",
      " |  WOEEncoder(verbose=0, cols=None, drop_invariant=False, return_df=True, handle_unknown='value', handle_missing='value', random_state=None, randomized=False, sigma=0.05, regularization=1.0)\n",
      " |  \n",
      " |  Weight of Evidence coding for categorical features.\n",
      " |  \n",
      " |  Parameters\n",
      " |  ----------\n",
      " |  \n",
      " |  verbose: int\n",
      " |      integer indicating verbosity of the output. 0 for none.\n",
      " |  cols: list\n",
      " |      a list of columns to encode, if None, all string columns will be encoded.\n",
      " |  drop_invariant: bool\n",
      " |      boolean for whether or not to drop columns with 0 variance.\n",
      " |  return_df: bool\n",
      " |      boolean for whether to return a pandas DataFrame from transform (otherwise it will be a numpy array).\n",
      " |  handle_unknown: str\n",
      " |      options are 'return_nan', 'error' and 'value', defaults to 'value', which will assume WOE=0.\n",
      " |  randomized: bool,\n",
      " |      adds normal (Gaussian) distribution noise into training data in order to decrease overfitting (testing data are untouched).\n",
      " |  sigma: float\n",
      " |      standard deviation (spread or \"width\") of the normal distribution.\n",
      " |  regularization: float\n",
      " |      the purpose of regularization is mostly to prevent division by zero.\n",
      " |      When regularization is 0, you may encounter division by zero.\n",
      " |  \n",
      " |  Example\n",
      " |  -------\n",
      " |  >>> from category_encoders import *\n",
      " |  >>> import pandas as pd\n",
      " |  >>> from sklearn.datasets import load_boston\n",
      " |  >>> bunch = load_boston()\n",
      " |  >>> y = bunch.target > 22.5\n",
      " |  >>> X = pd.DataFrame(bunch.data, columns=bunch.feature_names)\n",
      " |  >>> enc = WOEEncoder(cols=['CHAS', 'RAD']).fit(X, y)\n",
      " |  >>> numeric_dataset = enc.transform(X)\n",
      " |  >>> print(numeric_dataset.info())\n",
      " |  <class 'pandas.core.frame.DataFrame'>\n",
      " |  RangeIndex: 506 entries, 0 to 505\n",
      " |  Data columns (total 13 columns):\n",
      " |  CRIM       506 non-null float64\n",
      " |  ZN         506 non-null float64\n",
      " |  INDUS      506 non-null float64\n",
      " |  CHAS       506 non-null float64\n",
      " |  NOX        506 non-null float64\n",
      " |  RM         506 non-null float64\n",
      " |  AGE        506 non-null float64\n",
      " |  DIS        506 non-null float64\n",
      " |  RAD        506 non-null float64\n",
      " |  TAX        506 non-null float64\n",
      " |  PTRATIO    506 non-null float64\n",
      " |  B          506 non-null float64\n",
      " |  LSTAT      506 non-null float64\n",
      " |  dtypes: float64(13)\n",
      " |  memory usage: 51.5 KB\n",
      " |  None\n",
      " |  \n",
      " |  References\n",
      " |  ----------\n",
      " |  \n",
      " |  .. [1] Weight of Evidence (WOE) and Information Value Explained, from\n",
      " |  https://www.listendata.com/2015/03/weight-of-evidence-woe-and-information.html\n",
      " |  \n",
      " |  Method resolution order:\n",
      " |      WOEEncoder\n",
      " |      sklearn.base.BaseEstimator\n",
      " |      sklearn.base.TransformerMixin\n",
      " |      builtins.object\n",
      " |  \n",
      " |  Methods defined here:\n",
      " |  \n",
      " |  __init__(self, verbose=0, cols=None, drop_invariant=False, return_df=True, handle_unknown='value', handle_missing='value', random_state=None, randomized=False, sigma=0.05, regularization=1.0)\n",
      " |      Initialize self.  See help(type(self)) for accurate signature.\n",
      " |  \n",
      " |  fit(self, X, y, **kwargs)\n",
      " |      Fit encoder according to X and binary y.\n",
      " |      \n",
      " |      Parameters\n",
      " |      ----------\n",
      " |      \n",
      " |      X : array-like, shape = [n_samples, n_features]\n",
      " |          Training vectors, where n_samples is the number of samples\n",
      " |          and n_features is the number of features.\n",
      " |      y : array-like, shape = [n_samples]\n",
      " |          Binary target values.\n",
      " |      \n",
      " |      Returns\n",
      " |      -------\n",
      " |      \n",
      " |      self : encoder\n",
      " |          Returns self.\n",
      " |  \n",
      " |  fit_transform(self, X, y=None, **fit_params)\n",
      " |      Encoders that utilize the target must make sure that the training data are transformed with:\n",
      " |          transform(X, y)\n",
      " |      and not with:\n",
      " |          transform(X)\n",
      " |  \n",
      " |  get_feature_names(self)\n",
      " |      Returns the names of all transformed / added columns.\n",
      " |      \n",
      " |      Returns\n",
      " |      -------\n",
      " |      feature_names: list\n",
      " |          A list with all feature names transformed or added.\n",
      " |          Note: potentially dropped features are not included!\n",
      " |  \n",
      " |  transform(self, X, y=None, override_return_df=False)\n",
      " |      Perform the transformation to new categorical data. When the data are used for model training,\n",
      " |      it is important to also pass the target in order to apply leave one out.\n",
      " |      \n",
      " |      Parameters\n",
      " |      ----------\n",
      " |      \n",
      " |      X : array-like, shape = [n_samples, n_features]\n",
      " |      y : array-like, shape = [n_samples] when transform by leave one out\n",
      " |          None, when transform without target information (such as transform test set)\n",
      " |      \n",
      " |      Returns\n",
      " |      -------\n",
      " |      \n",
      " |      p : array, shape = [n_samples, n_numeric + N]\n",
      " |          Transformed values with encoding applied.\n",
      " |  \n",
      " |  ----------------------------------------------------------------------\n",
      " |  Methods inherited from sklearn.base.BaseEstimator:\n",
      " |  \n",
      " |  __getstate__(self)\n",
      " |  \n",
      " |  __repr__(self, N_CHAR_MAX=700)\n",
      " |      Return repr(self).\n",
      " |  \n",
      " |  __setstate__(self, state)\n",
      " |  \n",
      " |  get_params(self, deep=True)\n",
      " |      Get parameters for this estimator.\n",
      " |      \n",
      " |      Parameters\n",
      " |      ----------\n",
      " |      deep : bool, default=True\n",
      " |          If True, will return the parameters for this estimator and\n",
      " |          contained subobjects that are estimators.\n",
      " |      \n",
      " |      Returns\n",
      " |      -------\n",
      " |      params : mapping of string to any\n",
      " |          Parameter names mapped to their values.\n",
      " |  \n",
      " |  set_params(self, **params)\n",
      " |      Set the parameters of this estimator.\n",
      " |      \n",
      " |      The method works on simple estimators as well as on nested objects\n",
      " |      (such as pipelines). The latter have parameters of the form\n",
      " |      ``<component>__<parameter>`` so that it's possible to update each\n",
      " |      component of a nested object.\n",
      " |      \n",
      " |      Parameters\n",
      " |      ----------\n",
      " |      **params : dict\n",
      " |          Estimator parameters.\n",
      " |      \n",
      " |      Returns\n",
      " |      -------\n",
      " |      self : object\n",
      " |          Estimator instance.\n",
      " |  \n",
      " |  ----------------------------------------------------------------------\n",
      " |  Data descriptors inherited from sklearn.base.BaseEstimator:\n",
      " |  \n",
      " |  __dict__\n",
      " |      dictionary for instance variables (if defined)\n",
      " |  \n",
      " |  __weakref__\n",
      " |      list of weak references to the object (if defined)\n",
      "\n"
     ]
    }
   ],
   "source": [
    "help(woe)"
   ]
  },
  {
   "cell_type": "markdown",
   "metadata": {},
   "source": [
    "Note que o método `.fit`, para este caso, necessita da variável resposta além da matriz de features."
   ]
  },
  {
   "cell_type": "code",
   "execution_count": 38,
   "metadata": {
    "ExecuteTime": {
     "end_time": "2020-04-30T14:49:55.320640Z",
     "start_time": "2020-04-30T14:49:55.317113Z"
    }
   },
   "outputs": [
    {
     "name": "stdout",
     "output_type": "stream",
     "text": [
      "Help on method fit in module category_encoders.woe:\n",
      "\n",
      "fit(X, y, **kwargs) method of category_encoders.woe.WOEEncoder instance\n",
      "    Fit encoder according to X and binary y.\n",
      "    \n",
      "    Parameters\n",
      "    ----------\n",
      "    \n",
      "    X : array-like, shape = [n_samples, n_features]\n",
      "        Training vectors, where n_samples is the number of samples\n",
      "        and n_features is the number of features.\n",
      "    y : array-like, shape = [n_samples]\n",
      "        Binary target values.\n",
      "    \n",
      "    Returns\n",
      "    -------\n",
      "    \n",
      "    self : encoder\n",
      "        Returns self.\n",
      "\n"
     ]
    }
   ],
   "source": [
    "help(woe.fit)"
   ]
  },
  {
   "cell_type": "code",
   "execution_count": 126,
   "metadata": {
    "ExecuteTime": {
     "end_time": "2020-04-30T20:08:47.748490Z",
     "start_time": "2020-04-30T20:08:47.727472Z"
    }
   },
   "outputs": [],
   "source": [
    "df['idade_cat'] = pd.qcut(df['idade'], q=5)\n",
    "df['renda_cat'] = pd.qcut(df['renda'], q=5)"
   ]
  },
  {
   "cell_type": "code",
   "execution_count": 127,
   "metadata": {
    "ExecuteTime": {
     "end_time": "2020-04-30T20:08:53.609941Z",
     "start_time": "2020-04-30T20:08:53.599900Z"
    }
   },
   "outputs": [
    {
     "data": {
      "text/plain": [
       "(-0.001, 24.0]    3699\n",
       "(24.0, 30.0]      3115\n",
       "(30.0, 37.0]      3453\n",
       "(37.0, 46.0]      3317\n",
       "(46.0, 120.0]     3219\n",
       "Name: idade_cat, dtype: int64"
      ]
     },
     "execution_count": 127,
     "metadata": {},
     "output_type": "execute_result"
    }
   ],
   "source": [
    "df['idade_cat'].value_counts().sort_index()"
   ]
  },
  {
   "cell_type": "code",
   "execution_count": 128,
   "metadata": {
    "ExecuteTime": {
     "end_time": "2020-04-30T20:08:58.928337Z",
     "start_time": "2020-04-30T20:08:58.918328Z"
    }
   },
   "outputs": [
    {
     "data": {
      "text/plain": [
       "(-0.001, 1004.2]          3361\n",
       "(1004.2, 1500.0]          4178\n",
       "(1500.0, 2000.0]          3136\n",
       "(2000.0, 3000.0]          2998\n",
       "(3000.0, 2500000000.0]    3130\n",
       "Name: renda_cat, dtype: int64"
      ]
     },
     "execution_count": 128,
     "metadata": {},
     "output_type": "execute_result"
    }
   ],
   "source": [
    "df['renda_cat'].value_counts().sort_index()"
   ]
  },
  {
   "cell_type": "code",
   "execution_count": 42,
   "metadata": {
    "ExecuteTime": {
     "end_time": "2020-04-30T14:49:55.381673Z",
     "start_time": "2020-04-30T14:49:55.369666Z"
    }
   },
   "outputs": [
    {
     "data": {
      "text/plain": [
       "01/03    0.028745\n",
       "02/03    0.084628\n",
       "03/03    0.136702\n",
       "04/03    0.188181\n",
       "05/03    0.236684\n",
       "06/03    0.279176\n",
       "07/03    0.314349\n",
       "08/03    0.336309\n",
       "09/03    0.387193\n",
       "10/03    0.446349\n",
       "11/03    0.507528\n",
       "12/03    0.564364\n",
       "13/03    0.614057\n",
       "14/03    0.648872\n",
       "15/03    0.674879\n",
       "16/03    0.727906\n",
       "17/03    0.768137\n",
       "18/03    0.779385\n",
       "19/03    0.788907\n",
       "20/03    0.795513\n",
       "21/03    0.796703\n",
       "22/03    0.797715\n",
       "23/03    0.803130\n",
       "24/03    0.828364\n",
       "25/03    0.848896\n",
       "26/03    0.872344\n",
       "27/03    0.893352\n",
       "28/03    0.907159\n",
       "29/03    0.919360\n",
       "30/03    0.953758\n",
       "31/03    1.000000\n",
       "Name: anomes, dtype: float64"
      ]
     },
     "execution_count": 42,
     "metadata": {},
     "output_type": "execute_result"
    }
   ],
   "source": [
    "df.anomes.value_counts(normalize=True).sort_index().cumsum()"
   ]
  },
  {
   "cell_type": "code",
   "execution_count": 43,
   "metadata": {
    "ExecuteTime": {
     "end_time": "2020-04-30T14:49:55.386678Z",
     "start_time": "2020-04-30T14:49:55.383675Z"
    }
   },
   "outputs": [],
   "source": [
    "treino = df['pedido_data'] <= '20200323'"
   ]
  },
  {
   "cell_type": "code",
   "execution_count": 129,
   "metadata": {
    "ExecuteTime": {
     "end_time": "2020-04-30T20:10:19.388343Z",
     "start_time": "2020-04-30T20:10:19.352656Z"
    }
   },
   "outputs": [],
   "source": [
    "dftr = df[treino]\n",
    "dftt = df[~treino]\n",
    "vars_woe = ['idade_cat','renda_cat']"
   ]
  },
  {
   "cell_type": "code",
   "execution_count": 130,
   "metadata": {
    "ExecuteTime": {
     "end_time": "2020-04-30T20:10:19.728545Z",
     "start_time": "2020-04-30T20:10:19.390832Z"
    }
   },
   "outputs": [
    {
     "data": {
      "text/plain": [
       "WOEEncoder(cols=['idade_cat', 'renda_cat'], drop_invariant=False,\n",
       "           handle_missing='value', handle_unknown='value', random_state=None,\n",
       "           randomized=False, regularization=0, return_df=True, sigma=0.05,\n",
       "           verbose=0)"
      ]
     },
     "execution_count": 130,
     "metadata": {},
     "output_type": "execute_result"
    }
   ],
   "source": [
    "woe.fit(dftr[vars_woe].astype(str), dftr['y'])"
   ]
  },
  {
   "cell_type": "code",
   "execution_count": 133,
   "metadata": {
    "ExecuteTime": {
     "end_time": "2020-04-30T20:11:00.155765Z",
     "start_time": "2020-04-30T20:11:00.149761Z"
    }
   },
   "outputs": [
    {
     "data": {
      "text/plain": [
       "{'idade_cat': idade_cat\n",
       "  1   -0.252719\n",
       "  2   -0.456655\n",
       "  3   -0.401998\n",
       "  4    0.575035\n",
       "  5    0.175094\n",
       " -1    0.000000\n",
       " -2    0.000000\n",
       " dtype: float64, 'renda_cat': renda_cat\n",
       "  1    0.197401\n",
       "  2    0.147347\n",
       "  3   -0.086971\n",
       "  4   -0.371317\n",
       "  5    0.024550\n",
       " -1    0.000000\n",
       " -2    0.000000\n",
       " dtype: float64}"
      ]
     },
     "execution_count": 133,
     "metadata": {},
     "output_type": "execute_result"
    }
   ],
   "source": [
    "woe.mapping"
   ]
  },
  {
   "cell_type": "code",
   "execution_count": 134,
   "metadata": {
    "ExecuteTime": {
     "end_time": "2020-04-30T20:11:50.414628Z",
     "start_time": "2020-04-30T20:11:50.110134Z"
    }
   },
   "outputs": [
    {
     "data": {
      "text/html": [
       "<div>\n",
       "<style scoped>\n",
       "    .dataframe tbody tr th:only-of-type {\n",
       "        vertical-align: middle;\n",
       "    }\n",
       "\n",
       "    .dataframe tbody tr th {\n",
       "        vertical-align: top;\n",
       "    }\n",
       "\n",
       "    .dataframe thead th {\n",
       "        text-align: right;\n",
       "    }\n",
       "</style>\n",
       "<table border=\"1\" class=\"dataframe\">\n",
       "  <thead>\n",
       "    <tr style=\"text-align: right;\">\n",
       "      <th></th>\n",
       "      <th>idade_cat</th>\n",
       "      <th>renda_cat</th>\n",
       "    </tr>\n",
       "  </thead>\n",
       "  <tbody>\n",
       "    <tr>\n",
       "      <th>0</th>\n",
       "      <td>-0.252719</td>\n",
       "      <td>0.197401</td>\n",
       "    </tr>\n",
       "    <tr>\n",
       "      <th>1</th>\n",
       "      <td>-0.456655</td>\n",
       "      <td>0.147347</td>\n",
       "    </tr>\n",
       "    <tr>\n",
       "      <th>2</th>\n",
       "      <td>-0.401998</td>\n",
       "      <td>0.197401</td>\n",
       "    </tr>\n",
       "    <tr>\n",
       "      <th>3</th>\n",
       "      <td>-0.401998</td>\n",
       "      <td>-0.086971</td>\n",
       "    </tr>\n",
       "    <tr>\n",
       "      <th>5</th>\n",
       "      <td>0.575035</td>\n",
       "      <td>0.147347</td>\n",
       "    </tr>\n",
       "  </tbody>\n",
       "</table>\n",
       "</div>"
      ],
      "text/plain": [
       "   idade_cat  renda_cat\n",
       "0  -0.252719   0.197401\n",
       "1  -0.456655   0.147347\n",
       "2  -0.401998   0.197401\n",
       "3  -0.401998  -0.086971\n",
       "5   0.575035   0.147347"
      ]
     },
     "execution_count": 134,
     "metadata": {},
     "output_type": "execute_result"
    }
   ],
   "source": [
    "# base de treino\n",
    "woe.transform(dftr[vars_woe].astype(str)).head()"
   ]
  },
  {
   "cell_type": "code",
   "execution_count": 135,
   "metadata": {
    "ExecuteTime": {
     "end_time": "2020-04-30T20:11:54.621363Z",
     "start_time": "2020-04-30T20:11:54.564714Z"
    }
   },
   "outputs": [
    {
     "data": {
      "text/html": [
       "<div>\n",
       "<style scoped>\n",
       "    .dataframe tbody tr th:only-of-type {\n",
       "        vertical-align: middle;\n",
       "    }\n",
       "\n",
       "    .dataframe tbody tr th {\n",
       "        vertical-align: top;\n",
       "    }\n",
       "\n",
       "    .dataframe thead th {\n",
       "        text-align: right;\n",
       "    }\n",
       "</style>\n",
       "<table border=\"1\" class=\"dataframe\">\n",
       "  <thead>\n",
       "    <tr style=\"text-align: right;\">\n",
       "      <th></th>\n",
       "      <th>idade_cat</th>\n",
       "      <th>renda_cat</th>\n",
       "    </tr>\n",
       "  </thead>\n",
       "  <tbody>\n",
       "    <tr>\n",
       "      <th>4</th>\n",
       "      <td>-0.252719</td>\n",
       "      <td>-0.086971</td>\n",
       "    </tr>\n",
       "    <tr>\n",
       "      <th>9</th>\n",
       "      <td>-0.401998</td>\n",
       "      <td>-0.086971</td>\n",
       "    </tr>\n",
       "    <tr>\n",
       "      <th>17</th>\n",
       "      <td>0.575035</td>\n",
       "      <td>0.024550</td>\n",
       "    </tr>\n",
       "    <tr>\n",
       "      <th>19</th>\n",
       "      <td>-0.252719</td>\n",
       "      <td>-0.371317</td>\n",
       "    </tr>\n",
       "    <tr>\n",
       "      <th>25</th>\n",
       "      <td>-0.456655</td>\n",
       "      <td>0.024550</td>\n",
       "    </tr>\n",
       "  </tbody>\n",
       "</table>\n",
       "</div>"
      ],
      "text/plain": [
       "    idade_cat  renda_cat\n",
       "4   -0.252719  -0.086971\n",
       "9   -0.401998  -0.086971\n",
       "17   0.575035   0.024550\n",
       "19  -0.252719  -0.371317\n",
       "25  -0.456655   0.024550"
      ]
     },
     "execution_count": 135,
     "metadata": {},
     "output_type": "execute_result"
    }
   ],
   "source": [
    "# base de teste\n",
    "woe.transform(dftt[vars_woe].astype(str)).head()"
   ]
  },
  {
   "cell_type": "markdown",
   "metadata": {},
   "source": [
    "Importante: como saber qual foi o mapping de WOE na base de treino?"
   ]
  },
  {
   "cell_type": "code",
   "execution_count": 136,
   "metadata": {
    "ExecuteTime": {
     "end_time": "2020-04-30T20:12:21.643604Z",
     "start_time": "2020-04-30T20:12:21.272810Z"
    }
   },
   "outputs": [],
   "source": [
    "cat_woe = pd.concat([\n",
    "    dftr[vars_woe],\n",
    "    woe.transform(dftr[vars_woe].astype(str)).add_prefix('woe_')\n",
    "], axis=1).drop_duplicates()"
   ]
  },
  {
   "cell_type": "code",
   "execution_count": 137,
   "metadata": {
    "ExecuteTime": {
     "end_time": "2020-04-30T20:12:21.695213Z",
     "start_time": "2020-04-30T20:12:21.646615Z"
    }
   },
   "outputs": [
    {
     "data": {
      "text/html": [
       "<div>\n",
       "<style scoped>\n",
       "    .dataframe tbody tr th:only-of-type {\n",
       "        vertical-align: middle;\n",
       "    }\n",
       "\n",
       "    .dataframe tbody tr th {\n",
       "        vertical-align: top;\n",
       "    }\n",
       "\n",
       "    .dataframe thead th {\n",
       "        text-align: right;\n",
       "    }\n",
       "</style>\n",
       "<table border=\"1\" class=\"dataframe\">\n",
       "  <thead>\n",
       "    <tr style=\"text-align: right;\">\n",
       "      <th></th>\n",
       "      <th>idade_cat</th>\n",
       "      <th>woe_idade_cat</th>\n",
       "    </tr>\n",
       "  </thead>\n",
       "  <tbody>\n",
       "    <tr>\n",
       "      <th>1</th>\n",
       "      <td>(30.0, 37.0]</td>\n",
       "      <td>-0.456655</td>\n",
       "    </tr>\n",
       "    <tr>\n",
       "      <th>2</th>\n",
       "      <td>(24.0, 30.0]</td>\n",
       "      <td>-0.401998</td>\n",
       "    </tr>\n",
       "    <tr>\n",
       "      <th>0</th>\n",
       "      <td>(37.0, 46.0]</td>\n",
       "      <td>-0.252719</td>\n",
       "    </tr>\n",
       "    <tr>\n",
       "      <th>10</th>\n",
       "      <td>(-0.001, 24.0]</td>\n",
       "      <td>0.175094</td>\n",
       "    </tr>\n",
       "    <tr>\n",
       "      <th>5</th>\n",
       "      <td>(46.0, 120.0]</td>\n",
       "      <td>0.575035</td>\n",
       "    </tr>\n",
       "  </tbody>\n",
       "</table>\n",
       "</div>"
      ],
      "text/plain": [
       "         idade_cat  woe_idade_cat\n",
       "1     (30.0, 37.0]      -0.456655\n",
       "2     (24.0, 30.0]      -0.401998\n",
       "0     (37.0, 46.0]      -0.252719\n",
       "10  (-0.001, 24.0]       0.175094\n",
       "5    (46.0, 120.0]       0.575035"
      ]
     },
     "execution_count": 137,
     "metadata": {},
     "output_type": "execute_result"
    }
   ],
   "source": [
    "(cat_woe[['idade_cat','woe_idade_cat']]\n",
    " .drop_duplicates()\n",
    " .sort_values(by='woe_idade_cat'))"
   ]
  },
  {
   "cell_type": "code",
   "execution_count": 50,
   "metadata": {
    "ExecuteTime": {
     "end_time": "2020-04-30T14:49:56.871657Z",
     "start_time": "2020-04-30T14:49:56.855618Z"
    }
   },
   "outputs": [
    {
     "data": {
      "text/html": [
       "<div>\n",
       "<style scoped>\n",
       "    .dataframe tbody tr th:only-of-type {\n",
       "        vertical-align: middle;\n",
       "    }\n",
       "\n",
       "    .dataframe tbody tr th {\n",
       "        vertical-align: top;\n",
       "    }\n",
       "\n",
       "    .dataframe thead th {\n",
       "        text-align: right;\n",
       "    }\n",
       "</style>\n",
       "<table border=\"1\" class=\"dataframe\">\n",
       "  <thead>\n",
       "    <tr style=\"text-align: right;\">\n",
       "      <th></th>\n",
       "      <th>renda_cat</th>\n",
       "      <th>woe_renda_cat</th>\n",
       "    </tr>\n",
       "  </thead>\n",
       "  <tbody>\n",
       "    <tr>\n",
       "      <th>13</th>\n",
       "      <td>(-0.001, 1004.2]</td>\n",
       "      <td>-0.371317</td>\n",
       "    </tr>\n",
       "    <tr>\n",
       "      <th>3</th>\n",
       "      <td>(1500.0, 2000.0]</td>\n",
       "      <td>-0.086971</td>\n",
       "    </tr>\n",
       "    <tr>\n",
       "      <th>23</th>\n",
       "      <td>(3000.0, 2500000000.0]</td>\n",
       "      <td>0.024550</td>\n",
       "    </tr>\n",
       "    <tr>\n",
       "      <th>1</th>\n",
       "      <td>(2000.0, 3000.0]</td>\n",
       "      <td>0.147347</td>\n",
       "    </tr>\n",
       "    <tr>\n",
       "      <th>0</th>\n",
       "      <td>(1004.2, 1500.0]</td>\n",
       "      <td>0.197401</td>\n",
       "    </tr>\n",
       "  </tbody>\n",
       "</table>\n",
       "</div>"
      ],
      "text/plain": [
       "                 renda_cat  woe_renda_cat\n",
       "13        (-0.001, 1004.2]      -0.371317\n",
       "3         (1500.0, 2000.0]      -0.086971\n",
       "23  (3000.0, 2500000000.0]       0.024550\n",
       "1         (2000.0, 3000.0]       0.147347\n",
       "0         (1004.2, 1500.0]       0.197401"
      ]
     },
     "execution_count": 50,
     "metadata": {},
     "output_type": "execute_result"
    }
   ],
   "source": [
    "(cat_woe[['renda_cat','woe_renda_cat']]\n",
    " .drop_duplicates()\n",
    " .sort_values(by='woe_renda_cat'))"
   ]
  },
  {
   "cell_type": "markdown",
   "metadata": {},
   "source": [
    "## Modelos\n",
    "\n",
    "Detalhe: aqui, para estimação dos modelos, são aplicados algoritmos sob a perspectiva de otimização, e não estatística. Assim, este módulo não fornece análise de p-valor, distribuição de parâmetros, entre outros. Para análises estatísticas (incluindo modelos lineares generalizados), recomendo o pacote `statsmodels`. \n",
    "\n",
    "Os modelos do sklearn estão espalhados por diferentes módulos, de acordo com a sua natureza (lineares, árvores, ensembles). Dentro de cada módulo, as classes são divididas por tipo de resposta que quer modelar (regressão ou classificação). Todas as classes seguem o paradigma `.fit() -> .predict()`. \n",
    "<br>\n",
    "\n",
    "Módulos com tipos de modelos:\n",
    "\n",
    "* sklearn.linear_model - LinearRegression, LogisticRegression\n",
    "* sklearn.tree - DecisionTreeClassifier, DecisionTreeRegressor\n",
    "* sklearn.ensemble - RandomForestClassifier, RandomForestRegressor, GradientBoostingClassifier, etc"
   ]
  },
  {
   "cell_type": "code",
   "execution_count": 80,
   "metadata": {
    "ExecuteTime": {
     "end_time": "2020-04-30T14:59:26.463552Z",
     "start_time": "2020-04-30T14:59:26.459549Z"
    }
   },
   "outputs": [],
   "source": [
    "from sklearn.linear_model import LogisticRegression\n",
    "from sklearn.tree import DecisionTreeClassifier\n",
    "from sklearn.ensemble import RandomForestClassifier"
   ]
  },
  {
   "cell_type": "code",
   "execution_count": 81,
   "metadata": {
    "ExecuteTime": {
     "end_time": "2020-04-30T14:59:26.470558Z",
     "start_time": "2020-04-30T14:59:26.465554Z"
    }
   },
   "outputs": [],
   "source": [
    "lr = LogisticRegression(penalty='l2', # ['l1','l2'], ridge regression\n",
    "    C=1.0, # quanto maior, menor a regularização\n",
    "    dual=False,\n",
    "    tol=0.0001,                        \n",
    "    fit_intercept=True,\n",
    "    intercept_scaling=1,\n",
    "    class_weight=None,\n",
    "    random_state=None,\n",
    "    solver='lbfgs',\n",
    "    max_iter=100,\n",
    "    multi_class='auto',\n",
    "    verbose=0,\n",
    "    warm_start=False,\n",
    "    n_jobs=None,\n",
    "    l1_ratio=None\n",
    ")"
   ]
  },
  {
   "cell_type": "code",
   "execution_count": 82,
   "metadata": {
    "ExecuteTime": {
     "end_time": "2020-04-30T14:59:26.477564Z",
     "start_time": "2020-04-30T14:59:26.472560Z"
    }
   },
   "outputs": [],
   "source": [
    "dt = DecisionTreeClassifier(criterion='gini',\n",
    "    splitter='best',\n",
    "    max_depth=None,\n",
    "    min_samples_split=2,\n",
    "    min_samples_leaf=1,\n",
    "    min_weight_fraction_leaf=0.0,\n",
    "    max_features=None,\n",
    "    random_state=None,\n",
    "    max_leaf_nodes=None,\n",
    "    min_impurity_decrease=0.0,\n",
    "    min_impurity_split=None,\n",
    "    class_weight=None,\n",
    "    presort='deprecated',\n",
    "    ccp_alpha=0.0)"
   ]
  },
  {
   "cell_type": "code",
   "execution_count": 83,
   "metadata": {
    "ExecuteTime": {
     "end_time": "2020-04-30T14:59:26.484570Z",
     "start_time": "2020-04-30T14:59:26.479572Z"
    }
   },
   "outputs": [],
   "source": [
    "rf = RandomForestClassifier(n_estimators=100,\n",
    "    criterion='gini',\n",
    "    max_depth=None,\n",
    "    min_samples_split=2,\n",
    "    min_samples_leaf=1,\n",
    "    min_weight_fraction_leaf=0.0,\n",
    "    max_features='auto',\n",
    "    max_leaf_nodes=None,\n",
    "    min_impurity_decrease=0.0,\n",
    "    min_impurity_split=None,\n",
    "    bootstrap=True,\n",
    "    oob_score=False,\n",
    "    n_jobs=None,\n",
    "    random_state=None,\n",
    "    verbose=0,\n",
    "    warm_start=False,\n",
    "    class_weight=None,\n",
    "    ccp_alpha=0.0,\n",
    "    max_samples=None,\n",
    ")"
   ]
  },
  {
   "cell_type": "code",
   "execution_count": 138,
   "metadata": {
    "ExecuteTime": {
     "end_time": "2020-04-30T20:21:52.159419Z",
     "start_time": "2020-04-30T20:21:52.153411Z"
    }
   },
   "outputs": [
    {
     "data": {
      "text/plain": [
       "LogisticRegression(C=1.0, class_weight=None, dual=False, fit_intercept=True,\n",
       "                   intercept_scaling=1, l1_ratio=None, max_iter=100,\n",
       "                   multi_class='auto', n_jobs=None, penalty='l2',\n",
       "                   random_state=42, solver='liblinear', tol=0.0001, verbose=0,\n",
       "                   warm_start=False)"
      ]
     },
     "execution_count": 138,
     "metadata": {},
     "output_type": "execute_result"
    }
   ],
   "source": [
    "lr"
   ]
  },
  {
   "cell_type": "code",
   "execution_count": 139,
   "metadata": {
    "ExecuteTime": {
     "end_time": "2020-04-30T20:21:55.901741Z",
     "start_time": "2020-04-30T20:21:55.553695Z"
    }
   },
   "outputs": [],
   "source": [
    "xtr = dftr[['mp_telend','idade_cat','renda_cat']].astype(str); ytr = dftr['y']\n",
    "xtt = dftt[['mp_telend','idade_cat','renda_cat']].astype(str); ytt = dftt['y']"
   ]
  },
  {
   "cell_type": "code",
   "execution_count": 140,
   "metadata": {
    "ExecuteTime": {
     "end_time": "2020-04-30T20:21:56.060529Z",
     "start_time": "2020-04-30T20:21:55.905250Z"
    }
   },
   "outputs": [],
   "source": [
    "woe = WOEEncoder(regularization=0).fit(xtr,ytr)\n",
    "xtr = woe.transform(xtr)\n",
    "xtt = woe.transform(xtt)"
   ]
  },
  {
   "cell_type": "code",
   "execution_count": 141,
   "metadata": {
    "ExecuteTime": {
     "end_time": "2020-04-30T20:22:07.267504Z",
     "start_time": "2020-04-30T20:22:07.241482Z"
    }
   },
   "outputs": [],
   "source": [
    "lr = lr.fit(xtr,ytr)\n",
    "dt = dt.fit(xtr,ytr)"
   ]
  },
  {
   "cell_type": "code",
   "execution_count": 88,
   "metadata": {
    "ExecuteTime": {
     "end_time": "2020-04-30T14:59:27.243717Z",
     "start_time": "2020-04-30T14:59:27.226702Z"
    }
   },
   "outputs": [
    {
     "data": {
      "text/plain": [
       "array([0, 0, 0, ..., 0, 0, 0], dtype=int64)"
      ]
     },
     "execution_count": 88,
     "metadata": {},
     "output_type": "execute_result"
    }
   ],
   "source": [
    "lr.predict(xtt)"
   ]
  },
  {
   "cell_type": "markdown",
   "metadata": {},
   "source": [
    "Observação: nem todo modelo tem opção de retornar as probabilidades"
   ]
  },
  {
   "cell_type": "code",
   "execution_count": 89,
   "metadata": {
    "ExecuteTime": {
     "end_time": "2020-04-30T14:59:27.262734Z",
     "start_time": "2020-04-30T14:59:27.253725Z"
    }
   },
   "outputs": [
    {
     "data": {
      "text/plain": [
       "array([[0.92800964, 0.07199036],\n",
       "       [0.93703919, 0.06296081],\n",
       "       [0.8416258 , 0.1583742 ],\n",
       "       ...,\n",
       "       [0.98359344, 0.01640656],\n",
       "       [0.91123356, 0.08876644],\n",
       "       [0.93156034, 0.06843966]])"
      ]
     },
     "execution_count": 89,
     "metadata": {},
     "output_type": "execute_result"
    }
   ],
   "source": [
    "lr.predict_proba(xtt)"
   ]
  },
  {
   "cell_type": "markdown",
   "metadata": {},
   "source": [
    "### Avaliando betas da Regressão logística"
   ]
  },
  {
   "cell_type": "code",
   "execution_count": 90,
   "metadata": {
    "ExecuteTime": {
     "end_time": "2020-04-30T14:59:27.278746Z",
     "start_time": "2020-04-30T14:59:27.267736Z"
    }
   },
   "outputs": [
    {
     "name": "stdout",
     "output_type": "stream",
     "text": [
      "[0.93208827 0.96264164 0.8007794 ]\n"
     ]
    },
    {
     "data": {
      "text/plain": [
       "-2.530750751138654"
      ]
     },
     "execution_count": 90,
     "metadata": {},
     "output_type": "execute_result"
    }
   ],
   "source": [
    "print(lr.coef_[0])\n",
    "lr.intercept_[0]"
   ]
  },
  {
   "cell_type": "code",
   "execution_count": 91,
   "metadata": {
    "ExecuteTime": {
     "end_time": "2020-04-30T14:59:27.301791Z",
     "start_time": "2020-04-30T14:59:27.280747Z"
    }
   },
   "outputs": [
    {
     "data": {
      "text/html": [
       "<div>\n",
       "<style scoped>\n",
       "    .dataframe tbody tr th:only-of-type {\n",
       "        vertical-align: middle;\n",
       "    }\n",
       "\n",
       "    .dataframe tbody tr th {\n",
       "        vertical-align: top;\n",
       "    }\n",
       "\n",
       "    .dataframe thead th {\n",
       "        text-align: right;\n",
       "    }\n",
       "</style>\n",
       "<table border=\"1\" class=\"dataframe\">\n",
       "  <thead>\n",
       "    <tr style=\"text-align: right;\">\n",
       "      <th></th>\n",
       "      <th>variaveis</th>\n",
       "      <th>betas</th>\n",
       "    </tr>\n",
       "  </thead>\n",
       "  <tbody>\n",
       "    <tr>\n",
       "      <th>0</th>\n",
       "      <td>intercepto</td>\n",
       "      <td>-2.530751</td>\n",
       "    </tr>\n",
       "    <tr>\n",
       "      <th>1</th>\n",
       "      <td>mp_telend</td>\n",
       "      <td>0.932088</td>\n",
       "    </tr>\n",
       "    <tr>\n",
       "      <th>2</th>\n",
       "      <td>idade_cat</td>\n",
       "      <td>0.962642</td>\n",
       "    </tr>\n",
       "    <tr>\n",
       "      <th>3</th>\n",
       "      <td>renda_cat</td>\n",
       "      <td>0.800779</td>\n",
       "    </tr>\n",
       "  </tbody>\n",
       "</table>\n",
       "</div>"
      ],
      "text/plain": [
       "    variaveis     betas\n",
       "0  intercepto -2.530751\n",
       "1   mp_telend  0.932088\n",
       "2   idade_cat  0.962642\n",
       "3   renda_cat  0.800779"
      ]
     },
     "execution_count": 91,
     "metadata": {},
     "output_type": "execute_result"
    }
   ],
   "source": [
    "betas = pd.DataFrame({'variaveis': ['intercepto'] + xtr.columns.tolist(),\n",
    "                      'betas': [lr.intercept_[0]] + lr.coef_[0].tolist()})\n",
    "betas"
   ]
  },
  {
   "cell_type": "markdown",
   "metadata": {},
   "source": [
    "## Avaliação de modelos\n",
    "\n",
    "Indicadores gerais de modelagem podem ser encontrados no módilo `sklearn.metrics`:\n",
    "\n",
    "* accuracy (não recomendado para targets não balanceados) \n",
    "* roc_auc_score\n",
    "* f1_score\n",
    "* confusion_matrix\n",
    "<br>\n",
    "\n",
    "Indicadores comuns à Clearsale (KS, CSIx) podem ser gerados com as funções dentro do `teamcapcodes.posmod`:\n",
    "\n",
    "* makeTabelao\n",
    "* plotTabelao"
   ]
  },
  {
   "cell_type": "markdown",
   "metadata": {},
   "source": [
    "### Métricas tradicionais"
   ]
  },
  {
   "cell_type": "code",
   "execution_count": 92,
   "metadata": {
    "ExecuteTime": {
     "end_time": "2020-04-30T14:59:27.307804Z",
     "start_time": "2020-04-30T14:59:27.304297Z"
    }
   },
   "outputs": [],
   "source": [
    "from sklearn import metrics"
   ]
  },
  {
   "cell_type": "code",
   "execution_count": 93,
   "metadata": {
    "ExecuteTime": {
     "end_time": "2020-04-30T14:59:27.331855Z",
     "start_time": "2020-04-30T14:59:27.309808Z"
    }
   },
   "outputs": [
    {
     "data": {
      "text/plain": [
       "array([[3152,    0],\n",
       "       [ 247,    0]], dtype=int64)"
      ]
     },
     "execution_count": 93,
     "metadata": {},
     "output_type": "execute_result"
    }
   ],
   "source": [
    "metrics.confusion_matrix(ytt, lr.predict(xtt))"
   ]
  },
  {
   "cell_type": "code",
   "execution_count": 94,
   "metadata": {
    "ExecuteTime": {
     "end_time": "2020-04-30T14:59:27.368432Z",
     "start_time": "2020-04-30T14:59:27.336869Z"
    }
   },
   "outputs": [
    {
     "data": {
      "text/plain": [
       "0.0"
      ]
     },
     "execution_count": 94,
     "metadata": {},
     "output_type": "execute_result"
    }
   ],
   "source": [
    "metrics.f1_score(ytt, lr.predict(xtt))"
   ]
  },
  {
   "cell_type": "code",
   "execution_count": 95,
   "metadata": {
    "ExecuteTime": {
     "end_time": "2020-04-30T14:59:27.392483Z",
     "start_time": "2020-04-30T14:59:27.372942Z"
    }
   },
   "outputs": [
    {
     "name": "stdout",
     "output_type": "stream",
     "text": [
      "              precision    recall  f1-score   support\n",
      "\n",
      "           0       0.93      1.00      0.96      3152\n",
      "           1       0.00      0.00      0.00       247\n",
      "\n",
      "    accuracy                           0.93      3399\n",
      "   macro avg       0.46      0.50      0.48      3399\n",
      "weighted avg       0.86      0.93      0.89      3399\n",
      "\n"
     ]
    }
   ],
   "source": [
    "print(metrics.classification_report(ytt, lr.predict(xtt), zero_division=0))"
   ]
  },
  {
   "cell_type": "markdown",
   "metadata": {},
   "source": [
    "### Clearsale"
   ]
  },
  {
   "cell_type": "code",
   "execution_count": 96,
   "metadata": {
    "ExecuteTime": {
     "end_time": "2020-04-30T14:59:27.408517Z",
     "start_time": "2020-04-30T14:59:27.394988Z"
    }
   },
   "outputs": [],
   "source": [
    "from teamcapcodes.posmod import * #makeTabelao, plotTabelao"
   ]
  },
  {
   "cell_type": "code",
   "execution_count": 142,
   "metadata": {
    "ExecuteTime": {
     "end_time": "2020-04-30T20:25:01.356572Z",
     "start_time": "2020-04-30T20:25:01.314475Z"
    }
   },
   "outputs": [
    {
     "data": {
      "text/html": [
       "<div>\n",
       "<style scoped>\n",
       "    .dataframe tbody tr th:only-of-type {\n",
       "        vertical-align: middle;\n",
       "    }\n",
       "\n",
       "    .dataframe tbody tr th {\n",
       "        vertical-align: top;\n",
       "    }\n",
       "\n",
       "    .dataframe thead th {\n",
       "        text-align: right;\n",
       "    }\n",
       "</style>\n",
       "<table border=\"1\" class=\"dataframe\">\n",
       "  <thead>\n",
       "    <tr style=\"text-align: right;\">\n",
       "      <th></th>\n",
       "      <th>quebras</th>\n",
       "      <th>score_min</th>\n",
       "      <th>score_max</th>\n",
       "      <th>total</th>\n",
       "      <th>total_maus</th>\n",
       "      <th>total_bons</th>\n",
       "      <th>tx_maus</th>\n",
       "      <th>p_maus</th>\n",
       "      <th>p_maus_acum</th>\n",
       "      <th>p_bons_acum</th>\n",
       "      <th>expos</th>\n",
       "    </tr>\n",
       "  </thead>\n",
       "  <tbody>\n",
       "    <tr>\n",
       "      <th>0</th>\n",
       "      <td>0</td>\n",
       "      <td>0.010961</td>\n",
       "      <td>0.016503</td>\n",
       "      <td>340</td>\n",
       "      <td>5</td>\n",
       "      <td>335</td>\n",
       "      <td>0.014706</td>\n",
       "      <td>0.020243</td>\n",
       "      <td>1.000000</td>\n",
       "      <td>1.000000</td>\n",
       "      <td>0.014706</td>\n",
       "    </tr>\n",
       "    <tr>\n",
       "      <th>1</th>\n",
       "      <td>1</td>\n",
       "      <td>0.016503</td>\n",
       "      <td>0.024903</td>\n",
       "      <td>340</td>\n",
       "      <td>3</td>\n",
       "      <td>337</td>\n",
       "      <td>0.008824</td>\n",
       "      <td>0.012146</td>\n",
       "      <td>0.979757</td>\n",
       "      <td>0.893718</td>\n",
       "      <td>0.008824</td>\n",
       "    </tr>\n",
       "    <tr>\n",
       "      <th>2</th>\n",
       "      <td>2</td>\n",
       "      <td>0.024903</td>\n",
       "      <td>0.058367</td>\n",
       "      <td>340</td>\n",
       "      <td>9</td>\n",
       "      <td>331</td>\n",
       "      <td>0.026471</td>\n",
       "      <td>0.036437</td>\n",
       "      <td>0.967611</td>\n",
       "      <td>0.786802</td>\n",
       "      <td>0.026471</td>\n",
       "    </tr>\n",
       "    <tr>\n",
       "      <th>3</th>\n",
       "      <td>3</td>\n",
       "      <td>0.058367</td>\n",
       "      <td>0.068637</td>\n",
       "      <td>340</td>\n",
       "      <td>21</td>\n",
       "      <td>319</td>\n",
       "      <td>0.061765</td>\n",
       "      <td>0.085020</td>\n",
       "      <td>0.931174</td>\n",
       "      <td>0.681789</td>\n",
       "      <td>0.061765</td>\n",
       "    </tr>\n",
       "    <tr>\n",
       "      <th>4</th>\n",
       "      <td>4</td>\n",
       "      <td>0.068637</td>\n",
       "      <td>0.074321</td>\n",
       "      <td>340</td>\n",
       "      <td>20</td>\n",
       "      <td>320</td>\n",
       "      <td>0.058824</td>\n",
       "      <td>0.080972</td>\n",
       "      <td>0.846154</td>\n",
       "      <td>0.580584</td>\n",
       "      <td>0.058824</td>\n",
       "    </tr>\n",
       "    <tr>\n",
       "      <th>5</th>\n",
       "      <td>5</td>\n",
       "      <td>0.074321</td>\n",
       "      <td>0.078400</td>\n",
       "      <td>339</td>\n",
       "      <td>28</td>\n",
       "      <td>311</td>\n",
       "      <td>0.082596</td>\n",
       "      <td>0.113360</td>\n",
       "      <td>0.765182</td>\n",
       "      <td>0.479061</td>\n",
       "      <td>0.082596</td>\n",
       "    </tr>\n",
       "    <tr>\n",
       "      <th>6</th>\n",
       "      <td>6</td>\n",
       "      <td>0.078400</td>\n",
       "      <td>0.088988</td>\n",
       "      <td>340</td>\n",
       "      <td>26</td>\n",
       "      <td>314</td>\n",
       "      <td>0.076471</td>\n",
       "      <td>0.105263</td>\n",
       "      <td>0.651822</td>\n",
       "      <td>0.380393</td>\n",
       "      <td>0.076471</td>\n",
       "    </tr>\n",
       "    <tr>\n",
       "      <th>7</th>\n",
       "      <td>7</td>\n",
       "      <td>0.088988</td>\n",
       "      <td>0.124037</td>\n",
       "      <td>340</td>\n",
       "      <td>34</td>\n",
       "      <td>306</td>\n",
       "      <td>0.100000</td>\n",
       "      <td>0.137652</td>\n",
       "      <td>0.546559</td>\n",
       "      <td>0.280774</td>\n",
       "      <td>0.100000</td>\n",
       "    </tr>\n",
       "    <tr>\n",
       "      <th>8</th>\n",
       "      <td>8</td>\n",
       "      <td>0.124037</td>\n",
       "      <td>0.147093</td>\n",
       "      <td>340</td>\n",
       "      <td>38</td>\n",
       "      <td>302</td>\n",
       "      <td>0.111765</td>\n",
       "      <td>0.153846</td>\n",
       "      <td>0.408907</td>\n",
       "      <td>0.183693</td>\n",
       "      <td>0.111765</td>\n",
       "    </tr>\n",
       "    <tr>\n",
       "      <th>9</th>\n",
       "      <td>9</td>\n",
       "      <td>0.147093</td>\n",
       "      <td>0.177968</td>\n",
       "      <td>340</td>\n",
       "      <td>63</td>\n",
       "      <td>277</td>\n",
       "      <td>0.185294</td>\n",
       "      <td>0.255061</td>\n",
       "      <td>0.255061</td>\n",
       "      <td>0.087881</td>\n",
       "      <td>0.185294</td>\n",
       "    </tr>\n",
       "  </tbody>\n",
       "</table>\n",
       "</div>"
      ],
      "text/plain": [
       "  quebras  score_min  score_max  total  total_maus  total_bons   tx_maus  \\\n",
       "0       0   0.010961   0.016503    340           5         335  0.014706   \n",
       "1       1   0.016503   0.024903    340           3         337  0.008824   \n",
       "2       2   0.024903   0.058367    340           9         331  0.026471   \n",
       "3       3   0.058367   0.068637    340          21         319  0.061765   \n",
       "4       4   0.068637   0.074321    340          20         320  0.058824   \n",
       "5       5   0.074321   0.078400    339          28         311  0.082596   \n",
       "6       6   0.078400   0.088988    340          26         314  0.076471   \n",
       "7       7   0.088988   0.124037    340          34         306  0.100000   \n",
       "8       8   0.124037   0.147093    340          38         302  0.111765   \n",
       "9       9   0.147093   0.177968    340          63         277  0.185294   \n",
       "\n",
       "     p_maus  p_maus_acum  p_bons_acum     expos  \n",
       "0  0.020243     1.000000     1.000000  0.014706  \n",
       "1  0.012146     0.979757     0.893718  0.008824  \n",
       "2  0.036437     0.967611     0.786802  0.026471  \n",
       "3  0.085020     0.931174     0.681789  0.061765  \n",
       "4  0.080972     0.846154     0.580584  0.058824  \n",
       "5  0.113360     0.765182     0.479061  0.082596  \n",
       "6  0.105263     0.651822     0.380393  0.076471  \n",
       "7  0.137652     0.546559     0.280774  0.100000  \n",
       "8  0.153846     0.408907     0.183693  0.111765  \n",
       "9  0.255061     0.255061     0.087881  0.185294  "
      ]
     },
     "execution_count": 142,
     "metadata": {},
     "output_type": "execute_result"
    }
   ],
   "source": [
    "tabelao = makeTabelao(ytt, lr.predict_proba(xtt)[:,1], n=10)\n",
    "tabelao"
   ]
  },
  {
   "cell_type": "code",
   "execution_count": 98,
   "metadata": {
    "ExecuteTime": {
     "end_time": "2020-04-30T14:59:27.463140Z",
     "start_time": "2020-04-30T14:59:27.458122Z"
    }
   },
   "outputs": [
    {
     "name": "stdout",
     "output_type": "stream",
     "text": [
      "KS: 0.3\n"
     ]
    }
   ],
   "source": [
    "print('KS: {}'.format((tabelao.p_maus_acum - tabelao.p_bons_acum).abs().max().round(2)))"
   ]
  },
  {
   "cell_type": "code",
   "execution_count": 99,
   "metadata": {
    "ExecuteTime": {
     "end_time": "2020-04-30T14:59:27.699465Z",
     "start_time": "2020-04-30T14:59:27.464636Z"
    }
   },
   "outputs": [
    {
     "data": {
      "image/png": "[encoded data removed]",
      "text/plain": [
       "<Figure size 698.976x432 with 1 Axes>"
      ]
     },
     "metadata": {
      "needs_background": "light"
     },
     "output_type": "display_data"
    }
   ],
   "source": [
    "plotTabelao(tabelao)"
   ]
  },
  {
   "cell_type": "code",
   "execution_count": 100,
   "metadata": {
    "ExecuteTime": {
     "end_time": "2020-04-30T14:59:27.958378Z",
     "start_time": "2020-04-30T14:59:27.701467Z"
    }
   },
   "outputs": [
    {
     "data": {
      "image/png": "[encoded data removed]",
      "text/plain": [
       "<Figure size 576x288 with 1 Axes>"
      ]
     },
     "metadata": {
      "needs_background": "light"
     },
     "output_type": "display_data"
    }
   ],
   "source": [
    "pred = pd.DataFrame({'y': ytt, 'p': lr.predict_proba(xtt)[:,1]})\n",
    "\n",
    "_, ax = plt.subplots(figsize=(8,4))\n",
    "\n",
    "pred.query('y==0').p.plot.hist(ax=ax, density=True, label='bons', alpha=0.5)\n",
    "pred.query('y==1').p.plot.hist(ax=ax, density=True, label='maus', alpha=0.5)\n",
    "\n",
    "plt.legend()\n",
    "plt.show()"
   ]
  },
  {
   "cell_type": "markdown",
   "metadata": {},
   "source": [
    "## Funções auxiliares"
   ]
  },
  {
   "cell_type": "markdown",
   "metadata": {},
   "source": [
    "### GridSearchCV, RandomizedSearchCV\n",
    "\n",
    "Classes para performar tunagem de hiperparâmetros dos modelos. Por exemplo, na classe `LogisticRegression`, é possível determinar qual o tipo de regularização dos coeficientes que será aplicada (`penalty`). \n",
    "\n",
    "Com o grid search, é possível passar uma série de possíveis valores para que ele faça a avaliação da melhor configuração, dada uma métrica de performance. Para modelos complexos, tomar cuidado com a quantidade de combinações que é passada, pois a busca é exaustiva e pode demorar muito. Neste caso, é mais interessante usar o `RandomizedSearchCV`, que fará uma busca aleatória dentro do grid passado.\n",
    "\n",
    "Criando métrica customizada: https://scikit-learn.org/stable/modules/generated/sklearn.metrics.make_scorer.html"
   ]
  },
  {
   "cell_type": "code",
   "execution_count": 102,
   "metadata": {
    "ExecuteTime": {
     "end_time": "2020-04-30T14:59:27.970388Z",
     "start_time": "2020-04-30T14:59:27.965384Z"
    }
   },
   "outputs": [],
   "source": [
    "from sklearn.model_selection import GridSearchCV, RandomizedSearchCV"
   ]
  },
  {
   "cell_type": "code",
   "execution_count": 103,
   "metadata": {
    "ExecuteTime": {
     "end_time": "2020-04-30T14:59:27.976415Z",
     "start_time": "2020-04-30T14:59:27.973391Z"
    }
   },
   "outputs": [],
   "source": [
    "lr = LogisticRegression(solver='liblinear', random_state=42)"
   ]
  },
  {
   "cell_type": "code",
   "execution_count": 104,
   "metadata": {
    "ExecuteTime": {
     "end_time": "2020-04-30T14:59:27.981954Z",
     "start_time": "2020-04-30T14:59:27.978423Z"
    }
   },
   "outputs": [],
   "source": [
    "grid = {'C': [0.1,1,10], 'penalty': ['l1','l2']}"
   ]
  },
  {
   "cell_type": "code",
   "execution_count": 105,
   "metadata": {
    "ExecuteTime": {
     "end_time": "2020-04-30T14:59:27.987443Z",
     "start_time": "2020-04-30T14:59:27.983935Z"
    }
   },
   "outputs": [],
   "source": [
    "gs = GridSearchCV(lr, param_grid=grid, cv=5, scoring='auc')"
   ]
  },
  {
   "cell_type": "code",
   "execution_count": 106,
   "metadata": {
    "ExecuteTime": {
     "end_time": "2020-04-30T14:59:28.464276Z",
     "start_time": "2020-04-30T14:59:27.989447Z"
    }
   },
   "outputs": [
    {
     "data": {
      "text/plain": [
       "GridSearchCV(cv=5, error_score=nan,\n",
       "             estimator=LogisticRegression(C=1.0, class_weight=None, dual=False,\n",
       "                                          fit_intercept=True,\n",
       "                                          intercept_scaling=1, l1_ratio=None,\n",
       "                                          max_iter=100, multi_class='auto',\n",
       "                                          n_jobs=None, penalty='l2',\n",
       "                                          random_state=42, solver='liblinear',\n",
       "                                          tol=0.0001, verbose=0,\n",
       "                                          warm_start=False),\n",
       "             iid='deprecated', n_jobs=None,\n",
       "             param_grid={'C': [0.1, 1, 10], 'penalty': ['l1', 'l2']},\n",
       "             pre_dispatch='2*n_jobs', refit=True, return_train_score=False,\n",
       "             scoring=None, verbose=0)"
      ]
     },
     "execution_count": 106,
     "metadata": {},
     "output_type": "execute_result"
    }
   ],
   "source": [
    "gs.fit(xtr, ytr)"
   ]
  },
  {
   "cell_type": "code",
   "execution_count": 143,
   "metadata": {
    "ExecuteTime": {
     "end_time": "2020-04-30T20:32:02.860650Z",
     "start_time": "2020-04-30T20:32:02.857648Z"
    }
   },
   "outputs": [],
   "source": [
    "aj = gs.best_estimator_"
   ]
  },
  {
   "cell_type": "markdown",
   "metadata": {},
   "source": [
    "### train_test_split\n",
    "\n",
    "Faz separação de amostra treino/teste, podendo estratificar e fixar semente para aleatorização. Seu retorno é uma tupla com 4 elementos: `X_train, X_test, Y_train, Y_test`"
   ]
  },
  {
   "cell_type": "code",
   "execution_count": 101,
   "metadata": {
    "ExecuteTime": {
     "end_time": "2020-04-30T14:59:27.963408Z",
     "start_time": "2020-04-30T14:59:27.960380Z"
    }
   },
   "outputs": [],
   "source": [
    "from sklearn.model_selection import train_test_split"
   ]
  },
  {
   "cell_type": "code",
   "execution_count": 107,
   "metadata": {
    "ExecuteTime": {
     "end_time": "2020-04-30T14:59:28.478796Z",
     "start_time": "2020-04-30T14:59:28.466277Z"
    }
   },
   "outputs": [],
   "source": [
    "VARS = ['idade_cat','renda_cat','entidade_nome','mp_telend']\n",
    "\n",
    "xtr, xtt, ytr, ytt = train_test_split(df[VARS], df['y'], test_size=0.3, random_state=42)"
   ]
  },
  {
   "cell_type": "code",
   "execution_count": 108,
   "metadata": {
    "ExecuteTime": {
     "end_time": "2020-04-30T14:59:28.485308Z",
     "start_time": "2020-04-30T14:59:28.480799Z"
    }
   },
   "outputs": [
    {
     "name": "stdout",
     "output_type": "stream",
     "text": [
      "(11762, 4)\n",
      "(11762,)\n",
      "(5041, 4)\n",
      "(5041,)\n"
     ]
    }
   ],
   "source": [
    "print(xtr.shape)\n",
    "print(ytr.shape)\n",
    "print(xtt.shape)\n",
    "print(ytt.shape)"
   ]
  }
 ],
 "metadata": {
  "hide_input": false,
  "kernelspec": {
   "display_name": "Python 3",
   "language": "python",
   "name": "python3"
  },
  "language_info": {
   "codemirror_mode": {
    "name": "ipython",
    "version": 3
   },
   "file_extension": ".py",
   "mimetype": "text/x-python",
   "name": "python",
   "nbconvert_exporter": "python",
   "pygments_lexer": "ipython3",
   "version": "3.7.3"
  },
  "toc": {
   "base_numbering": 1,
   "nav_menu": {},
   "number_sections": true,
   "sideBar": true,
   "skip_h1_title": false,
   "title_cell": "Table of Contents",
   "title_sidebar": "Contents",
   "toc_cell": false,
   "toc_position": {
    "height": "calc(100% - 180px)",
    "left": "10px",
    "top": "150px",
    "width": "181.391px"
   },
   "toc_section_display": true,
   "toc_window_display": true
  },
  "varInspector": {
   "cols": {
    "lenName": 16,
    "lenType": 16,
    "lenVar": 40
   },
   "kernels_config": {
    "python": {
     "delete_cmd_postfix": "",
     "delete_cmd_prefix": "del ",
     "library": "var_list.py",
     "varRefreshCmd": "print(var_dic_list())"
    },
    "r": {
     "delete_cmd_postfix": ") ",
     "delete_cmd_prefix": "rm(",
     "library": "var_list.r",
     "varRefreshCmd": "cat(var_dic_list()) "
    }
   },
   "types_to_exclude": [
    "module",
    "function",
    "builtin_function_or_method",
    "instance",
    "_Feature"
   ],
   "window_display": false
  }
 },
 "nbformat": 4,
 "nbformat_minor": 2
}
