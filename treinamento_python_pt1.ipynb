{
 "cells": [
  {
   "cell_type": "markdown",
   "metadata": {},
   "source": [
    "# Treinamento Python - pt1\n",
    "\n",
    "<br>\n",
    "\n",
    "Este notebook é a junção de outros códigos feitos para um grupo de estudos em Python. Para o treinamento, falaremos dos seguintes pontos:\n",
    "\n",
    "* Funções built-in úteis\n",
    "    * enumerate, zip, try except\n",
    "    * comprehensions\n",
    "* Pacotes para conectar a servidores de dados\n",
    "    * sqlalchemy \n",
    "    * pyodbc\n",
    "* Manipulação variáveis com DataFrames\n",
    "    * Métodos prontos - vetorização \n",
    "    * map, apply, applymap\n",
    "    * case when \n",
    "    * juntar categorias\n",
    "    * criar dummies\n",
    "    * .str e .dt\n",
    "* Múltiplas bases\n",
    "    * Cuidado com índices\n",
    "    * pd.concat\n",
    "    * pd.merge, pd.merge_asof"
   ]
  },
  {
   "cell_type": "code",
   "execution_count": 1,
   "metadata": {
    "ExecuteTime": {
     "end_time": "2020-04-27T12:38:34.648861Z",
     "start_time": "2020-04-27T12:38:34.638869Z"
    }
   },
   "outputs": [],
   "source": [
    "import os\n",
    "import re\n",
    "import numpy as np\n",
    "import pandas as pd\n",
    "from itertools import product\n",
    "\n",
    "from sqlalchemy import create_engine\n",
    "from pyodbc import connect\n",
    "from getpass import getpass\n",
    "\n",
    "from teamcapcodes.utils import *"
   ]
  },
  {
   "cell_type": "markdown",
   "metadata": {},
   "source": [
    "# Funções built-in"
   ]
  },
  {
   "cell_type": "markdown",
   "metadata": {},
   "source": [
    "## map, filter\n",
    "\n",
    "* ``map(funcao, sequencia)``: aplica 'funcao' a cada elemento de 'sequencia'. Retorna uma sequencia \n",
    "* ``filter(funcao, sequencia)``: retorna os valores de 'sequencia' que satisfazem a condição booleana em 'funcao'"
   ]
  },
  {
   "cell_type": "code",
   "execution_count": 17,
   "metadata": {
    "ExecuteTime": {
     "end_time": "2019-09-11T02:46:16.141956Z",
     "start_time": "2019-09-11T02:46:16.137952Z"
    }
   },
   "outputs": [
    {
     "name": "stdout",
     "output_type": "stream",
     "text": [
      "\n",
      "Para os scores [0.2, 0.8], temos as seguintes decisões: ['pedido_bom', 'pedido_mau']\n"
     ]
    }
   ],
   "source": [
    "# map\n",
    "\n",
    "score = [0.2, 0.8]\n",
    "classifica_score = lambda x: 'pedido_mau' if x >= 0.5 else 'pedido_bom'\n",
    "res = list(map(classifica_score, score))\n",
    "\n",
    "print('\\nPara os scores {}, temos as seguintes decisões: {}'.format(score, res))"
   ]
  },
  {
   "cell_type": "code",
   "execution_count": 20,
   "metadata": {
    "ExecuteTime": {
     "end_time": "2019-09-11T02:46:49.071497Z",
     "start_time": "2019-09-11T02:46:49.066515Z"
    }
   },
   "outputs": [
    {
     "data": {
      "text/plain": [
       "[0, 1, 2, 3]"
      ]
     },
     "execution_count": 20,
     "metadata": {},
     "output_type": "execute_result"
    }
   ],
   "source": [
    "# filter\n",
    "\n",
    "x = range(10)\n",
    "\n",
    "list(filter(lambda x: x < 4, x))"
   ]
  },
  {
   "cell_type": "code",
   "execution_count": 22,
   "metadata": {
    "ExecuteTime": {
     "end_time": "2019-09-11T02:47:40.760788Z",
     "start_time": "2019-09-11T02:47:40.755783Z"
    }
   },
   "outputs": [
    {
     "data": {
      "text/plain": [
       "['nao vazio', 'nao vazio', 1, 2]"
      ]
     },
     "execution_count": 22,
     "metadata": {},
     "output_type": "execute_result"
    }
   ],
   "source": [
    "# outro uso do filter:\n",
    "\n",
    "x = ['', 'nao vazio', None, 'nao vazio', 1, 2]\n",
    "\n",
    "list(filter(None, x))\n",
    "\n"
   ]
  },
  {
   "cell_type": "markdown",
   "metadata": {},
   "source": [
    "## loops com listas e range"
   ]
  },
  {
   "cell_type": "code",
   "execution_count": 2,
   "metadata": {
    "ExecuteTime": {
     "end_time": "2020-04-27T12:39:37.623241Z",
     "start_time": "2020-04-27T12:39:37.619256Z"
    }
   },
   "outputs": [
    {
     "name": "stdout",
     "output_type": "stream",
     "text": [
      "Lista a: ['a', 'b', 'c', 'd']\n",
      "Lista b: range(1, 5)\n"
     ]
    }
   ],
   "source": [
    "a = list('abcd')\n",
    "b = range(1,5)\n",
    "\n",
    "print('Lista a: {}'.format(a))\n",
    "print('Lista b: {}'.format(b))"
   ]
  },
  {
   "cell_type": "code",
   "execution_count": 4,
   "metadata": {
    "ExecuteTime": {
     "end_time": "2019-09-10T16:08:01.843245Z",
     "start_time": "2019-09-10T16:08:01.840242Z"
    }
   },
   "outputs": [
    {
     "name": "stdout",
     "output_type": "stream",
     "text": [
      "A\n",
      "B\n",
      "C\n",
      "D\n"
     ]
    }
   ],
   "source": [
    "for j in a:\n",
    "    print(j.upper())"
   ]
  },
  {
   "cell_type": "code",
   "execution_count": 12,
   "metadata": {
    "ExecuteTime": {
     "end_time": "2019-09-10T16:16:44.452771Z",
     "start_time": "2019-09-10T16:16:44.448741Z"
    }
   },
   "outputs": [
    {
     "name": "stdout",
     "output_type": "stream",
     "text": [
      "1\n",
      "4\n",
      "9\n",
      "16\n"
     ]
    }
   ],
   "source": [
    "for j in b:\n",
    "    print(j ** 2)"
   ]
  },
  {
   "cell_type": "markdown",
   "metadata": {},
   "source": [
    "## enumerate \n",
    "\n",
    "* Serve para iterar sobre um elemento x retendo não só os seus valores, como o índice relativo a esse valor. Note que deve usar, portanto, 2 variáveis dentro do 'for'"
   ]
  },
  {
   "cell_type": "code",
   "execution_count": 3,
   "metadata": {
    "ExecuteTime": {
     "end_time": "2020-04-27T12:40:56.445106Z",
     "start_time": "2020-04-27T12:40:56.441123Z"
    }
   },
   "outputs": [
    {
     "name": "stdout",
     "output_type": "stream",
     "text": [
      "\n",
      "O índice do elemento \"a\" é 0\n",
      "\n",
      "O índice do elemento \"b\" é 1\n",
      "\n",
      "O índice do elemento \"c\" é 2\n",
      "\n",
      "O índice do elemento \"d\" é 3\n"
     ]
    }
   ],
   "source": [
    "for ind, elem in enumerate(a):\n",
    "    print('\\nO índice do elemento \"{}\" é {}'.format(elem, ind))"
   ]
  },
  {
   "cell_type": "code",
   "execution_count": 11,
   "metadata": {
    "ExecuteTime": {
     "end_time": "2019-09-10T16:15:27.402298Z",
     "start_time": "2019-09-10T16:15:27.398294Z"
    },
    "scrolled": true
   },
   "outputs": [
    {
     "name": "stdout",
     "output_type": "stream",
     "text": [
      "\n",
      "O índice do elemento \"a\" também pode ser 1\n",
      "\n",
      "O índice do elemento \"b\" também pode ser 2\n",
      "\n",
      "O índice do elemento \"c\" também pode ser 3\n",
      "\n",
      "O índice do elemento \"d\" também pode ser 4\n"
     ]
    }
   ],
   "source": [
    "for ind, elem in enumerate(a, start=1):\n",
    "    print('\\nO índice do elemento \"{}\" também pode ser {}'.format(elem, ind))"
   ]
  },
  {
   "cell_type": "markdown",
   "metadata": {},
   "source": [
    "## zip\n",
    "\n",
    "* A função zip é utilizada para juntar/concatenar duas ou mais listas/tuplas __de mesmo tamanho__\n",
    "* Seu uso mais intuitivo é dentro de loops para poder iterar sobre 2 ou mais variáveis ao mesmo tempo\n",
    "* Pode ser utilizada também para criar dicionários de maneira programática. "
   ]
  },
  {
   "cell_type": "code",
   "execution_count": 4,
   "metadata": {
    "ExecuteTime": {
     "end_time": "2020-04-27T12:41:57.077749Z",
     "start_time": "2020-04-27T12:41:57.073745Z"
    }
   },
   "outputs": [
    {
     "name": "stdout",
     "output_type": "stream",
     "text": [
      "\n",
      "Iterando em \"a\" e \"1\"\n",
      "\n",
      "Iterando em \"b\" e \"2\"\n",
      "\n",
      "Iterando em \"c\" e \"3\"\n",
      "\n",
      "Iterando em \"d\" e \"4\"\n"
     ]
    }
   ],
   "source": [
    "for i, j in zip(a,b):\n",
    "    print('\\nIterando em \"{}\" e \"{}\"'.format(i,j))"
   ]
  },
  {
   "cell_type": "code",
   "execution_count": 6,
   "metadata": {
    "ExecuteTime": {
     "end_time": "2020-04-27T12:42:31.645958Z",
     "start_time": "2020-04-27T12:42:31.641952Z"
    }
   },
   "outputs": [
    {
     "data": {
      "text/plain": [
       "[('a', 1), ('b', 2)]"
      ]
     },
     "execution_count": 6,
     "metadata": {},
     "output_type": "execute_result"
    }
   ],
   "source": [
    "list(zip(a[:2],b))"
   ]
  },
  {
   "cell_type": "code",
   "execution_count": 7,
   "metadata": {
    "ExecuteTime": {
     "end_time": "2020-04-27T12:42:55.385973Z",
     "start_time": "2020-04-27T12:42:55.383463Z"
    }
   },
   "outputs": [],
   "source": [
    "from itertools import product"
   ]
  },
  {
   "cell_type": "code",
   "execution_count": 8,
   "metadata": {
    "ExecuteTime": {
     "end_time": "2020-04-27T12:43:16.346919Z",
     "start_time": "2020-04-27T12:43:16.342909Z"
    }
   },
   "outputs": [
    {
     "data": {
      "text/plain": [
       "[('a', 1),\n",
       " ('a', 2),\n",
       " ('a', 3),\n",
       " ('a', 4),\n",
       " ('b', 1),\n",
       " ('b', 2),\n",
       " ('b', 3),\n",
       " ('b', 4)]"
      ]
     },
     "execution_count": 8,
     "metadata": {},
     "output_type": "execute_result"
    }
   ],
   "source": [
    "list(product(a[:2],b))"
   ]
  },
  {
   "cell_type": "code",
   "execution_count": 22,
   "metadata": {
    "ExecuteTime": {
     "end_time": "2019-09-10T16:25:01.935643Z",
     "start_time": "2019-09-10T16:25:01.930616Z"
    }
   },
   "outputs": [
    {
     "name": "stdout",
     "output_type": "stream",
     "text": [
      "\n",
      "Utilizando a lista \"a\" como chaves: {'a': 1, 'b': 2, 'c': 3, 'd': 4}\n",
      "\n",
      "Utilizando a lista \"b\" como chaves: {1: 'a', 2: 'b', 3: 'c', 4: 'd'}\n"
     ]
    }
   ],
   "source": [
    "# Criando dicionários mais facilmente:\n",
    "\n",
    "print('\\nUtilizando a lista \"a\" como chaves: {}'.format(dict(zip(a,b))))\n",
    "print('\\nUtilizando a lista \"b\" como chaves: {}'.format(dict(zip(b,a))))"
   ]
  },
  {
   "cell_type": "markdown",
   "metadata": {},
   "source": [
    "## try, except\n",
    "\n",
    "Funções úteis para controle de outputs de loops ou funções em casos de erro"
   ]
  },
  {
   "cell_type": "code",
   "execution_count": 9,
   "metadata": {
    "ExecuteTime": {
     "end_time": "2020-04-27T12:46:50.433026Z",
     "start_time": "2020-04-27T12:46:50.264131Z"
    }
   },
   "outputs": [
    {
     "ename": "TypeError",
     "evalue": "'>' not supported between instances of 'NoneType' and 'int'",
     "output_type": "error",
     "traceback": [
      "\u001b[1;31m---------------------------------------------------------------------------\u001b[0m",
      "\u001b[1;31mTypeError\u001b[0m                                 Traceback (most recent call last)",
      "\u001b[1;32m<ipython-input-9-3fa75fafaf1b>\u001b[0m in \u001b[0;36m<module>\u001b[1;34m\u001b[0m\n\u001b[0;32m      4\u001b[0m \u001b[0mx\u001b[0m \u001b[1;33m=\u001b[0m \u001b[1;33m[\u001b[0m\u001b[1;36m1\u001b[0m\u001b[1;33m,\u001b[0m\u001b[1;36m2\u001b[0m\u001b[1;33m,\u001b[0m\u001b[1;36m3\u001b[0m\u001b[1;33m,\u001b[0m\u001b[1;32mNone\u001b[0m\u001b[1;33m,\u001b[0m\u001b[1;36m5\u001b[0m\u001b[1;33m]\u001b[0m\u001b[1;33m\u001b[0m\u001b[1;33m\u001b[0m\u001b[0m\n\u001b[0;32m      5\u001b[0m \u001b[1;33m\u001b[0m\u001b[0m\n\u001b[1;32m----> 6\u001b[1;33m \u001b[0mlist\u001b[0m\u001b[1;33m(\u001b[0m\u001b[0mmap\u001b[0m\u001b[1;33m(\u001b[0m\u001b[1;32mlambda\u001b[0m \u001b[0mx\u001b[0m\u001b[1;33m:\u001b[0m \u001b[0mx\u001b[0m \u001b[1;33m>\u001b[0m \u001b[1;36m4\u001b[0m\u001b[1;33m,\u001b[0m \u001b[0mx\u001b[0m\u001b[1;33m)\u001b[0m\u001b[1;33m)\u001b[0m\u001b[1;33m\u001b[0m\u001b[1;33m\u001b[0m\u001b[0m\n\u001b[0m",
      "\u001b[1;32m<ipython-input-9-3fa75fafaf1b>\u001b[0m in \u001b[0;36m<lambda>\u001b[1;34m(x)\u001b[0m\n\u001b[0;32m      4\u001b[0m \u001b[0mx\u001b[0m \u001b[1;33m=\u001b[0m \u001b[1;33m[\u001b[0m\u001b[1;36m1\u001b[0m\u001b[1;33m,\u001b[0m\u001b[1;36m2\u001b[0m\u001b[1;33m,\u001b[0m\u001b[1;36m3\u001b[0m\u001b[1;33m,\u001b[0m\u001b[1;32mNone\u001b[0m\u001b[1;33m,\u001b[0m\u001b[1;36m5\u001b[0m\u001b[1;33m]\u001b[0m\u001b[1;33m\u001b[0m\u001b[1;33m\u001b[0m\u001b[0m\n\u001b[0;32m      5\u001b[0m \u001b[1;33m\u001b[0m\u001b[0m\n\u001b[1;32m----> 6\u001b[1;33m \u001b[0mlist\u001b[0m\u001b[1;33m(\u001b[0m\u001b[0mmap\u001b[0m\u001b[1;33m(\u001b[0m\u001b[1;32mlambda\u001b[0m \u001b[0mx\u001b[0m\u001b[1;33m:\u001b[0m \u001b[0mx\u001b[0m \u001b[1;33m>\u001b[0m \u001b[1;36m4\u001b[0m\u001b[1;33m,\u001b[0m \u001b[0mx\u001b[0m\u001b[1;33m)\u001b[0m\u001b[1;33m)\u001b[0m\u001b[1;33m\u001b[0m\u001b[1;33m\u001b[0m\u001b[0m\n\u001b[0m",
      "\u001b[1;31mTypeError\u001b[0m: '>' not supported between instances of 'NoneType' and 'int'"
     ]
    }
   ],
   "source": [
    "# Por exemplo, já tentou fazer operações com None?\n",
    "# Se estiver trabalhando com uma lista que pode conter None, é interessante controlar o outpupt:\n",
    "\n",
    "x = [1,2,3,None,5]\n",
    "\n",
    "list(map(lambda x: x > 4, x))"
   ]
  },
  {
   "cell_type": "code",
   "execution_count": 10,
   "metadata": {
    "ExecuteTime": {
     "end_time": "2020-04-27T12:47:48.200313Z",
     "start_time": "2020-04-27T12:47:48.195310Z"
    }
   },
   "outputs": [
    {
     "data": {
      "text/plain": [
       "[False, False, False, 'nao sei', True]"
      ]
     },
     "execution_count": 10,
     "metadata": {},
     "output_type": "execute_result"
    }
   ],
   "source": [
    "# Solução:\n",
    "\n",
    "def f(x):\n",
    "    try:\n",
    "        return x > 4\n",
    "    except:\n",
    "        return 'nao sei'\n",
    "        \n",
    "list(map(f, x))"
   ]
  },
  {
   "cell_type": "code",
   "execution_count": 11,
   "metadata": {
    "ExecuteTime": {
     "end_time": "2020-04-27T12:49:09.816132Z",
     "start_time": "2020-04-27T12:49:09.810126Z"
    }
   },
   "outputs": [
    {
     "data": {
      "text/plain": [
       "[1.0, 0.5, 1.0, 1000000.0, 0.25, 0]"
      ]
     },
     "execution_count": 11,
     "metadata": {},
     "output_type": "execute_result"
    }
   ],
   "source": [
    "# É possível ser mais específico ainda, colocando excepts para cada tipo de erro:\n",
    "\n",
    "x = [1,2,1,0,4,None]\n",
    "\n",
    "def f(x):\n",
    "    try:\n",
    "        output = 1 / x\n",
    "    except ZeroDivisionError:\n",
    "        output = 1 / (x + 0.000001)\n",
    "    except TypeError:\n",
    "        output = 0\n",
    "    return output\n",
    "    \n",
    "list(map(f, x))"
   ]
  },
  {
   "cell_type": "markdown",
   "metadata": {},
   "source": [
    "## Comprehensions\n",
    "\n",
    "* Nada mais são do que sintaxes enxutas de for loops, em geral com melhor ou igual eficiência\n",
    "* O output pode ser uma lista, um dicionário ou um generator\n",
    "* Sintaxes para cada caso: \n",
    "    + list: __[f(x) for x in iterable]__\n",
    "    + dict: __{k(x): v(x) for x in iterable}__\n",
    "    + generator: __(f(x) for x in iterable)__"
   ]
  },
  {
   "cell_type": "markdown",
   "metadata": {},
   "source": [
    "### list comprehension"
   ]
  },
  {
   "cell_type": "code",
   "execution_count": 12,
   "metadata": {
    "ExecuteTime": {
     "end_time": "2020-04-27T12:52:34.309296Z",
     "start_time": "2020-04-27T12:52:34.305294Z"
    }
   },
   "outputs": [
    {
     "name": "stdout",
     "output_type": "stream",
     "text": [
      "Ele não detalhou o porquê de, na visão dele, o atual modelo de ensino gerar dependência, de programas sociais.\n"
     ]
    }
   ],
   "source": [
    "# Objetivo: quebrar string com delimitador ' ' e depois remover vírgulas dos trechos\n",
    "\n",
    "texto = (\"Ele não detalhou o porquê \"\n",
    "         \"de, na visão dele, o atual modelo de ensino gerar dependência, \"\n",
    "         \"de programas sociais.\")\n",
    "\n",
    "print(texto)"
   ]
  },
  {
   "cell_type": "code",
   "execution_count": 13,
   "metadata": {
    "ExecuteTime": {
     "end_time": "2020-04-27T12:52:59.805147Z",
     "start_time": "2020-04-27T12:52:59.802143Z"
    }
   },
   "outputs": [],
   "source": [
    "t = texto.split()"
   ]
  },
  {
   "cell_type": "code",
   "execution_count": 68,
   "metadata": {
    "ExecuteTime": {
     "end_time": "2019-09-11T03:34:57.490849Z",
     "start_time": "2019-09-11T03:34:57.486845Z"
    }
   },
   "outputs": [
    {
     "data": {
      "text/plain": [
       "['Ele',\n",
       " 'não',\n",
       " 'detalhou',\n",
       " 'o',\n",
       " 'porquê',\n",
       " 'de',\n",
       " 'na',\n",
       " 'visão',\n",
       " 'dele',\n",
       " 'o',\n",
       " 'atual',\n",
       " 'modelo',\n",
       " 'de',\n",
       " 'ensino',\n",
       " 'gerar',\n",
       " 'dependência',\n",
       " 'de',\n",
       " 'programas',\n",
       " 'sociais']"
      ]
     },
     "execution_count": 68,
     "metadata": {},
     "output_type": "execute_result"
    }
   ],
   "source": [
    "[s.replace(',','').replace('.','') for s in texto.split()]"
   ]
  },
  {
   "cell_type": "code",
   "execution_count": 69,
   "metadata": {
    "ExecuteTime": {
     "end_time": "2019-09-11T03:36:37.838307Z",
     "start_time": "2019-09-11T03:36:37.834308Z"
    }
   },
   "outputs": [
    {
     "data": {
      "text/plain": [
       "[1000, 3375, 8000]"
      ]
     },
     "execution_count": 69,
     "metadata": {},
     "output_type": "execute_result"
    }
   ],
   "source": [
    "x = range(10,25,5)\n",
    "[i ** 3 for i in x]"
   ]
  },
  {
   "cell_type": "code",
   "execution_count": 79,
   "metadata": {
    "ExecuteTime": {
     "end_time": "2019-09-11T03:42:44.602311Z",
     "start_time": "2019-09-11T03:42:44.597309Z"
    }
   },
   "outputs": [
    {
     "name": "stdout",
     "output_type": "stream",
     "text": [
      "Caso 1: ['<= c', '> c', '> c', '> c', '> c', '> c']\n",
      "Caso 2: ['e', 'f', 'g', 'k', 'l']\n"
     ]
    }
   ],
   "source": [
    "# Introduzindo if-else statements\n",
    "\n",
    "# 1) julgando todos os elementos da lista\n",
    "\n",
    "x = list('aefgkl')\n",
    "\n",
    "res = ['> c' if s > 'c' else '<= c' for s in x]\n",
    "\n",
    "print(\"Caso 1: {}\".format(res))\n",
    "\n",
    "# 2) Filtrando elementos caso não correspondam a cláusula\n",
    "\n",
    "res = [s for s in x if s > 'c']\n",
    "\n",
    "print(\"Caso 2: {}\".format(res))"
   ]
  },
  {
   "cell_type": "markdown",
   "metadata": {},
   "source": [
    "### dict comprehension"
   ]
  },
  {
   "cell_type": "code",
   "execution_count": 81,
   "metadata": {
    "ExecuteTime": {
     "end_time": "2019-09-11T03:48:46.560343Z",
     "start_time": "2019-09-11T03:48:46.554337Z"
    }
   },
   "outputs": [
    {
     "data": {
      "text/plain": [
       "{'banana': 1, 'maçã': 2, 'melancia': 3}"
      ]
     },
     "execution_count": 81,
     "metadata": {},
     "output_type": "execute_result"
    }
   ],
   "source": [
    "# Criando dicionários com chaves sendo ordem índice da ordem alfabética\n",
    "\n",
    "x = ['melancia','banana','maçã']\n",
    "\n",
    "{val: ind for ind, val in enumerate(sorted(x),1)}"
   ]
  },
  {
   "cell_type": "markdown",
   "metadata": {},
   "source": [
    "### generators"
   ]
  },
  {
   "cell_type": "code",
   "execution_count": 15,
   "metadata": {
    "ExecuteTime": {
     "end_time": "2020-04-27T12:57:25.799348Z",
     "start_time": "2020-04-27T12:57:25.794340Z"
    }
   },
   "outputs": [
    {
     "data": {
      "text/plain": [
       "<generator object <genexpr> at 0x00000202464E4ED0>"
      ]
     },
     "execution_count": 15,
     "metadata": {},
     "output_type": "execute_result"
    }
   ],
   "source": [
    "# Iguais às list comprehensions, mas com lazy evaluation\n",
    "\n",
    "x = range(10,25,5)\n",
    "\n",
    "gen = (i ** 3 for i in x)\n",
    "arqs = ['df1.csv','df2.csv']\n",
    "gen = (pd.read_csv(i).assign(var=i) for i in arqs)\n",
    "gen"
   ]
  },
  {
   "cell_type": "code",
   "execution_count": 16,
   "metadata": {
    "ExecuteTime": {
     "end_time": "2020-04-27T12:57:37.179525Z",
     "start_time": "2020-04-27T12:57:37.175519Z"
    }
   },
   "outputs": [
    {
     "data": {
      "text/plain": [
       "[1000, 3375, 8000]"
      ]
     },
     "execution_count": 16,
     "metadata": {},
     "output_type": "execute_result"
    }
   ],
   "source": [
    "list(gen)"
   ]
  },
  {
   "cell_type": "markdown",
   "metadata": {},
   "source": [
    "# Conexão a bancos"
   ]
  },
  {
   "cell_type": "code",
   "execution_count": 17,
   "metadata": {
    "ExecuteTime": {
     "end_time": "2020-04-27T12:59:17.390649Z",
     "start_time": "2020-04-27T12:59:17.386659Z"
    }
   },
   "outputs": [],
   "source": [
    "def con_sqlalchemy(uid, pwd, server='172.27.16.212:4444', database='est_estudo'):\n",
    "    return create_engine(f'mssql+pyodbc://{uid}:{pwd}@{server}/{database}?driver=SQL+Server')"
   ]
  },
  {
   "cell_type": "code",
   "execution_count": 18,
   "metadata": {
    "ExecuteTime": {
     "end_time": "2020-04-27T12:59:17.396646Z",
     "start_time": "2020-04-27T12:59:17.391661Z"
    }
   },
   "outputs": [],
   "source": [
    "def con_pyodbc(uid, pwd, server = '172.27.16.212,4444', database = 'est_estudo'):\n",
    "    conn = connect('Driver={SQL Server};'\n",
    "                   'Server='+server+';'\n",
    "                   'Database='+database+';'\n",
    "                   'uid='+uid+';pwd='+pwd)\n",
    "    return conn"
   ]
  },
  {
   "cell_type": "markdown",
   "metadata": {},
   "source": [
    "## pyodbc"
   ]
  },
  {
   "cell_type": "code",
   "execution_count": 19,
   "metadata": {
    "ExecuteTime": {
     "end_time": "2020-04-27T13:01:24.115311Z",
     "start_time": "2020-04-27T13:01:18.808211Z"
    }
   },
   "outputs": [
    {
     "name": "stdout",
     "output_type": "stream",
     "text": [
      "········\n"
     ]
    }
   ],
   "source": [
    "con = con_pyodbc('eric.barbosa', getpass())\n",
    "\n",
    "df = pd.read_sql('''\n",
    "select top 10 \n",
    "    * \n",
    "from clearsale..pedidos\n",
    "''', con)\n",
    "\n",
    "df.head(1)\n",
    "\n",
    "con.close()"
   ]
  },
  {
   "cell_type": "markdown",
   "metadata": {},
   "source": [
    "## sqlalchemy"
   ]
  },
  {
   "cell_type": "code",
   "execution_count": 25,
   "metadata": {
    "ExecuteTime": {
     "end_time": "2020-04-27T13:05:33.251242Z",
     "start_time": "2020-04-27T13:05:28.304675Z"
    }
   },
   "outputs": [
    {
     "name": "stdout",
     "output_type": "stream",
     "text": [
      "········\n"
     ]
    }
   ],
   "source": [
    "con = con_sqlalchemy('eric.barbosa',getpass())"
   ]
  },
  {
   "cell_type": "code",
   "execution_count": 26,
   "metadata": {
    "ExecuteTime": {
     "end_time": "2020-04-27T13:06:10.812542Z",
     "start_time": "2020-04-27T13:06:10.728970Z"
    }
   },
   "outputs": [],
   "source": [
    "df = pd.read_sql('''\n",
    "select top 10 \n",
    "    * \n",
    "from clearsale..pedidos\n",
    "''', con)"
   ]
  },
  {
   "cell_type": "code",
   "execution_count": null,
   "metadata": {},
   "outputs": [],
   "source": [
    "# session do sqlalchemy"
   ]
  },
  {
   "cell_type": "markdown",
   "metadata": {},
   "source": [
    "# Manipulação de variáveis"
   ]
  },
  {
   "cell_type": "markdown",
   "metadata": {},
   "source": [
    "## Lendo tabela com histórico de pedidos por cpf"
   ]
  },
  {
   "cell_type": "code",
   "execution_count": 4,
   "metadata": {
    "ExecuteTime": {
     "end_time": "2019-09-19T12:19:48.396756Z",
     "start_time": "2019-09-19T12:19:45.853638Z"
    }
   },
   "outputs": [
    {
     "name": "stdout",
     "output_type": "stream",
     "text": [
      "········\n"
     ]
    }
   ],
   "source": [
    "con = con_sqlalchemy('eric.barbosa', getpass())"
   ]
  },
  {
   "cell_type": "code",
   "execution_count": 27,
   "metadata": {
    "ExecuteTime": {
     "end_time": "2020-04-27T13:08:26.317948Z",
     "start_time": "2020-04-27T13:08:24.067230Z"
    }
   },
   "outputs": [],
   "source": [
    "query = '''\n",
    "    select top 100000\n",
    "        *\n",
    "    from eric_barbosa.modelagem_contas_v3_gc_pedidos_cpf\n",
    "'''\n",
    "\n",
    "df = pd.read_sql(query, con)"
   ]
  },
  {
   "cell_type": "code",
   "execution_count": 28,
   "metadata": {
    "ExecuteTime": {
     "end_time": "2020-04-27T13:08:28.202086Z",
     "start_time": "2020-04-27T13:08:28.150455Z"
    },
    "scrolled": false
   },
   "outputs": [
    {
     "name": "stdout",
     "output_type": "stream",
     "text": [
      "<class 'pandas.core.frame.DataFrame'>\n",
      "RangeIndex: 100000 entries, 0 to 99999\n",
      "Data columns (total 10 columns):\n",
      "id                    100000 non-null float64\n",
      "base                  100000 non-null object\n",
      "id_registro           100000 non-null datetime64[ns]\n",
      "pedido_id             100000 non-null float64\n",
      "pedido_registro       100000 non-null datetime64[ns]\n",
      "pedido_status_id      100000 non-null float64\n",
      "entidade_id           100000 non-null float64\n",
      "entidade_mundofisi    100000 non-null int64\n",
      "entidade_santander    100000 non-null int64\n",
      "entidade_emissores    100000 non-null int64\n",
      "dtypes: datetime64[ns](2), float64(4), int64(3), object(1)\n",
      "memory usage: 7.6+ MB\n",
      "None\n"
     ]
    },
    {
     "data": {
      "text/html": [
       "<div>\n",
       "<style scoped>\n",
       "    .dataframe tbody tr th:only-of-type {\n",
       "        vertical-align: middle;\n",
       "    }\n",
       "\n",
       "    .dataframe tbody tr th {\n",
       "        vertical-align: top;\n",
       "    }\n",
       "\n",
       "    .dataframe thead th {\n",
       "        text-align: right;\n",
       "    }\n",
       "</style>\n",
       "<table border=\"1\" class=\"dataframe\">\n",
       "  <thead>\n",
       "    <tr style=\"text-align: right;\">\n",
       "      <th></th>\n",
       "      <th>id</th>\n",
       "      <th>base</th>\n",
       "      <th>id_registro</th>\n",
       "      <th>pedido_id</th>\n",
       "      <th>pedido_registro</th>\n",
       "      <th>pedido_status_id</th>\n",
       "      <th>entidade_id</th>\n",
       "      <th>entidade_mundofisi</th>\n",
       "      <th>entidade_santander</th>\n",
       "      <th>entidade_emissores</th>\n",
       "    </tr>\n",
       "  </thead>\n",
       "  <tbody>\n",
       "    <tr>\n",
       "      <th>0</th>\n",
       "      <td>729015091.0</td>\n",
       "      <td>09449309485</td>\n",
       "      <td>2018-01-01 02:32:37.230</td>\n",
       "      <td>42329990.0</td>\n",
       "      <td>2011-08-02 20:02:42.070</td>\n",
       "      <td>18.0</td>\n",
       "      <td>100957.0</td>\n",
       "      <td>0</td>\n",
       "      <td>0</td>\n",
       "      <td>0</td>\n",
       "    </tr>\n",
       "    <tr>\n",
       "      <th>1</th>\n",
       "      <td>729015091.0</td>\n",
       "      <td>09449309485</td>\n",
       "      <td>2018-01-01 02:32:37.230</td>\n",
       "      <td>43606089.0</td>\n",
       "      <td>2011-08-15 19:59:36.960</td>\n",
       "      <td>26.0</td>\n",
       "      <td>101831.0</td>\n",
       "      <td>0</td>\n",
       "      <td>0</td>\n",
       "      <td>0</td>\n",
       "    </tr>\n",
       "  </tbody>\n",
       "</table>\n",
       "</div>"
      ],
      "text/plain": [
       "            id         base  ... entidade_santander  entidade_emissores\n",
       "0  729015091.0  09449309485  ...                  0                   0\n",
       "1  729015091.0  09449309485  ...                  0                   0\n",
       "\n",
       "[2 rows x 10 columns]"
      ]
     },
     "execution_count": 28,
     "metadata": {},
     "output_type": "execute_result"
    }
   ],
   "source": [
    "print(df.info())\n",
    "df.head(2)"
   ]
  },
  {
   "cell_type": "markdown",
   "metadata": {},
   "source": [
    "## Criando variáveis"
   ]
  },
  {
   "cell_type": "code",
   "execution_count": 29,
   "metadata": {
    "ExecuteTime": {
     "end_time": "2020-04-27T13:10:38.931507Z",
     "start_time": "2020-04-27T13:10:38.927497Z"
    }
   },
   "outputs": [
    {
     "data": {
      "text/plain": [
       "['id',\n",
       " 'base',\n",
       " 'id_registro',\n",
       " 'pedido_id',\n",
       " 'pedido_registro',\n",
       " 'pedido_status_id',\n",
       " 'entidade_id',\n",
       " 'entidade_mundofisi',\n",
       " 'entidade_santander',\n",
       " 'entidade_emissores']"
      ]
     },
     "execution_count": 29,
     "metadata": {},
     "output_type": "execute_result"
    }
   ],
   "source": [
    "# Verificando quais as colunas existentes:\n",
    "list(df.columns)"
   ]
  },
  {
   "cell_type": "code",
   "execution_count": 30,
   "metadata": {
    "ExecuteTime": {
     "end_time": "2020-04-27T13:10:44.222467Z",
     "start_time": "2020-04-27T13:10:44.206453Z"
    }
   },
   "outputs": [
    {
     "name": "stdout",
     "output_type": "stream",
     "text": [
      "0    42328990.0\n",
      "1    43605089.0\n",
      "Name: pedido_id, dtype: float64\n"
     ]
    },
    {
     "data": {
      "text/plain": [
       "0    0\n",
       "1    0\n",
       "dtype: int64"
      ]
     },
     "execution_count": 30,
     "metadata": {},
     "output_type": "execute_result"
    }
   ],
   "source": [
    "# Todos os operadores matemáticos entre Series são vetorizados (se os tipos das colunas forem compatíveis)\n",
    "\n",
    "print(df['pedido_id'].head(2) - 1000)\n",
    "\n",
    "(df['entidade_emissores'] + df['entidade_mundofisi']).head(2)"
   ]
  },
  {
   "cell_type": "code",
   "execution_count": 31,
   "metadata": {
    "ExecuteTime": {
     "end_time": "2020-04-27T13:10:47.359630Z",
     "start_time": "2020-04-27T13:10:47.307023Z"
    }
   },
   "outputs": [],
   "source": [
    "# Criando flag para status de pedidos aprovados.\n",
    "# Notem que se o resultado da operação for uma lista, tupla ou np.array, \n",
    "# ele é automaticamente convertido para pd.Series\n",
    "\n",
    "df['flag_apv'] = [1 if s == 18 else 0 for s in df['pedido_status_id']]"
   ]
  },
  {
   "cell_type": "markdown",
   "metadata": {},
   "source": [
    "### Método s.map()"
   ]
  },
  {
   "cell_type": "code",
   "execution_count": 34,
   "metadata": {
    "ExecuteTime": {
     "end_time": "2020-04-27T13:14:37.448989Z",
     "start_time": "2020-04-27T13:14:37.398976Z"
    }
   },
   "outputs": [],
   "source": [
    "# Criando flag para status de pedidos suspeitos:\n",
    "def x(x):\n",
    "    return 1 if x == 10 else 0\n",
    "\n",
    "lambda x: 1 if x == 10 else 0\n",
    "\n",
    "df['flag_sus'] = df['pedido_status_id'].map(lambda x: 1 if x == 10 else 0)"
   ]
  },
  {
   "cell_type": "code",
   "execution_count": 35,
   "metadata": {
    "ExecuteTime": {
     "end_time": "2020-04-27T13:14:37.475983Z",
     "start_time": "2020-04-27T13:14:37.450963Z"
    }
   },
   "outputs": [
    {
     "name": "stdout",
     "output_type": "stream",
     "text": [
      "0    88697\n",
      "1    11303\n",
      "Name: entidade_emissores, dtype: int64\n",
      "\n",
      "\n",
      "nao    88697\n",
      "sim    11303\n",
      "Name: entidade_emissores_str, dtype: int64\n"
     ]
    }
   ],
   "source": [
    "# Usando .map() como de-para:\n",
    "\n",
    "print(df['entidade_emissores'].value_counts())\n",
    "\n",
    "df['entidade_emissores_str'] = df['entidade_emissores'].map({0: 'nao', 1: 'sim'})\n",
    "\n",
    "print('\\n')\n",
    "print(df['entidade_emissores_str'].value_counts())"
   ]
  },
  {
   "cell_type": "markdown",
   "metadata": {},
   "source": [
    "### Método df.apply()"
   ]
  },
  {
   "cell_type": "code",
   "execution_count": 37,
   "metadata": {
    "ExecuteTime": {
     "end_time": "2020-04-27T13:17:45.304925Z",
     "start_time": "2020-04-27T13:17:45.286885Z"
    }
   },
   "outputs": [
    {
     "name": "stdout",
     "output_type": "stream",
     "text": [
      "entidade_emissores    0\n",
      "entidade_santander    0\n",
      "entidade_mundofisi    0\n",
      "dtype: int64 \n",
      "\n",
      "entidade_emissores    0\n",
      "entidade_santander    0\n",
      "entidade_mundofisi    0\n",
      "dtype: int64 \n",
      "\n"
     ]
    },
    {
     "data": {
      "text/plain": [
       "99990    0\n",
       "99991    0\n",
       "99992    0\n",
       "99993    0\n",
       "99994    0\n",
       "99995    0\n",
       "99996    0\n",
       "99997    0\n",
       "99998    0\n",
       "99999    0\n",
       "dtype: int64"
      ]
     },
     "execution_count": 37,
     "metadata": {},
     "output_type": "execute_result"
    }
   ],
   "source": [
    "ents = ['entidade_emissores','entidade_santander','entidade_mundofisi']\n",
    "\n",
    "# axis=0 -> coluna (default)\n",
    "# axis=1 -> linhas \n",
    "\n",
    "print(df[ents].head(10).apply('sum', axis=0), '\\n')\n",
    "print(df[ents].head(10).sum(axis=0), '\\n')\n",
    "\n",
    "df[ents].tail(10).apply('sum', axis=1)"
   ]
  },
  {
   "cell_type": "code",
   "execution_count": 38,
   "metadata": {
    "ExecuteTime": {
     "end_time": "2020-04-27T13:18:00.140055Z",
     "start_time": "2020-04-27T13:18:00.120039Z"
    }
   },
   "outputs": [
    {
     "name": "stdout",
     "output_type": "stream",
     "text": [
      "0    0\n",
      "1    0\n",
      "2    0\n",
      "3    0\n",
      "4    0\n",
      "dtype: int64 \n",
      "\n"
     ]
    },
    {
     "data": {
      "text/plain": [
       "entidade_emissores    1\n",
       "entidade_santander    1\n",
       "entidade_mundofisi    1\n",
       "dtype: int64"
      ]
     },
     "execution_count": 38,
     "metadata": {},
     "output_type": "execute_result"
    }
   ],
   "source": [
    "# Funções matemáticas básicas operam sobre mesma ideia do df.apply():\n",
    "\n",
    "print(df[ents].head().max(axis=1), '\\n')\n",
    "df[ents].max(axis=0)"
   ]
  },
  {
   "cell_type": "markdown",
   "metadata": {},
   "source": [
    "### Alternativas para case when"
   ]
  },
  {
   "cell_type": "code",
   "execution_count": 41,
   "metadata": {
    "ExecuteTime": {
     "end_time": "2020-04-27T13:21:52.942826Z",
     "start_time": "2020-04-27T13:21:48.035425Z"
    }
   },
   "outputs": [
    {
     "data": {
      "text/plain": [
       "apv__fora_santander    51860\n",
       "else                   44652\n",
       "apv__santander          3488\n",
       "dtype: int64"
      ]
     },
     "execution_count": 41,
     "metadata": {},
     "output_type": "execute_result"
    }
   ],
   "source": [
    "def case(x):\n",
    "    if (x['pedido_status_id'] in [9,18]) & (x['entidade_santander']==1):\n",
    "        return 'apv__santander'\n",
    "    elif (x['pedido_status_id'] in [9,18]) & (x['entidade_santander']==0):\n",
    "        return 'apv__fora_santander'\n",
    "    else:\n",
    "        return 'else'\n",
    "\n",
    "df.apply(case, axis=1).value_counts()"
   ]
  },
  {
   "cell_type": "markdown",
   "metadata": {},
   "source": [
    "### dummies"
   ]
  },
  {
   "cell_type": "code",
   "execution_count": 43,
   "metadata": {
    "ExecuteTime": {
     "end_time": "2020-04-27T13:23:17.497430Z",
     "start_time": "2020-04-27T13:23:17.390272Z"
    }
   },
   "outputs": [
    {
     "data": {
      "text/html": [
       "<div>\n",
       "<style scoped>\n",
       "    .dataframe tbody tr th:only-of-type {\n",
       "        vertical-align: middle;\n",
       "    }\n",
       "\n",
       "    .dataframe tbody tr th {\n",
       "        vertical-align: top;\n",
       "    }\n",
       "\n",
       "    .dataframe thead th {\n",
       "        text-align: right;\n",
       "    }\n",
       "</style>\n",
       "<table border=\"1\" class=\"dataframe\">\n",
       "  <thead>\n",
       "    <tr style=\"text-align: right;\">\n",
       "      <th></th>\n",
       "      <th>9.0</th>\n",
       "      <th>10.0</th>\n",
       "      <th>11.0</th>\n",
       "      <th>14.0</th>\n",
       "      <th>18.0</th>\n",
       "      <th>20.0</th>\n",
       "      <th>22.0</th>\n",
       "      <th>24.0</th>\n",
       "      <th>26.0</th>\n",
       "      <th>27.0</th>\n",
       "      <th>32.0</th>\n",
       "      <th>33.0</th>\n",
       "      <th>34.0</th>\n",
       "      <th>38.0</th>\n",
       "      <th>41.0</th>\n",
       "      <th>43.0</th>\n",
       "      <th>44.0</th>\n",
       "      <th>45.0</th>\n",
       "      <th>46.0</th>\n",
       "      <th>47.0</th>\n",
       "      <th>100.0</th>\n",
       "      <th>101.0</th>\n",
       "      <th>102.0</th>\n",
       "      <th>103.0</th>\n",
       "      <th>104.0</th>\n",
       "      <th>106.0</th>\n",
       "      <th>110.0</th>\n",
       "      <th>111.0</th>\n",
       "      <th>112.0</th>\n",
       "      <th>115.0</th>\n",
       "      <th>116.0</th>\n",
       "      <th>117.0</th>\n",
       "      <th>118.0</th>\n",
       "      <th>120.0</th>\n",
       "      <th>121.0</th>\n",
       "      <th>122.0</th>\n",
       "      <th>123.0</th>\n",
       "      <th>124.0</th>\n",
       "      <th>125.0</th>\n",
       "      <th>126.0</th>\n",
       "      <th>129.0</th>\n",
       "      <th>132.0</th>\n",
       "      <th>134.0</th>\n",
       "      <th>135.0</th>\n",
       "      <th>139.0</th>\n",
       "      <th>140.0</th>\n",
       "      <th>143.0</th>\n",
       "      <th>145.0</th>\n",
       "      <th>155.0</th>\n",
       "      <th>163.0</th>\n",
       "      <th>164.0</th>\n",
       "      <th>165.0</th>\n",
       "      <th>166.0</th>\n",
       "      <th>167.0</th>\n",
       "      <th>170.0</th>\n",
       "      <th>180.0</th>\n",
       "      <th>182.0</th>\n",
       "      <th>185.0</th>\n",
       "      <th>1000.0</th>\n",
       "      <th>11000.0</th>\n",
       "      <th>13001.0</th>\n",
       "    </tr>\n",
       "  </thead>\n",
       "  <tbody>\n",
       "    <tr>\n",
       "      <th>0</th>\n",
       "      <td>0</td>\n",
       "      <td>0</td>\n",
       "      <td>0</td>\n",
       "      <td>0</td>\n",
       "      <td>1</td>\n",
       "      <td>0</td>\n",
       "      <td>0</td>\n",
       "      <td>0</td>\n",
       "      <td>0</td>\n",
       "      <td>0</td>\n",
       "      <td>0</td>\n",
       "      <td>0</td>\n",
       "      <td>0</td>\n",
       "      <td>0</td>\n",
       "      <td>0</td>\n",
       "      <td>0</td>\n",
       "      <td>0</td>\n",
       "      <td>0</td>\n",
       "      <td>0</td>\n",
       "      <td>0</td>\n",
       "      <td>0</td>\n",
       "      <td>0</td>\n",
       "      <td>0</td>\n",
       "      <td>0</td>\n",
       "      <td>0</td>\n",
       "      <td>0</td>\n",
       "      <td>0</td>\n",
       "      <td>0</td>\n",
       "      <td>0</td>\n",
       "      <td>0</td>\n",
       "      <td>0</td>\n",
       "      <td>0</td>\n",
       "      <td>0</td>\n",
       "      <td>0</td>\n",
       "      <td>0</td>\n",
       "      <td>0</td>\n",
       "      <td>0</td>\n",
       "      <td>0</td>\n",
       "      <td>0</td>\n",
       "      <td>0</td>\n",
       "      <td>0</td>\n",
       "      <td>0</td>\n",
       "      <td>0</td>\n",
       "      <td>0</td>\n",
       "      <td>0</td>\n",
       "      <td>0</td>\n",
       "      <td>0</td>\n",
       "      <td>0</td>\n",
       "      <td>0</td>\n",
       "      <td>0</td>\n",
       "      <td>0</td>\n",
       "      <td>0</td>\n",
       "      <td>0</td>\n",
       "      <td>0</td>\n",
       "      <td>0</td>\n",
       "      <td>0</td>\n",
       "      <td>0</td>\n",
       "      <td>0</td>\n",
       "      <td>0</td>\n",
       "      <td>0</td>\n",
       "      <td>0</td>\n",
       "    </tr>\n",
       "    <tr>\n",
       "      <th>1</th>\n",
       "      <td>0</td>\n",
       "      <td>0</td>\n",
       "      <td>0</td>\n",
       "      <td>0</td>\n",
       "      <td>0</td>\n",
       "      <td>0</td>\n",
       "      <td>0</td>\n",
       "      <td>0</td>\n",
       "      <td>1</td>\n",
       "      <td>0</td>\n",
       "      <td>0</td>\n",
       "      <td>0</td>\n",
       "      <td>0</td>\n",
       "      <td>0</td>\n",
       "      <td>0</td>\n",
       "      <td>0</td>\n",
       "      <td>0</td>\n",
       "      <td>0</td>\n",
       "      <td>0</td>\n",
       "      <td>0</td>\n",
       "      <td>0</td>\n",
       "      <td>0</td>\n",
       "      <td>0</td>\n",
       "      <td>0</td>\n",
       "      <td>0</td>\n",
       "      <td>0</td>\n",
       "      <td>0</td>\n",
       "      <td>0</td>\n",
       "      <td>0</td>\n",
       "      <td>0</td>\n",
       "      <td>0</td>\n",
       "      <td>0</td>\n",
       "      <td>0</td>\n",
       "      <td>0</td>\n",
       "      <td>0</td>\n",
       "      <td>0</td>\n",
       "      <td>0</td>\n",
       "      <td>0</td>\n",
       "      <td>0</td>\n",
       "      <td>0</td>\n",
       "      <td>0</td>\n",
       "      <td>0</td>\n",
       "      <td>0</td>\n",
       "      <td>0</td>\n",
       "      <td>0</td>\n",
       "      <td>0</td>\n",
       "      <td>0</td>\n",
       "      <td>0</td>\n",
       "      <td>0</td>\n",
       "      <td>0</td>\n",
       "      <td>0</td>\n",
       "      <td>0</td>\n",
       "      <td>0</td>\n",
       "      <td>0</td>\n",
       "      <td>0</td>\n",
       "      <td>0</td>\n",
       "      <td>0</td>\n",
       "      <td>0</td>\n",
       "      <td>0</td>\n",
       "      <td>0</td>\n",
       "      <td>0</td>\n",
       "    </tr>\n",
       "    <tr>\n",
       "      <th>2</th>\n",
       "      <td>0</td>\n",
       "      <td>0</td>\n",
       "      <td>0</td>\n",
       "      <td>0</td>\n",
       "      <td>0</td>\n",
       "      <td>0</td>\n",
       "      <td>0</td>\n",
       "      <td>0</td>\n",
       "      <td>0</td>\n",
       "      <td>0</td>\n",
       "      <td>0</td>\n",
       "      <td>0</td>\n",
       "      <td>0</td>\n",
       "      <td>0</td>\n",
       "      <td>0</td>\n",
       "      <td>0</td>\n",
       "      <td>1</td>\n",
       "      <td>0</td>\n",
       "      <td>0</td>\n",
       "      <td>0</td>\n",
       "      <td>0</td>\n",
       "      <td>0</td>\n",
       "      <td>0</td>\n",
       "      <td>0</td>\n",
       "      <td>0</td>\n",
       "      <td>0</td>\n",
       "      <td>0</td>\n",
       "      <td>0</td>\n",
       "      <td>0</td>\n",
       "      <td>0</td>\n",
       "      <td>0</td>\n",
       "      <td>0</td>\n",
       "      <td>0</td>\n",
       "      <td>0</td>\n",
       "      <td>0</td>\n",
       "      <td>0</td>\n",
       "      <td>0</td>\n",
       "      <td>0</td>\n",
       "      <td>0</td>\n",
       "      <td>0</td>\n",
       "      <td>0</td>\n",
       "      <td>0</td>\n",
       "      <td>0</td>\n",
       "      <td>0</td>\n",
       "      <td>0</td>\n",
       "      <td>0</td>\n",
       "      <td>0</td>\n",
       "      <td>0</td>\n",
       "      <td>0</td>\n",
       "      <td>0</td>\n",
       "      <td>0</td>\n",
       "      <td>0</td>\n",
       "      <td>0</td>\n",
       "      <td>0</td>\n",
       "      <td>0</td>\n",
       "      <td>0</td>\n",
       "      <td>0</td>\n",
       "      <td>0</td>\n",
       "      <td>0</td>\n",
       "      <td>0</td>\n",
       "      <td>0</td>\n",
       "    </tr>\n",
       "    <tr>\n",
       "      <th>3</th>\n",
       "      <td>0</td>\n",
       "      <td>0</td>\n",
       "      <td>0</td>\n",
       "      <td>0</td>\n",
       "      <td>0</td>\n",
       "      <td>0</td>\n",
       "      <td>0</td>\n",
       "      <td>0</td>\n",
       "      <td>1</td>\n",
       "      <td>0</td>\n",
       "      <td>0</td>\n",
       "      <td>0</td>\n",
       "      <td>0</td>\n",
       "      <td>0</td>\n",
       "      <td>0</td>\n",
       "      <td>0</td>\n",
       "      <td>0</td>\n",
       "      <td>0</td>\n",
       "      <td>0</td>\n",
       "      <td>0</td>\n",
       "      <td>0</td>\n",
       "      <td>0</td>\n",
       "      <td>0</td>\n",
       "      <td>0</td>\n",
       "      <td>0</td>\n",
       "      <td>0</td>\n",
       "      <td>0</td>\n",
       "      <td>0</td>\n",
       "      <td>0</td>\n",
       "      <td>0</td>\n",
       "      <td>0</td>\n",
       "      <td>0</td>\n",
       "      <td>0</td>\n",
       "      <td>0</td>\n",
       "      <td>0</td>\n",
       "      <td>0</td>\n",
       "      <td>0</td>\n",
       "      <td>0</td>\n",
       "      <td>0</td>\n",
       "      <td>0</td>\n",
       "      <td>0</td>\n",
       "      <td>0</td>\n",
       "      <td>0</td>\n",
       "      <td>0</td>\n",
       "      <td>0</td>\n",
       "      <td>0</td>\n",
       "      <td>0</td>\n",
       "      <td>0</td>\n",
       "      <td>0</td>\n",
       "      <td>0</td>\n",
       "      <td>0</td>\n",
       "      <td>0</td>\n",
       "      <td>0</td>\n",
       "      <td>0</td>\n",
       "      <td>0</td>\n",
       "      <td>0</td>\n",
       "      <td>0</td>\n",
       "      <td>0</td>\n",
       "      <td>0</td>\n",
       "      <td>0</td>\n",
       "      <td>0</td>\n",
       "    </tr>\n",
       "    <tr>\n",
       "      <th>4</th>\n",
       "      <td>0</td>\n",
       "      <td>0</td>\n",
       "      <td>0</td>\n",
       "      <td>0</td>\n",
       "      <td>1</td>\n",
       "      <td>0</td>\n",
       "      <td>0</td>\n",
       "      <td>0</td>\n",
       "      <td>0</td>\n",
       "      <td>0</td>\n",
       "      <td>0</td>\n",
       "      <td>0</td>\n",
       "      <td>0</td>\n",
       "      <td>0</td>\n",
       "      <td>0</td>\n",
       "      <td>0</td>\n",
       "      <td>0</td>\n",
       "      <td>0</td>\n",
       "      <td>0</td>\n",
       "      <td>0</td>\n",
       "      <td>0</td>\n",
       "      <td>0</td>\n",
       "      <td>0</td>\n",
       "      <td>0</td>\n",
       "      <td>0</td>\n",
       "      <td>0</td>\n",
       "      <td>0</td>\n",
       "      <td>0</td>\n",
       "      <td>0</td>\n",
       "      <td>0</td>\n",
       "      <td>0</td>\n",
       "      <td>0</td>\n",
       "      <td>0</td>\n",
       "      <td>0</td>\n",
       "      <td>0</td>\n",
       "      <td>0</td>\n",
       "      <td>0</td>\n",
       "      <td>0</td>\n",
       "      <td>0</td>\n",
       "      <td>0</td>\n",
       "      <td>0</td>\n",
       "      <td>0</td>\n",
       "      <td>0</td>\n",
       "      <td>0</td>\n",
       "      <td>0</td>\n",
       "      <td>0</td>\n",
       "      <td>0</td>\n",
       "      <td>0</td>\n",
       "      <td>0</td>\n",
       "      <td>0</td>\n",
       "      <td>0</td>\n",
       "      <td>0</td>\n",
       "      <td>0</td>\n",
       "      <td>0</td>\n",
       "      <td>0</td>\n",
       "      <td>0</td>\n",
       "      <td>0</td>\n",
       "      <td>0</td>\n",
       "      <td>0</td>\n",
       "      <td>0</td>\n",
       "      <td>0</td>\n",
       "    </tr>\n",
       "  </tbody>\n",
       "</table>\n",
       "</div>"
      ],
      "text/plain": [
       "   9.0      10.0     11.0     14.0     ...  185.0    1000.0   11000.0  13001.0\n",
       "0        0        0        0        0  ...        0        0        0        0\n",
       "1        0        0        0        0  ...        0        0        0        0\n",
       "2        0        0        0        0  ...        0        0        0        0\n",
       "3        0        0        0        0  ...        0        0        0        0\n",
       "4        0        0        0        0  ...        0        0        0        0\n",
       "\n",
       "[5 rows x 61 columns]"
      ]
     },
     "execution_count": 43,
     "metadata": {},
     "output_type": "execute_result"
    }
   ],
   "source": [
    "pd.get_dummies(df['pedido_status_id']).head()"
   ]
  },
  {
   "cell_type": "markdown",
   "metadata": {},
   "source": [
    "### .str e .dt"
   ]
  },
  {
   "cell_type": "code",
   "execution_count": 48,
   "metadata": {
    "ExecuteTime": {
     "end_time": "2020-04-27T13:25:35.802920Z",
     "start_time": "2020-04-27T13:25:35.032460Z"
    }
   },
   "outputs": [
    {
     "data": {
      "text/plain": [
       "0    2011-08\n",
       "1    2011-08\n",
       "2    2011-09\n",
       "3    2011-09\n",
       "4    2011-10\n",
       "Name: pedido_registro, dtype: object"
      ]
     },
     "execution_count": 48,
     "metadata": {},
     "output_type": "execute_result"
    }
   ],
   "source": [
    "df['pedido_registro'].dt.strftime('%Y-%m').head()"
   ]
  },
  {
   "cell_type": "code",
   "execution_count": 53,
   "metadata": {
    "ExecuteTime": {
     "end_time": "2020-04-27T13:28:00.538409Z",
     "start_time": "2020-04-27T13:28:00.517360Z"
    }
   },
   "outputs": [],
   "source": [
    "cpfint = df['base'].astype(np.int64)"
   ]
  },
  {
   "cell_type": "code",
   "execution_count": 56,
   "metadata": {
    "ExecuteTime": {
     "end_time": "2020-04-27T13:28:33.599950Z",
     "start_time": "2020-04-27T13:28:33.493830Z"
    }
   },
   "outputs": [
    {
     "data": {
      "text/plain": [
       "0    09449309485\n",
       "1    09449309485\n",
       "2    09449309485\n",
       "3    09449309485\n",
       "4    09449309485\n",
       "Name: base, dtype: object"
      ]
     },
     "execution_count": 56,
     "metadata": {},
     "output_type": "execute_result"
    }
   ],
   "source": [
    "cpfint.astype(str).str.zfill(11).head()"
   ]
  },
  {
   "cell_type": "markdown",
   "metadata": {},
   "source": [
    "## Trabalhando com índices\n",
    "\n",
    "Ponto positivo para eficiência de filtros e joins. Os principais métodos para gerir os índices de um DF ou Series são:\n",
    "\n",
    "* .set_index()\n",
    "* .reset_index()\n",
    "* .sort_index()\n",
    "* .reindex()"
   ]
  },
  {
   "cell_type": "code",
   "execution_count": 201,
   "metadata": {
    "ExecuteTime": {
     "end_time": "2019-09-18T12:37:57.365168Z",
     "start_time": "2019-09-18T12:37:57.154983Z"
    },
    "scrolled": false
   },
   "outputs": [
    {
     "data": {
      "text/html": [
       "<div>\n",
       "<style scoped>\n",
       "    .dataframe tbody tr th:only-of-type {\n",
       "        vertical-align: middle;\n",
       "    }\n",
       "\n",
       "    .dataframe tbody tr th {\n",
       "        vertical-align: top;\n",
       "    }\n",
       "\n",
       "    .dataframe thead th {\n",
       "        text-align: right;\n",
       "    }\n",
       "</style>\n",
       "<table border=\"1\" class=\"dataframe\">\n",
       "  <thead>\n",
       "    <tr style=\"text-align: right;\">\n",
       "      <th></th>\n",
       "      <th></th>\n",
       "      <th>pedido_registro</th>\n",
       "      <th>pedido_status_id</th>\n",
       "    </tr>\n",
       "    <tr>\n",
       "      <th>id</th>\n",
       "      <th>pedido_id</th>\n",
       "      <th></th>\n",
       "      <th></th>\n",
       "    </tr>\n",
       "  </thead>\n",
       "  <tbody>\n",
       "    <tr>\n",
       "      <th rowspan=\"46\" valign=\"top\">729015091</th>\n",
       "      <th>42329990</th>\n",
       "      <td>2011-08-02 20:02:42.070</td>\n",
       "      <td>18.0</td>\n",
       "    </tr>\n",
       "    <tr>\n",
       "      <th>43606089</th>\n",
       "      <td>2011-08-15 19:59:36.960</td>\n",
       "      <td>26.0</td>\n",
       "    </tr>\n",
       "    <tr>\n",
       "      <th>54691557</th>\n",
       "      <td>2011-09-19 20:10:24.570</td>\n",
       "      <td>44.0</td>\n",
       "    </tr>\n",
       "    <tr>\n",
       "      <th>55095321</th>\n",
       "      <td>2011-09-25 12:56:30.487</td>\n",
       "      <td>26.0</td>\n",
       "    </tr>\n",
       "    <tr>\n",
       "      <th>71166777</th>\n",
       "      <td>2011-10-11 10:16:14.497</td>\n",
       "      <td>18.0</td>\n",
       "    </tr>\n",
       "    <tr>\n",
       "      <th>72220616</th>\n",
       "      <td>2011-10-24 17:23:34.060</td>\n",
       "      <td>27.0</td>\n",
       "    </tr>\n",
       "    <tr>\n",
       "      <th>74102981</th>\n",
       "      <td>2011-11-14 17:01:00.097</td>\n",
       "      <td>18.0</td>\n",
       "    </tr>\n",
       "    <tr>\n",
       "      <th>74255434</th>\n",
       "      <td>2011-11-16 11:16:19.600</td>\n",
       "      <td>18.0</td>\n",
       "    </tr>\n",
       "    <tr>\n",
       "      <th>74774177</th>\n",
       "      <td>2011-11-21 21:50:52.640</td>\n",
       "      <td>18.0</td>\n",
       "    </tr>\n",
       "    <tr>\n",
       "      <th>75113642</th>\n",
       "      <td>2011-11-25 05:55:20.897</td>\n",
       "      <td>18.0</td>\n",
       "    </tr>\n",
       "    <tr>\n",
       "      <th>75821226</th>\n",
       "      <td>2011-12-01 18:06:48.847</td>\n",
       "      <td>18.0</td>\n",
       "    </tr>\n",
       "    <tr>\n",
       "      <th>76078766</th>\n",
       "      <td>2011-12-04 14:54:47.523</td>\n",
       "      <td>27.0</td>\n",
       "    </tr>\n",
       "    <tr>\n",
       "      <th>78054050</th>\n",
       "      <td>2011-12-20 14:41:36.403</td>\n",
       "      <td>18.0</td>\n",
       "    </tr>\n",
       "    <tr>\n",
       "      <th>78843136</th>\n",
       "      <td>2011-12-29 00:05:30.927</td>\n",
       "      <td>18.0</td>\n",
       "    </tr>\n",
       "    <tr>\n",
       "      <th>79091354</th>\n",
       "      <td>2012-01-01 10:56:14.220</td>\n",
       "      <td>18.0</td>\n",
       "    </tr>\n",
       "    <tr>\n",
       "      <th>79180861</th>\n",
       "      <td>2012-01-02 14:55:23.900</td>\n",
       "      <td>18.0</td>\n",
       "    </tr>\n",
       "    <tr>\n",
       "      <th>80644461</th>\n",
       "      <td>2012-01-14 22:15:50.583</td>\n",
       "      <td>18.0</td>\n",
       "    </tr>\n",
       "    <tr>\n",
       "      <th>81522751</th>\n",
       "      <td>2012-01-23 20:50:50.777</td>\n",
       "      <td>18.0</td>\n",
       "    </tr>\n",
       "    <tr>\n",
       "      <th>82720306</th>\n",
       "      <td>2012-02-04 16:54:57.277</td>\n",
       "      <td>18.0</td>\n",
       "    </tr>\n",
       "    <tr>\n",
       "      <th>85718219</th>\n",
       "      <td>2012-03-05 21:36:49.803</td>\n",
       "      <td>9.0</td>\n",
       "    </tr>\n",
       "    <tr>\n",
       "      <th>86357960</th>\n",
       "      <td>2012-03-11 21:07:39.000</td>\n",
       "      <td>9.0</td>\n",
       "    </tr>\n",
       "    <tr>\n",
       "      <th>90246124</th>\n",
       "      <td>2012-04-12 05:47:00.783</td>\n",
       "      <td>45.0</td>\n",
       "    </tr>\n",
       "    <tr>\n",
       "      <th>93971322</th>\n",
       "      <td>2012-05-09 20:33:34.483</td>\n",
       "      <td>26.0</td>\n",
       "    </tr>\n",
       "    <tr>\n",
       "      <th>96164419</th>\n",
       "      <td>2012-05-29 21:49:42.377</td>\n",
       "      <td>26.0</td>\n",
       "    </tr>\n",
       "    <tr>\n",
       "      <th>99844306</th>\n",
       "      <td>2012-06-27 14:09:50.543</td>\n",
       "      <td>27.0</td>\n",
       "    </tr>\n",
       "    <tr>\n",
       "      <th>100384944</th>\n",
       "      <td>2012-07-01 14:25:48.697</td>\n",
       "      <td>44.0</td>\n",
       "    </tr>\n",
       "    <tr>\n",
       "      <th>100789355</th>\n",
       "      <td>2012-07-04 11:45:38.790</td>\n",
       "      <td>27.0</td>\n",
       "    </tr>\n",
       "    <tr>\n",
       "      <th>101648543</th>\n",
       "      <td>2012-07-10 19:53:57.907</td>\n",
       "      <td>18.0</td>\n",
       "    </tr>\n",
       "    <tr>\n",
       "      <th>101649659</th>\n",
       "      <td>2012-07-10 20:02:27.140</td>\n",
       "      <td>18.0</td>\n",
       "    </tr>\n",
       "    <tr>\n",
       "      <th>101651700</th>\n",
       "      <td>2012-07-10 20:15:13.577</td>\n",
       "      <td>18.0</td>\n",
       "    </tr>\n",
       "    <tr>\n",
       "      <th>...</th>\n",
       "      <td>...</td>\n",
       "      <td>...</td>\n",
       "    </tr>\n",
       "    <tr>\n",
       "      <th>304081302</th>\n",
       "      <td>2014-11-28 18:12:36.510</td>\n",
       "      <td>27.0</td>\n",
       "    </tr>\n",
       "    <tr>\n",
       "      <th>304533259</th>\n",
       "      <td>2014-11-29 03:38:59.400</td>\n",
       "      <td>27.0</td>\n",
       "    </tr>\n",
       "    <tr>\n",
       "      <th>321964077</th>\n",
       "      <td>2015-02-14 15:41:39.957</td>\n",
       "      <td>18.0</td>\n",
       "    </tr>\n",
       "    <tr>\n",
       "      <th>340965500</th>\n",
       "      <td>2015-05-04 00:46:51.963</td>\n",
       "      <td>27.0</td>\n",
       "    </tr>\n",
       "    <tr>\n",
       "      <th>354925108</th>\n",
       "      <td>2015-07-02 23:27:19.900</td>\n",
       "      <td>27.0</td>\n",
       "    </tr>\n",
       "    <tr>\n",
       "      <th>354925110</th>\n",
       "      <td>2015-07-02 23:27:19.923</td>\n",
       "      <td>27.0</td>\n",
       "    </tr>\n",
       "    <tr>\n",
       "      <th>354925149</th>\n",
       "      <td>2015-07-02 23:27:35.020</td>\n",
       "      <td>27.0</td>\n",
       "    </tr>\n",
       "    <tr>\n",
       "      <th>355677428</th>\n",
       "      <td>2015-07-06 14:22:28.343</td>\n",
       "      <td>27.0</td>\n",
       "    </tr>\n",
       "    <tr>\n",
       "      <th>428853252</th>\n",
       "      <td>2016-03-15 11:06:25.923</td>\n",
       "      <td>27.0</td>\n",
       "    </tr>\n",
       "    <tr>\n",
       "      <th>459987629</th>\n",
       "      <td>2016-06-23 00:56:11.733</td>\n",
       "      <td>27.0</td>\n",
       "    </tr>\n",
       "    <tr>\n",
       "      <th>479241261</th>\n",
       "      <td>2016-08-21 17:01:07.680</td>\n",
       "      <td>27.0</td>\n",
       "    </tr>\n",
       "    <tr>\n",
       "      <th>553755533</th>\n",
       "      <td>2016-12-11 01:51:25.660</td>\n",
       "      <td>18.0</td>\n",
       "    </tr>\n",
       "    <tr>\n",
       "      <th>612708254</th>\n",
       "      <td>2017-04-22 17:36:47.020</td>\n",
       "      <td>18.0</td>\n",
       "    </tr>\n",
       "    <tr>\n",
       "      <th>695167568</th>\n",
       "      <td>2017-10-28 06:21:57.953</td>\n",
       "      <td>27.0</td>\n",
       "    </tr>\n",
       "    <tr>\n",
       "      <th>710392281</th>\n",
       "      <td>2017-11-24 20:26:37.600</td>\n",
       "      <td>26.0</td>\n",
       "    </tr>\n",
       "    <tr>\n",
       "      <th rowspan=\"2\" valign=\"top\">729034207</th>\n",
       "      <th>632299445</th>\n",
       "      <td>2017-06-06 16:10:00.253</td>\n",
       "      <td>26.0</td>\n",
       "    </tr>\n",
       "    <tr>\n",
       "      <th>820986520</th>\n",
       "      <td>2017-08-12 10:58:08.000</td>\n",
       "      <td>9.0</td>\n",
       "    </tr>\n",
       "    <tr>\n",
       "      <th rowspan=\"3\" valign=\"top\">729083740</th>\n",
       "      <th>317167066</th>\n",
       "      <td>2015-01-22 13:58:39.020</td>\n",
       "      <td>18.0</td>\n",
       "    </tr>\n",
       "    <tr>\n",
       "      <th>606017996</th>\n",
       "      <td>2017-04-04 16:13:23.333</td>\n",
       "      <td>18.0</td>\n",
       "    </tr>\n",
       "    <tr>\n",
       "      <th>606018901</th>\n",
       "      <td>2017-04-04 16:15:02.787</td>\n",
       "      <td>18.0</td>\n",
       "    </tr>\n",
       "    <tr>\n",
       "      <th rowspan=\"3\" valign=\"top\">729090130</th>\n",
       "      <th>457211918</th>\n",
       "      <td>2016-06-14 06:21:24.427</td>\n",
       "      <td>101.0</td>\n",
       "    </tr>\n",
       "    <tr>\n",
       "      <th>669427415</th>\n",
       "      <td>2017-08-30 20:41:59.430</td>\n",
       "      <td>18.0</td>\n",
       "    </tr>\n",
       "    <tr>\n",
       "      <th>686412736</th>\n",
       "      <td>2017-10-08 13:16:09.103</td>\n",
       "      <td>44.0</td>\n",
       "    </tr>\n",
       "    <tr>\n",
       "      <th rowspan=\"2\" valign=\"top\">729113778</th>\n",
       "      <th>21464638</th>\n",
       "      <td>2010-04-22 10:58:55.857</td>\n",
       "      <td>27.0</td>\n",
       "    </tr>\n",
       "    <tr>\n",
       "      <th>30980785</th>\n",
       "      <td>2011-01-13 14:29:29.107</td>\n",
       "      <td>27.0</td>\n",
       "    </tr>\n",
       "    <tr>\n",
       "      <th>729120880</th>\n",
       "      <th>729117489</th>\n",
       "      <td>2018-01-01 19:27:16.737</td>\n",
       "      <td>18.0</td>\n",
       "    </tr>\n",
       "    <tr>\n",
       "      <th rowspan=\"2\" valign=\"top\">729132136</th>\n",
       "      <th>417958026</th>\n",
       "      <td>2016-02-08 15:43:10.797</td>\n",
       "      <td>18.0</td>\n",
       "    </tr>\n",
       "    <tr>\n",
       "      <th>674787485</th>\n",
       "      <td>2017-09-12 14:48:53.800</td>\n",
       "      <td>47.0</td>\n",
       "    </tr>\n",
       "    <tr>\n",
       "      <th>729146203</th>\n",
       "      <th>608155191</th>\n",
       "      <td>2017-04-10 09:29:45.867</td>\n",
       "      <td>18.0</td>\n",
       "    </tr>\n",
       "    <tr>\n",
       "      <th>729147938</th>\n",
       "      <th>200816559</th>\n",
       "      <td>2013-10-24 15:23:10.277</td>\n",
       "      <td>18.0</td>\n",
       "    </tr>\n",
       "  </tbody>\n",
       "</table>\n",
       "<p>100 rows × 2 columns</p>\n",
       "</div>"
      ],
      "text/plain": [
       "                            pedido_registro  pedido_status_id\n",
       "id        pedido_id                                          \n",
       "729015091 42329990  2011-08-02 20:02:42.070              18.0\n",
       "          43606089  2011-08-15 19:59:36.960              26.0\n",
       "          54691557  2011-09-19 20:10:24.570              44.0\n",
       "          55095321  2011-09-25 12:56:30.487              26.0\n",
       "          71166777  2011-10-11 10:16:14.497              18.0\n",
       "          72220616  2011-10-24 17:23:34.060              27.0\n",
       "          74102981  2011-11-14 17:01:00.097              18.0\n",
       "          74255434  2011-11-16 11:16:19.600              18.0\n",
       "          74774177  2011-11-21 21:50:52.640              18.0\n",
       "          75113642  2011-11-25 05:55:20.897              18.0\n",
       "          75821226  2011-12-01 18:06:48.847              18.0\n",
       "          76078766  2011-12-04 14:54:47.523              27.0\n",
       "          78054050  2011-12-20 14:41:36.403              18.0\n",
       "          78843136  2011-12-29 00:05:30.927              18.0\n",
       "          79091354  2012-01-01 10:56:14.220              18.0\n",
       "          79180861  2012-01-02 14:55:23.900              18.0\n",
       "          80644461  2012-01-14 22:15:50.583              18.0\n",
       "          81522751  2012-01-23 20:50:50.777              18.0\n",
       "          82720306  2012-02-04 16:54:57.277              18.0\n",
       "          85718219  2012-03-05 21:36:49.803               9.0\n",
       "          86357960  2012-03-11 21:07:39.000               9.0\n",
       "          90246124  2012-04-12 05:47:00.783              45.0\n",
       "          93971322  2012-05-09 20:33:34.483              26.0\n",
       "          96164419  2012-05-29 21:49:42.377              26.0\n",
       "          99844306  2012-06-27 14:09:50.543              27.0\n",
       "          100384944 2012-07-01 14:25:48.697              44.0\n",
       "          100789355 2012-07-04 11:45:38.790              27.0\n",
       "          101648543 2012-07-10 19:53:57.907              18.0\n",
       "          101649659 2012-07-10 20:02:27.140              18.0\n",
       "          101651700 2012-07-10 20:15:13.577              18.0\n",
       "...                                     ...               ...\n",
       "          304081302 2014-11-28 18:12:36.510              27.0\n",
       "          304533259 2014-11-29 03:38:59.400              27.0\n",
       "          321964077 2015-02-14 15:41:39.957              18.0\n",
       "          340965500 2015-05-04 00:46:51.963              27.0\n",
       "          354925108 2015-07-02 23:27:19.900              27.0\n",
       "          354925110 2015-07-02 23:27:19.923              27.0\n",
       "          354925149 2015-07-02 23:27:35.020              27.0\n",
       "          355677428 2015-07-06 14:22:28.343              27.0\n",
       "          428853252 2016-03-15 11:06:25.923              27.0\n",
       "          459987629 2016-06-23 00:56:11.733              27.0\n",
       "          479241261 2016-08-21 17:01:07.680              27.0\n",
       "          553755533 2016-12-11 01:51:25.660              18.0\n",
       "          612708254 2017-04-22 17:36:47.020              18.0\n",
       "          695167568 2017-10-28 06:21:57.953              27.0\n",
       "          710392281 2017-11-24 20:26:37.600              26.0\n",
       "729034207 632299445 2017-06-06 16:10:00.253              26.0\n",
       "          820986520 2017-08-12 10:58:08.000               9.0\n",
       "729083740 317167066 2015-01-22 13:58:39.020              18.0\n",
       "          606017996 2017-04-04 16:13:23.333              18.0\n",
       "          606018901 2017-04-04 16:15:02.787              18.0\n",
       "729090130 457211918 2016-06-14 06:21:24.427             101.0\n",
       "          669427415 2017-08-30 20:41:59.430              18.0\n",
       "          686412736 2017-10-08 13:16:09.103              44.0\n",
       "729113778 21464638  2010-04-22 10:58:55.857              27.0\n",
       "          30980785  2011-01-13 14:29:29.107              27.0\n",
       "729120880 729117489 2018-01-01 19:27:16.737              18.0\n",
       "729132136 417958026 2016-02-08 15:43:10.797              18.0\n",
       "          674787485 2017-09-12 14:48:53.800              47.0\n",
       "729146203 608155191 2017-04-10 09:29:45.867              18.0\n",
       "729147938 200816559 2013-10-24 15:23:10.277              18.0\n",
       "\n",
       "[100 rows x 2 columns]"
      ]
     },
     "execution_count": 201,
     "metadata": {},
     "output_type": "execute_result"
    }
   ],
   "source": [
    "minidf = (df\n",
    "          .set_index(['id','pedido_id'])\n",
    "          .sort_index()\n",
    "          .loc[:,['pedido_registro','pedido_status_id']]\n",
    "          .head(100))\n",
    "minidf"
   ]
  },
  {
   "cell_type": "code",
   "execution_count": 202,
   "metadata": {
    "ExecuteTime": {
     "end_time": "2019-09-18T12:38:10.848511Z",
     "start_time": "2019-09-18T12:38:10.827471Z"
    },
    "scrolled": true
   },
   "outputs": [
    {
     "data": {
      "text/html": [
       "<div>\n",
       "<style scoped>\n",
       "    .dataframe tbody tr th:only-of-type {\n",
       "        vertical-align: middle;\n",
       "    }\n",
       "\n",
       "    .dataframe tbody tr th {\n",
       "        vertical-align: top;\n",
       "    }\n",
       "\n",
       "    .dataframe thead th {\n",
       "        text-align: right;\n",
       "    }\n",
       "</style>\n",
       "<table border=\"1\" class=\"dataframe\">\n",
       "  <thead>\n",
       "    <tr style=\"text-align: right;\">\n",
       "      <th></th>\n",
       "      <th>id</th>\n",
       "      <th>pedido_id</th>\n",
       "      <th>pedido_registro</th>\n",
       "      <th>pedido_status_id</th>\n",
       "    </tr>\n",
       "  </thead>\n",
       "  <tbody>\n",
       "    <tr>\n",
       "      <th>0</th>\n",
       "      <td>729015091</td>\n",
       "      <td>42329990</td>\n",
       "      <td>2011-08-02 20:02:42.070</td>\n",
       "      <td>18.0</td>\n",
       "    </tr>\n",
       "    <tr>\n",
       "      <th>1</th>\n",
       "      <td>729015091</td>\n",
       "      <td>43606089</td>\n",
       "      <td>2011-08-15 19:59:36.960</td>\n",
       "      <td>26.0</td>\n",
       "    </tr>\n",
       "    <tr>\n",
       "      <th>2</th>\n",
       "      <td>729015091</td>\n",
       "      <td>54691557</td>\n",
       "      <td>2011-09-19 20:10:24.570</td>\n",
       "      <td>44.0</td>\n",
       "    </tr>\n",
       "    <tr>\n",
       "      <th>3</th>\n",
       "      <td>729015091</td>\n",
       "      <td>55095321</td>\n",
       "      <td>2011-09-25 12:56:30.487</td>\n",
       "      <td>26.0</td>\n",
       "    </tr>\n",
       "    <tr>\n",
       "      <th>4</th>\n",
       "      <td>729015091</td>\n",
       "      <td>71166777</td>\n",
       "      <td>2011-10-11 10:16:14.497</td>\n",
       "      <td>18.0</td>\n",
       "    </tr>\n",
       "    <tr>\n",
       "      <th>5</th>\n",
       "      <td>729015091</td>\n",
       "      <td>72220616</td>\n",
       "      <td>2011-10-24 17:23:34.060</td>\n",
       "      <td>27.0</td>\n",
       "    </tr>\n",
       "    <tr>\n",
       "      <th>6</th>\n",
       "      <td>729015091</td>\n",
       "      <td>74102981</td>\n",
       "      <td>2011-11-14 17:01:00.097</td>\n",
       "      <td>18.0</td>\n",
       "    </tr>\n",
       "    <tr>\n",
       "      <th>7</th>\n",
       "      <td>729015091</td>\n",
       "      <td>74255434</td>\n",
       "      <td>2011-11-16 11:16:19.600</td>\n",
       "      <td>18.0</td>\n",
       "    </tr>\n",
       "    <tr>\n",
       "      <th>8</th>\n",
       "      <td>729015091</td>\n",
       "      <td>74774177</td>\n",
       "      <td>2011-11-21 21:50:52.640</td>\n",
       "      <td>18.0</td>\n",
       "    </tr>\n",
       "    <tr>\n",
       "      <th>9</th>\n",
       "      <td>729015091</td>\n",
       "      <td>75113642</td>\n",
       "      <td>2011-11-25 05:55:20.897</td>\n",
       "      <td>18.0</td>\n",
       "    </tr>\n",
       "    <tr>\n",
       "      <th>10</th>\n",
       "      <td>729015091</td>\n",
       "      <td>75821226</td>\n",
       "      <td>2011-12-01 18:06:48.847</td>\n",
       "      <td>18.0</td>\n",
       "    </tr>\n",
       "    <tr>\n",
       "      <th>11</th>\n",
       "      <td>729015091</td>\n",
       "      <td>76078766</td>\n",
       "      <td>2011-12-04 14:54:47.523</td>\n",
       "      <td>27.0</td>\n",
       "    </tr>\n",
       "    <tr>\n",
       "      <th>12</th>\n",
       "      <td>729015091</td>\n",
       "      <td>78054050</td>\n",
       "      <td>2011-12-20 14:41:36.403</td>\n",
       "      <td>18.0</td>\n",
       "    </tr>\n",
       "    <tr>\n",
       "      <th>13</th>\n",
       "      <td>729015091</td>\n",
       "      <td>78843136</td>\n",
       "      <td>2011-12-29 00:05:30.927</td>\n",
       "      <td>18.0</td>\n",
       "    </tr>\n",
       "    <tr>\n",
       "      <th>14</th>\n",
       "      <td>729015091</td>\n",
       "      <td>79091354</td>\n",
       "      <td>2012-01-01 10:56:14.220</td>\n",
       "      <td>18.0</td>\n",
       "    </tr>\n",
       "    <tr>\n",
       "      <th>15</th>\n",
       "      <td>729015091</td>\n",
       "      <td>79180861</td>\n",
       "      <td>2012-01-02 14:55:23.900</td>\n",
       "      <td>18.0</td>\n",
       "    </tr>\n",
       "    <tr>\n",
       "      <th>16</th>\n",
       "      <td>729015091</td>\n",
       "      <td>80644461</td>\n",
       "      <td>2012-01-14 22:15:50.583</td>\n",
       "      <td>18.0</td>\n",
       "    </tr>\n",
       "    <tr>\n",
       "      <th>17</th>\n",
       "      <td>729015091</td>\n",
       "      <td>81522751</td>\n",
       "      <td>2012-01-23 20:50:50.777</td>\n",
       "      <td>18.0</td>\n",
       "    </tr>\n",
       "    <tr>\n",
       "      <th>18</th>\n",
       "      <td>729015091</td>\n",
       "      <td>82720306</td>\n",
       "      <td>2012-02-04 16:54:57.277</td>\n",
       "      <td>18.0</td>\n",
       "    </tr>\n",
       "    <tr>\n",
       "      <th>19</th>\n",
       "      <td>729015091</td>\n",
       "      <td>85718219</td>\n",
       "      <td>2012-03-05 21:36:49.803</td>\n",
       "      <td>9.0</td>\n",
       "    </tr>\n",
       "    <tr>\n",
       "      <th>20</th>\n",
       "      <td>729015091</td>\n",
       "      <td>86357960</td>\n",
       "      <td>2012-03-11 21:07:39.000</td>\n",
       "      <td>9.0</td>\n",
       "    </tr>\n",
       "    <tr>\n",
       "      <th>21</th>\n",
       "      <td>729015091</td>\n",
       "      <td>90246124</td>\n",
       "      <td>2012-04-12 05:47:00.783</td>\n",
       "      <td>45.0</td>\n",
       "    </tr>\n",
       "    <tr>\n",
       "      <th>22</th>\n",
       "      <td>729015091</td>\n",
       "      <td>93971322</td>\n",
       "      <td>2012-05-09 20:33:34.483</td>\n",
       "      <td>26.0</td>\n",
       "    </tr>\n",
       "    <tr>\n",
       "      <th>23</th>\n",
       "      <td>729015091</td>\n",
       "      <td>96164419</td>\n",
       "      <td>2012-05-29 21:49:42.377</td>\n",
       "      <td>26.0</td>\n",
       "    </tr>\n",
       "    <tr>\n",
       "      <th>24</th>\n",
       "      <td>729015091</td>\n",
       "      <td>99844306</td>\n",
       "      <td>2012-06-27 14:09:50.543</td>\n",
       "      <td>27.0</td>\n",
       "    </tr>\n",
       "    <tr>\n",
       "      <th>25</th>\n",
       "      <td>729015091</td>\n",
       "      <td>100384944</td>\n",
       "      <td>2012-07-01 14:25:48.697</td>\n",
       "      <td>44.0</td>\n",
       "    </tr>\n",
       "    <tr>\n",
       "      <th>26</th>\n",
       "      <td>729015091</td>\n",
       "      <td>100789355</td>\n",
       "      <td>2012-07-04 11:45:38.790</td>\n",
       "      <td>27.0</td>\n",
       "    </tr>\n",
       "    <tr>\n",
       "      <th>27</th>\n",
       "      <td>729015091</td>\n",
       "      <td>101648543</td>\n",
       "      <td>2012-07-10 19:53:57.907</td>\n",
       "      <td>18.0</td>\n",
       "    </tr>\n",
       "    <tr>\n",
       "      <th>28</th>\n",
       "      <td>729015091</td>\n",
       "      <td>101649659</td>\n",
       "      <td>2012-07-10 20:02:27.140</td>\n",
       "      <td>18.0</td>\n",
       "    </tr>\n",
       "    <tr>\n",
       "      <th>29</th>\n",
       "      <td>729015091</td>\n",
       "      <td>101651700</td>\n",
       "      <td>2012-07-10 20:15:13.577</td>\n",
       "      <td>18.0</td>\n",
       "    </tr>\n",
       "    <tr>\n",
       "      <th>...</th>\n",
       "      <td>...</td>\n",
       "      <td>...</td>\n",
       "      <td>...</td>\n",
       "      <td>...</td>\n",
       "    </tr>\n",
       "    <tr>\n",
       "      <th>70</th>\n",
       "      <td>729015091</td>\n",
       "      <td>304081302</td>\n",
       "      <td>2014-11-28 18:12:36.510</td>\n",
       "      <td>27.0</td>\n",
       "    </tr>\n",
       "    <tr>\n",
       "      <th>71</th>\n",
       "      <td>729015091</td>\n",
       "      <td>304533259</td>\n",
       "      <td>2014-11-29 03:38:59.400</td>\n",
       "      <td>27.0</td>\n",
       "    </tr>\n",
       "    <tr>\n",
       "      <th>72</th>\n",
       "      <td>729015091</td>\n",
       "      <td>321964077</td>\n",
       "      <td>2015-02-14 15:41:39.957</td>\n",
       "      <td>18.0</td>\n",
       "    </tr>\n",
       "    <tr>\n",
       "      <th>73</th>\n",
       "      <td>729015091</td>\n",
       "      <td>340965500</td>\n",
       "      <td>2015-05-04 00:46:51.963</td>\n",
       "      <td>27.0</td>\n",
       "    </tr>\n",
       "    <tr>\n",
       "      <th>74</th>\n",
       "      <td>729015091</td>\n",
       "      <td>354925108</td>\n",
       "      <td>2015-07-02 23:27:19.900</td>\n",
       "      <td>27.0</td>\n",
       "    </tr>\n",
       "    <tr>\n",
       "      <th>75</th>\n",
       "      <td>729015091</td>\n",
       "      <td>354925110</td>\n",
       "      <td>2015-07-02 23:27:19.923</td>\n",
       "      <td>27.0</td>\n",
       "    </tr>\n",
       "    <tr>\n",
       "      <th>76</th>\n",
       "      <td>729015091</td>\n",
       "      <td>354925149</td>\n",
       "      <td>2015-07-02 23:27:35.020</td>\n",
       "      <td>27.0</td>\n",
       "    </tr>\n",
       "    <tr>\n",
       "      <th>77</th>\n",
       "      <td>729015091</td>\n",
       "      <td>355677428</td>\n",
       "      <td>2015-07-06 14:22:28.343</td>\n",
       "      <td>27.0</td>\n",
       "    </tr>\n",
       "    <tr>\n",
       "      <th>78</th>\n",
       "      <td>729015091</td>\n",
       "      <td>428853252</td>\n",
       "      <td>2016-03-15 11:06:25.923</td>\n",
       "      <td>27.0</td>\n",
       "    </tr>\n",
       "    <tr>\n",
       "      <th>79</th>\n",
       "      <td>729015091</td>\n",
       "      <td>459987629</td>\n",
       "      <td>2016-06-23 00:56:11.733</td>\n",
       "      <td>27.0</td>\n",
       "    </tr>\n",
       "    <tr>\n",
       "      <th>80</th>\n",
       "      <td>729015091</td>\n",
       "      <td>479241261</td>\n",
       "      <td>2016-08-21 17:01:07.680</td>\n",
       "      <td>27.0</td>\n",
       "    </tr>\n",
       "    <tr>\n",
       "      <th>81</th>\n",
       "      <td>729015091</td>\n",
       "      <td>553755533</td>\n",
       "      <td>2016-12-11 01:51:25.660</td>\n",
       "      <td>18.0</td>\n",
       "    </tr>\n",
       "    <tr>\n",
       "      <th>82</th>\n",
       "      <td>729015091</td>\n",
       "      <td>612708254</td>\n",
       "      <td>2017-04-22 17:36:47.020</td>\n",
       "      <td>18.0</td>\n",
       "    </tr>\n",
       "    <tr>\n",
       "      <th>83</th>\n",
       "      <td>729015091</td>\n",
       "      <td>695167568</td>\n",
       "      <td>2017-10-28 06:21:57.953</td>\n",
       "      <td>27.0</td>\n",
       "    </tr>\n",
       "    <tr>\n",
       "      <th>84</th>\n",
       "      <td>729015091</td>\n",
       "      <td>710392281</td>\n",
       "      <td>2017-11-24 20:26:37.600</td>\n",
       "      <td>26.0</td>\n",
       "    </tr>\n",
       "    <tr>\n",
       "      <th>85</th>\n",
       "      <td>729034207</td>\n",
       "      <td>632299445</td>\n",
       "      <td>2017-06-06 16:10:00.253</td>\n",
       "      <td>26.0</td>\n",
       "    </tr>\n",
       "    <tr>\n",
       "      <th>86</th>\n",
       "      <td>729034207</td>\n",
       "      <td>820986520</td>\n",
       "      <td>2017-08-12 10:58:08.000</td>\n",
       "      <td>9.0</td>\n",
       "    </tr>\n",
       "    <tr>\n",
       "      <th>87</th>\n",
       "      <td>729083740</td>\n",
       "      <td>317167066</td>\n",
       "      <td>2015-01-22 13:58:39.020</td>\n",
       "      <td>18.0</td>\n",
       "    </tr>\n",
       "    <tr>\n",
       "      <th>88</th>\n",
       "      <td>729083740</td>\n",
       "      <td>606017996</td>\n",
       "      <td>2017-04-04 16:13:23.333</td>\n",
       "      <td>18.0</td>\n",
       "    </tr>\n",
       "    <tr>\n",
       "      <th>89</th>\n",
       "      <td>729083740</td>\n",
       "      <td>606018901</td>\n",
       "      <td>2017-04-04 16:15:02.787</td>\n",
       "      <td>18.0</td>\n",
       "    </tr>\n",
       "    <tr>\n",
       "      <th>90</th>\n",
       "      <td>729090130</td>\n",
       "      <td>457211918</td>\n",
       "      <td>2016-06-14 06:21:24.427</td>\n",
       "      <td>101.0</td>\n",
       "    </tr>\n",
       "    <tr>\n",
       "      <th>91</th>\n",
       "      <td>729090130</td>\n",
       "      <td>669427415</td>\n",
       "      <td>2017-08-30 20:41:59.430</td>\n",
       "      <td>18.0</td>\n",
       "    </tr>\n",
       "    <tr>\n",
       "      <th>92</th>\n",
       "      <td>729090130</td>\n",
       "      <td>686412736</td>\n",
       "      <td>2017-10-08 13:16:09.103</td>\n",
       "      <td>44.0</td>\n",
       "    </tr>\n",
       "    <tr>\n",
       "      <th>93</th>\n",
       "      <td>729113778</td>\n",
       "      <td>21464638</td>\n",
       "      <td>2010-04-22 10:58:55.857</td>\n",
       "      <td>27.0</td>\n",
       "    </tr>\n",
       "    <tr>\n",
       "      <th>94</th>\n",
       "      <td>729113778</td>\n",
       "      <td>30980785</td>\n",
       "      <td>2011-01-13 14:29:29.107</td>\n",
       "      <td>27.0</td>\n",
       "    </tr>\n",
       "    <tr>\n",
       "      <th>95</th>\n",
       "      <td>729120880</td>\n",
       "      <td>729117489</td>\n",
       "      <td>2018-01-01 19:27:16.737</td>\n",
       "      <td>18.0</td>\n",
       "    </tr>\n",
       "    <tr>\n",
       "      <th>96</th>\n",
       "      <td>729132136</td>\n",
       "      <td>417958026</td>\n",
       "      <td>2016-02-08 15:43:10.797</td>\n",
       "      <td>18.0</td>\n",
       "    </tr>\n",
       "    <tr>\n",
       "      <th>97</th>\n",
       "      <td>729132136</td>\n",
       "      <td>674787485</td>\n",
       "      <td>2017-09-12 14:48:53.800</td>\n",
       "      <td>47.0</td>\n",
       "    </tr>\n",
       "    <tr>\n",
       "      <th>98</th>\n",
       "      <td>729146203</td>\n",
       "      <td>608155191</td>\n",
       "      <td>2017-04-10 09:29:45.867</td>\n",
       "      <td>18.0</td>\n",
       "    </tr>\n",
       "    <tr>\n",
       "      <th>99</th>\n",
       "      <td>729147938</td>\n",
       "      <td>200816559</td>\n",
       "      <td>2013-10-24 15:23:10.277</td>\n",
       "      <td>18.0</td>\n",
       "    </tr>\n",
       "  </tbody>\n",
       "</table>\n",
       "<p>100 rows × 4 columns</p>\n",
       "</div>"
      ],
      "text/plain": [
       "           id  pedido_id         pedido_registro  pedido_status_id\n",
       "0   729015091   42329990 2011-08-02 20:02:42.070              18.0\n",
       "1   729015091   43606089 2011-08-15 19:59:36.960              26.0\n",
       "2   729015091   54691557 2011-09-19 20:10:24.570              44.0\n",
       "3   729015091   55095321 2011-09-25 12:56:30.487              26.0\n",
       "4   729015091   71166777 2011-10-11 10:16:14.497              18.0\n",
       "5   729015091   72220616 2011-10-24 17:23:34.060              27.0\n",
       "6   729015091   74102981 2011-11-14 17:01:00.097              18.0\n",
       "7   729015091   74255434 2011-11-16 11:16:19.600              18.0\n",
       "8   729015091   74774177 2011-11-21 21:50:52.640              18.0\n",
       "9   729015091   75113642 2011-11-25 05:55:20.897              18.0\n",
       "10  729015091   75821226 2011-12-01 18:06:48.847              18.0\n",
       "11  729015091   76078766 2011-12-04 14:54:47.523              27.0\n",
       "12  729015091   78054050 2011-12-20 14:41:36.403              18.0\n",
       "13  729015091   78843136 2011-12-29 00:05:30.927              18.0\n",
       "14  729015091   79091354 2012-01-01 10:56:14.220              18.0\n",
       "15  729015091   79180861 2012-01-02 14:55:23.900              18.0\n",
       "16  729015091   80644461 2012-01-14 22:15:50.583              18.0\n",
       "17  729015091   81522751 2012-01-23 20:50:50.777              18.0\n",
       "18  729015091   82720306 2012-02-04 16:54:57.277              18.0\n",
       "19  729015091   85718219 2012-03-05 21:36:49.803               9.0\n",
       "20  729015091   86357960 2012-03-11 21:07:39.000               9.0\n",
       "21  729015091   90246124 2012-04-12 05:47:00.783              45.0\n",
       "22  729015091   93971322 2012-05-09 20:33:34.483              26.0\n",
       "23  729015091   96164419 2012-05-29 21:49:42.377              26.0\n",
       "24  729015091   99844306 2012-06-27 14:09:50.543              27.0\n",
       "25  729015091  100384944 2012-07-01 14:25:48.697              44.0\n",
       "26  729015091  100789355 2012-07-04 11:45:38.790              27.0\n",
       "27  729015091  101648543 2012-07-10 19:53:57.907              18.0\n",
       "28  729015091  101649659 2012-07-10 20:02:27.140              18.0\n",
       "29  729015091  101651700 2012-07-10 20:15:13.577              18.0\n",
       "..        ...        ...                     ...               ...\n",
       "70  729015091  304081302 2014-11-28 18:12:36.510              27.0\n",
       "71  729015091  304533259 2014-11-29 03:38:59.400              27.0\n",
       "72  729015091  321964077 2015-02-14 15:41:39.957              18.0\n",
       "73  729015091  340965500 2015-05-04 00:46:51.963              27.0\n",
       "74  729015091  354925108 2015-07-02 23:27:19.900              27.0\n",
       "75  729015091  354925110 2015-07-02 23:27:19.923              27.0\n",
       "76  729015091  354925149 2015-07-02 23:27:35.020              27.0\n",
       "77  729015091  355677428 2015-07-06 14:22:28.343              27.0\n",
       "78  729015091  428853252 2016-03-15 11:06:25.923              27.0\n",
       "79  729015091  459987629 2016-06-23 00:56:11.733              27.0\n",
       "80  729015091  479241261 2016-08-21 17:01:07.680              27.0\n",
       "81  729015091  553755533 2016-12-11 01:51:25.660              18.0\n",
       "82  729015091  612708254 2017-04-22 17:36:47.020              18.0\n",
       "83  729015091  695167568 2017-10-28 06:21:57.953              27.0\n",
       "84  729015091  710392281 2017-11-24 20:26:37.600              26.0\n",
       "85  729034207  632299445 2017-06-06 16:10:00.253              26.0\n",
       "86  729034207  820986520 2017-08-12 10:58:08.000               9.0\n",
       "87  729083740  317167066 2015-01-22 13:58:39.020              18.0\n",
       "88  729083740  606017996 2017-04-04 16:13:23.333              18.0\n",
       "89  729083740  606018901 2017-04-04 16:15:02.787              18.0\n",
       "90  729090130  457211918 2016-06-14 06:21:24.427             101.0\n",
       "91  729090130  669427415 2017-08-30 20:41:59.430              18.0\n",
       "92  729090130  686412736 2017-10-08 13:16:09.103              44.0\n",
       "93  729113778   21464638 2010-04-22 10:58:55.857              27.0\n",
       "94  729113778   30980785 2011-01-13 14:29:29.107              27.0\n",
       "95  729120880  729117489 2018-01-01 19:27:16.737              18.0\n",
       "96  729132136  417958026 2016-02-08 15:43:10.797              18.0\n",
       "97  729132136  674787485 2017-09-12 14:48:53.800              47.0\n",
       "98  729146203  608155191 2017-04-10 09:29:45.867              18.0\n",
       "99  729147938  200816559 2013-10-24 15:23:10.277              18.0\n",
       "\n",
       "[100 rows x 4 columns]"
      ]
     },
     "execution_count": 202,
     "metadata": {},
     "output_type": "execute_result"
    }
   ],
   "source": [
    "minidf.reset_index(drop=False)"
   ]
  },
  {
   "cell_type": "markdown",
   "metadata": {},
   "source": [
    "# Manipulação de tabelas"
   ]
  },
  {
   "cell_type": "markdown",
   "metadata": {},
   "source": [
    "## Funções de concatenação\n",
    "\n",
    "* pd.concat\n",
    "* pd.DataFrame.append"
   ]
  },
  {
   "cell_type": "code",
   "execution_count": 57,
   "metadata": {
    "ExecuteTime": {
     "end_time": "2020-04-27T13:29:35.125755Z",
     "start_time": "2020-04-27T13:29:35.115745Z"
    }
   },
   "outputs": [
    {
     "data": {
      "text/plain": [
       "10    1\n",
       "9     2\n",
       "8     3\n",
       "Name: col1, dtype: int64"
      ]
     },
     "metadata": {},
     "output_type": "display_data"
    },
    {
     "data": {
      "text/plain": [
       "0    4\n",
       "1    5\n",
       "2    6\n",
       "Name: col2, dtype: int64"
      ]
     },
     "metadata": {},
     "output_type": "display_data"
    }
   ],
   "source": [
    "a = pd.Series([1,2,3], index=[10,9,8], name='col1')\n",
    "b = pd.Series([4,5,6], name='col2')\n",
    "\n",
    "display(a)\n",
    "display(b)"
   ]
  },
  {
   "cell_type": "code",
   "execution_count": 219,
   "metadata": {
    "ExecuteTime": {
     "end_time": "2019-09-18T12:44:57.538222Z",
     "start_time": "2019-09-18T12:44:57.533226Z"
    }
   },
   "outputs": [
    {
     "data": {
      "text/plain": [
       "10    1\n",
       "9     2\n",
       "8     3\n",
       "0     4\n",
       "1     5\n",
       "2     6\n",
       "dtype: int64"
      ]
     },
     "execution_count": 219,
     "metadata": {},
     "output_type": "execute_result"
    }
   ],
   "source": [
    "# Concatenando verticalmente (equivalentes: np.vstack(), rbind do R)\n",
    "pd.concat([a,b])"
   ]
  },
  {
   "cell_type": "code",
   "execution_count": 62,
   "metadata": {
    "ExecuteTime": {
     "end_time": "2020-04-27T13:31:45.214478Z",
     "start_time": "2020-04-27T13:31:45.208457Z"
    }
   },
   "outputs": [
    {
     "data": {
      "text/plain": [
       "0    1\n",
       "1    2\n",
       "2    3\n",
       "3    4\n",
       "4    5\n",
       "5    6\n",
       "dtype: int64"
      ]
     },
     "execution_count": 62,
     "metadata": {},
     "output_type": "execute_result"
    }
   ],
   "source": [
    "# Concatenando horizontalmente (equivalentes: np.hstack(), cbind do R)\n",
    "pd.concat([a,b], axis=0, ignore_index=True)"
   ]
  },
  {
   "cell_type": "code",
   "execution_count": 63,
   "metadata": {
    "ExecuteTime": {
     "end_time": "2020-04-27T13:32:36.890523Z",
     "start_time": "2020-04-27T13:32:36.876509Z"
    }
   },
   "outputs": [
    {
     "data": {
      "text/html": [
       "<div>\n",
       "<style scoped>\n",
       "    .dataframe tbody tr th:only-of-type {\n",
       "        vertical-align: middle;\n",
       "    }\n",
       "\n",
       "    .dataframe tbody tr th {\n",
       "        vertical-align: top;\n",
       "    }\n",
       "\n",
       "    .dataframe thead th {\n",
       "        text-align: right;\n",
       "    }\n",
       "</style>\n",
       "<table border=\"1\" class=\"dataframe\">\n",
       "  <thead>\n",
       "    <tr style=\"text-align: right;\">\n",
       "      <th></th>\n",
       "      <th>col1</th>\n",
       "      <th>col2</th>\n",
       "    </tr>\n",
       "  </thead>\n",
       "  <tbody>\n",
       "    <tr>\n",
       "      <th>0</th>\n",
       "      <td>1</td>\n",
       "      <td>4</td>\n",
       "    </tr>\n",
       "    <tr>\n",
       "      <th>1</th>\n",
       "      <td>2</td>\n",
       "      <td>5</td>\n",
       "    </tr>\n",
       "    <tr>\n",
       "      <th>2</th>\n",
       "      <td>3</td>\n",
       "      <td>6</td>\n",
       "    </tr>\n",
       "  </tbody>\n",
       "</table>\n",
       "</div>"
      ],
      "text/plain": [
       "   col1  col2\n",
       "0     1     4\n",
       "1     2     5\n",
       "2     3     6"
      ]
     },
     "execution_count": 63,
     "metadata": {},
     "output_type": "execute_result"
    }
   ],
   "source": [
    "# Concatenando horizontalmente (equivalentes: np.hstack(), cbind do R)\n",
    "pd.concat([x.reset_index(drop=True) for x in [a,b]], axis=1)"
   ]
  },
  {
   "cell_type": "markdown",
   "metadata": {},
   "source": [
    "## Joins\n",
    "\n",
    "* df.join(df2, left_on=[''], right_on=[''], how='left/inner/full/right')\n",
    "* df.merge(df2,how='inner/full/left/right')\n",
    "* pd.merge(df1, df2, how='inner/full/left/right')"
   ]
  },
  {
   "cell_type": "code",
   "execution_count": null,
   "metadata": {},
   "outputs": [],
   "source": [
    "# rolling join: pd.merge_asof()"
   ]
  },
  {
   "cell_type": "markdown",
   "metadata": {},
   "source": [
    "## Métodos úteis\n",
    "\n",
    "pd.Series:\n",
    "\n",
    "* s.isin()\n",
    "* s.isna()\n",
    "* s.notna()\n",
    "* s.fillna()\n",
    "* s.nlargest()\n",
    "* s.nsmallest()\n",
    "* s.unique()\n",
    "* s.nunique()\n",
    "* s.idxmax()\n",
    "* s.idxmin()\n",
    "\n",
    "<br> \n",
    "\n",
    "pd.DataFrame:\n",
    "\n",
    "* df.isna()\n",
    "* df.notna()\n",
    "* df.fillna()\n",
    "* df.drop_duplicates()\n",
    "* df.sort_values()"
   ]
  },
  {
   "cell_type": "code",
   "execution_count": null,
   "metadata": {},
   "outputs": [],
   "source": []
  }
 ],
 "metadata": {
  "hide_input": false,
  "kernelspec": {
   "display_name": "Python 3",
   "language": "python",
   "name": "python3"
  },
  "language_info": {
   "codemirror_mode": {
    "name": "ipython",
    "version": 3
   },
   "file_extension": ".py",
   "mimetype": "text/x-python",
   "name": "python",
   "nbconvert_exporter": "python",
   "pygments_lexer": "ipython3",
   "version": "3.7.3"
  },
  "toc": {
   "base_numbering": 1,
   "nav_menu": {},
   "number_sections": true,
   "sideBar": true,
   "skip_h1_title": false,
   "title_cell": "Table of Contents",
   "title_sidebar": "Contents",
   "toc_cell": false,
   "toc_position": {
    "height": "calc(100% - 180px)",
    "left": "10px",
    "top": "150px",
    "width": "214.602px"
   },
   "toc_section_display": true,
   "toc_window_display": true
  },
  "varInspector": {
   "cols": {
    "lenName": 16,
    "lenType": 16,
    "lenVar": 40
   },
   "kernels_config": {
    "python": {
     "delete_cmd_postfix": "",
     "delete_cmd_prefix": "del ",
     "library": "var_list.py",
     "varRefreshCmd": "print(var_dic_list())"
    },
    "r": {
     "delete_cmd_postfix": ") ",
     "delete_cmd_prefix": "rm(",
     "library": "var_list.r",
     "varRefreshCmd": "cat(var_dic_list()) "
    }
   },
   "types_to_exclude": [
    "module",
    "function",
    "builtin_function_or_method",
    "instance",
    "_Feature"
   ],
   "window_display": false
  }
 },
 "nbformat": 4,
 "nbformat_minor": 2
}
